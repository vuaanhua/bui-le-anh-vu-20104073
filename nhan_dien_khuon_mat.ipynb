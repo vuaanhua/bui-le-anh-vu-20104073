{
  "cells": [
    {
      "cell_type": "markdown",
      "metadata": {
        "id": "view-in-github",
        "colab_type": "text"
      },
      "source": [
        "<a href=\"https://colab.research.google.com/github/vuaanhua/bui-le-anh-vu-20104073/blob/main/nhan_dien_khuon_mat.ipynb\" target=\"_parent\"><img src=\"https://colab.research.google.com/assets/colab-badge.svg\" alt=\"Open In Colab\"/></a>"
      ]
    },
    {
      "cell_type": "code",
      "execution_count": 30,
      "metadata": {
        "id": "7JvPq60v1Wwp"
      },
      "outputs": [],
      "source": [
        "from sklearn.model_selection import train_test_split\n",
        "import matplotlib.pyplot as plt\n",
        "import os\n",
        "import numpy as np\n",
        "import tensorflow as tf\n",
        "from keras.utils import np_utils\n",
        "from keras.models import Sequential\n",
        "from keras.layers import Dense, Activation, Dropout, Conv2D, MaxPooling2D, Flatten\n",
        "from tensorflow.keras.optimizers import SGD, RMSprop\n",
        "from keras.callbacks import EarlyStopping, ModelCheckpoint\n",
        "from sklearn.utils import validation \n",
        "from sklearn import preprocessing\n",
        "from tensorflow.keras.utils import to_categorical\n",
        "from tensorflow.keras.models import load_model\n",
        "from tensorflow.keras.utils import load_img, img_to_array\n",
        "from tensorflow.keras.preprocessing.image import ImageDataGenerator"
      ]
    },
    {
      "cell_type": "code",
      "execution_count": 33,
      "metadata": {
        "colab": {
          "base_uri": "https://localhost:8080/"
        },
        "id": "Gr-ZBslx1e6c",
        "outputId": "dca633ee-88c7-4bf0-ee63-8a5a46bbdaf1"
      },
      "outputs": [
        {
          "output_type": "stream",
          "name": "stdout",
          "text": [
            "Drive already mounted at /content/drive; to attempt to forcibly remount, call drive.mount(\"/content/drive\", force_remount=True).\n"
          ]
        }
      ],
      "source": [
        "from google.colab import drive\n",
        "drive.mount('/content/drive')"
      ]
    },
    {
      "cell_type": "code",
      "execution_count": 34,
      "metadata": {
        "colab": {
          "base_uri": "https://localhost:8080/"
        },
        "id": "ewqC0H602CT-",
        "outputId": "c28fda12-d367-4f77-966c-6dedc6484224"
      },
      "outputs": [
        {
          "output_type": "stream",
          "name": "stdout",
          "text": [
            "/content/drive/My Drive/Colab Notebooks/BTVN3/face\n"
          ]
        }
      ],
      "source": [
        "%cd /content/drive/My Drive/Colab Notebooks/BTVN3/face/"
      ]
    },
    {
      "cell_type": "code",
      "execution_count": 35,
      "metadata": {
        "id": "7IX_gmgN3D01"
      },
      "outputs": [],
      "source": [
        "train_datagen=ImageDataGenerator(rescale=1./255, shear_range=0.2, zoom_range=0.2, horizontal_flip=True)"
      ]
    },
    {
      "cell_type": "code",
      "execution_count": 36,
      "metadata": {
        "colab": {
          "base_uri": "https://localhost:8080/"
        },
        "id": "KPr8IKFM3N4k",
        "outputId": "29aa70f7-40e5-4d8e-8729-9a3eaf2465bd"
      },
      "outputs": [
        {
          "output_type": "stream",
          "name": "stdout",
          "text": [
            "Found 85 images belonging to 2 classes.\n"
          ]
        }
      ],
      "source": [
        "training_set=train_datagen.flow_from_directory('/content/drive/MyDrive/Colab Notebooks/BTVN3/face/train',target_size=(150,150), batch_size=32, class_mode='categorical')"
      ]
    },
    {
      "cell_type": "code",
      "execution_count": 37,
      "metadata": {
        "colab": {
          "base_uri": "https://localhost:8080/"
        },
        "id": "nima52s03aac",
        "outputId": "61b00157-014a-486b-8ff5-ce4c0ecc8b96"
      },
      "outputs": [
        {
          "output_type": "stream",
          "name": "stdout",
          "text": [
            "Found 39 images belonging to 2 classes.\n"
          ]
        }
      ],
      "source": [
        "input =train_datagen.flow_from_directory('/content/drive/MyDrive/Colab Notebooks/BTVN3/face/input',target_size=(150,150), batch_size=32, class_mode='categorical')"
      ]
    },
    {
      "cell_type": "code",
      "execution_count": 38,
      "metadata": {
        "colab": {
          "base_uri": "https://localhost:8080/"
        },
        "id": "6FQ6ugX13vSL",
        "outputId": "c56fb0bf-13b2-4aa4-e0d3-1efb5d8dd5b8"
      },
      "outputs": [
        {
          "output_type": "execute_result",
          "data": {
            "text/plain": [
              "{'bui le anh vu': 0, 'nguyen huu duong': 1}"
            ]
          },
          "metadata": {},
          "execution_count": 38
        }
      ],
      "source": [
        "training_set.class_indices"
      ]
    },
    {
      "cell_type": "code",
      "execution_count": 39,
      "metadata": {
        "colab": {
          "base_uri": "https://localhost:8080/"
        },
        "id": "5p1UN_R13yfs",
        "outputId": "31e7f042-93aa-4710-c70e-cf7665c4cc4c"
      },
      "outputs": [
        {
          "output_type": "execute_result",
          "data": {
            "text/plain": [
              "{'bui le anh vu': 0, 'nguyen huu duong': 1}"
            ]
          },
          "metadata": {},
          "execution_count": 39
        }
      ],
      "source": [
        "input.class_indices"
      ]
    },
    {
      "cell_type": "code",
      "execution_count": 40,
      "metadata": {
        "id": "zSEVKTUz350j"
      },
      "outputs": [],
      "source": [
        "model = Sequential()\n",
        "model.add(Conv2D(32,(3,3), activation = 'relu', kernel_initializer='he_uniform', input_shape=(150,150,3)))\n",
        "model.add(Conv2D(32,(3,3), activation = 'relu', kernel_initializer='he_uniform', padding = 'same'))\n",
        "model.add(MaxPooling2D(2,2))\n",
        "\n",
        "model.add(Conv2D(64,(3,3), activation='relu', kernel_initializer='he_uniform', padding='same')) \n",
        "model.add(Conv2D(64,(3,3), activation='relu', kernel_initializer='he_uniform', padding='same'))\n",
        "model.add(MaxPooling2D(2,2))\n",
        "\n",
        "model.add(Conv2D(64,(3,3), activation='relu', kernel_initializer='he_uniform', padding='same')) \n",
        "model.add(Conv2D(64,(3,3), activation='relu', kernel_initializer='he_uniform', padding='same'))\n",
        "model.add(MaxPooling2D(2,2))\n",
        "\n",
        "model.add(Conv2D(128,(3,3), activation='relu', kernel_initializer='he_uniform', padding='same')) \n",
        "model.add(Conv2D(128,(3,3), activation='relu', kernel_initializer='he_uniform', padding='same'))\n",
        "model.add(MaxPooling2D(2,2))"
      ]
    },
    {
      "cell_type": "code",
      "execution_count": 44,
      "metadata": {
        "id": "YE6TXLoq39xT"
      },
      "outputs": [],
      "source": [
        "model.add(Flatten())"
      ]
    },
    {
      "cell_type": "code",
      "execution_count": 45,
      "metadata": {
        "id": "UyAZrGP43_qU"
      },
      "outputs": [],
      "source": [
        "model.add(Dense(128, activation = 'relu', kernel_initializer = 'he_uniform'))\n",
        "model.add(Dropout(0.2))"
      ]
    },
    {
      "cell_type": "code",
      "execution_count": 46,
      "metadata": {
        "colab": {
          "base_uri": "https://localhost:8080/"
        },
        "id": "2oy59CrT4DMz",
        "outputId": "f1f21381-34f0-4ad6-f87b-3a0b3ed8aea4"
      },
      "outputs": [
        {
          "output_type": "stream",
          "name": "stdout",
          "text": [
            "Model: \"sequential_1\"\n",
            "_________________________________________________________________\n",
            " Layer (type)                Output Shape              Param #   \n",
            "=================================================================\n",
            " conv2d_8 (Conv2D)           (None, 148, 148, 32)      896       \n",
            "                                                                 \n",
            " conv2d_9 (Conv2D)           (None, 148, 148, 32)      9248      \n",
            "                                                                 \n",
            " max_pooling2d_4 (MaxPooling  (None, 74, 74, 32)       0         \n",
            " 2D)                                                             \n",
            "                                                                 \n",
            " conv2d_10 (Conv2D)          (None, 74, 74, 64)        18496     \n",
            "                                                                 \n",
            " conv2d_11 (Conv2D)          (None, 74, 74, 64)        36928     \n",
            "                                                                 \n",
            " max_pooling2d_5 (MaxPooling  (None, 37, 37, 64)       0         \n",
            " 2D)                                                             \n",
            "                                                                 \n",
            " conv2d_12 (Conv2D)          (None, 37, 37, 64)        36928     \n",
            "                                                                 \n",
            " conv2d_13 (Conv2D)          (None, 37, 37, 64)        36928     \n",
            "                                                                 \n",
            " max_pooling2d_6 (MaxPooling  (None, 18, 18, 64)       0         \n",
            " 2D)                                                             \n",
            "                                                                 \n",
            " conv2d_14 (Conv2D)          (None, 18, 18, 128)       73856     \n",
            "                                                                 \n",
            " conv2d_15 (Conv2D)          (None, 18, 18, 128)       147584    \n",
            "                                                                 \n",
            " max_pooling2d_7 (MaxPooling  (None, 9, 9, 128)        0         \n",
            " 2D)                                                             \n",
            "                                                                 \n",
            " flatten_1 (Flatten)         (None, 10368)             0         \n",
            "                                                                 \n",
            " dense_3 (Dense)             (None, 128)               1327232   \n",
            "                                                                 \n",
            " dropout_1 (Dropout)         (None, 128)               0         \n",
            "                                                                 \n",
            " dense_4 (Dense)             (None, 128)               16512     \n",
            "                                                                 \n",
            " dropout_2 (Dropout)         (None, 128)               0         \n",
            "                                                                 \n",
            " flatten_2 (Flatten)         (None, 128)               0         \n",
            "                                                                 \n",
            " dense_5 (Dense)             (None, 128)               16512     \n",
            "                                                                 \n",
            " dropout_3 (Dropout)         (None, 128)               0         \n",
            "                                                                 \n",
            " dense_6 (Dense)             (None, 2)                 258       \n",
            "                                                                 \n",
            "=================================================================\n",
            "Total params: 1,721,378\n",
            "Trainable params: 1,721,378\n",
            "Non-trainable params: 0\n",
            "_________________________________________________________________\n"
          ]
        }
      ],
      "source": [
        "model.add(Dense(2, activation = 'softmax'))\n",
        "model.summary()"
      ]
    },
    {
      "cell_type": "code",
      "source": [
        "model.compile(optimizer = 'adam', loss = 'categorical_crossentropy', metrics = ['accuracy'])"
      ],
      "metadata": {
        "id": "lc3U_0HcVJgg"
      },
      "execution_count": 47,
      "outputs": []
    },
    {
      "cell_type": "code",
      "execution_count": 52,
      "metadata": {
        "colab": {
          "base_uri": "https://localhost:8080/"
        },
        "id": "gQCQGw5v4Icq",
        "outputId": "70199222-4099-4e27-ec82-9d58b9e990c1"
      },
      "outputs": [
        {
          "output_type": "stream",
          "name": "stdout",
          "text": [
            "Epoch 1/50\n",
            "3/3 [==============================] - 26s 11s/step - loss: 1.6996 - accuracy: 0.5647 - val_loss: 0.7669 - val_accuracy: 0.4872\n",
            "Epoch 2/50\n",
            "3/3 [==============================] - 14s 5s/step - loss: 0.7616 - accuracy: 0.4941 - val_loss: 0.6860 - val_accuracy: 0.8974\n",
            "Epoch 3/50\n",
            "3/3 [==============================] - 14s 4s/step - loss: 0.6744 - accuracy: 0.6118 - val_loss: 0.6716 - val_accuracy: 0.5128\n",
            "Epoch 4/50\n",
            "3/3 [==============================] - 14s 5s/step - loss: 0.6395 - accuracy: 0.6824 - val_loss: 0.6092 - val_accuracy: 0.7436\n",
            "Epoch 5/50\n",
            "3/3 [==============================] - 14s 4s/step - loss: 0.6500 - accuracy: 0.6824 - val_loss: 0.4916 - val_accuracy: 0.7179\n",
            "Epoch 6/50\n",
            "3/3 [==============================] - 14s 4s/step - loss: 0.5356 - accuracy: 0.7647 - val_loss: 0.3436 - val_accuracy: 0.9487\n",
            "Epoch 7/50\n",
            "3/3 [==============================] - 14s 5s/step - loss: 0.3214 - accuracy: 0.8824 - val_loss: 0.0946 - val_accuracy: 0.9744\n",
            "Epoch 8/50\n",
            "3/3 [==============================] - 14s 4s/step - loss: 0.1557 - accuracy: 0.9412 - val_loss: 0.0165 - val_accuracy: 1.0000\n",
            "Epoch 9/50\n",
            "3/3 [==============================] - 14s 5s/step - loss: 0.0162 - accuracy: 1.0000 - val_loss: 0.0055 - val_accuracy: 1.0000\n",
            "Epoch 10/50\n",
            "3/3 [==============================] - 14s 4s/step - loss: 0.0721 - accuracy: 0.9647 - val_loss: 7.9298e-05 - val_accuracy: 1.0000\n",
            "Epoch 11/50\n",
            "3/3 [==============================] - 14s 4s/step - loss: 0.0219 - accuracy: 0.9882 - val_loss: 1.5538e-04 - val_accuracy: 1.0000\n",
            "Epoch 12/50\n",
            "3/3 [==============================] - 14s 5s/step - loss: 0.0286 - accuracy: 0.9882 - val_loss: 0.0019 - val_accuracy: 1.0000\n",
            "Epoch 13/50\n",
            "3/3 [==============================] - 14s 4s/step - loss: 0.0940 - accuracy: 0.9529 - val_loss: 0.2068 - val_accuracy: 0.9744\n",
            "Epoch 14/50\n",
            "3/3 [==============================] - 14s 4s/step - loss: 0.2882 - accuracy: 0.9765 - val_loss: 2.4245e-04 - val_accuracy: 1.0000\n",
            "Epoch 15/50\n",
            "3/3 [==============================] - 14s 5s/step - loss: 0.1456 - accuracy: 0.9529 - val_loss: 5.5999e-04 - val_accuracy: 1.0000\n",
            "Epoch 16/50\n",
            "3/3 [==============================] - 14s 5s/step - loss: 0.0171 - accuracy: 0.9882 - val_loss: 2.0785e-07 - val_accuracy: 1.0000\n",
            "Epoch 17/50\n",
            "3/3 [==============================] - 14s 5s/step - loss: 0.0799 - accuracy: 0.9647 - val_loss: 0.0000e+00 - val_accuracy: 1.0000\n",
            "Epoch 18/50\n",
            "3/3 [==============================] - 14s 5s/step - loss: 6.8496e-04 - accuracy: 1.0000 - val_loss: 1.4445e-05 - val_accuracy: 1.0000\n",
            "Epoch 19/50\n",
            "3/3 [==============================] - 14s 4s/step - loss: 0.1377 - accuracy: 0.9882 - val_loss: 2.0477e-05 - val_accuracy: 1.0000\n",
            "Epoch 20/50\n",
            "3/3 [==============================] - 14s 4s/step - loss: 0.0457 - accuracy: 0.9882 - val_loss: 0.0038 - val_accuracy: 1.0000\n",
            "Epoch 21/50\n",
            "3/3 [==============================] - 14s 5s/step - loss: 0.0046 - accuracy: 1.0000 - val_loss: 0.0431 - val_accuracy: 0.9744\n",
            "Epoch 22/50\n",
            "3/3 [==============================] - 14s 4s/step - loss: 0.0885 - accuracy: 0.9765 - val_loss: 0.0018 - val_accuracy: 1.0000\n",
            "Epoch 23/50\n",
            "3/3 [==============================] - 14s 5s/step - loss: 0.0139 - accuracy: 1.0000 - val_loss: 6.7802e-04 - val_accuracy: 1.0000\n",
            "Epoch 24/50\n",
            "3/3 [==============================] - 14s 5s/step - loss: 0.0046 - accuracy: 1.0000 - val_loss: 0.0073 - val_accuracy: 1.0000\n",
            "Epoch 25/50\n",
            "3/3 [==============================] - 14s 4s/step - loss: 0.0486 - accuracy: 0.9882 - val_loss: 0.0064 - val_accuracy: 1.0000\n",
            "Epoch 26/50\n",
            "3/3 [==============================] - 14s 5s/step - loss: 0.0055 - accuracy: 1.0000 - val_loss: 0.0029 - val_accuracy: 1.0000\n",
            "Epoch 27/50\n",
            "3/3 [==============================] - 14s 5s/step - loss: 0.0094 - accuracy: 1.0000 - val_loss: 3.7855e-04 - val_accuracy: 1.0000\n",
            "Epoch 28/50\n",
            "3/3 [==============================] - 14s 4s/step - loss: 0.0018 - accuracy: 1.0000 - val_loss: 1.4894e-05 - val_accuracy: 1.0000\n",
            "Epoch 29/50\n",
            "3/3 [==============================] - 14s 4s/step - loss: 0.0191 - accuracy: 0.9882 - val_loss: 0.0031 - val_accuracy: 1.0000\n",
            "Epoch 30/50\n",
            "3/3 [==============================] - 14s 4s/step - loss: 0.1830 - accuracy: 0.9647 - val_loss: 0.0103 - val_accuracy: 1.0000\n",
            "Epoch 31/50\n",
            "3/3 [==============================] - 18s 7s/step - loss: 0.0204 - accuracy: 0.9882 - val_loss: 0.0210 - val_accuracy: 0.9744\n",
            "Epoch 32/50\n",
            "3/3 [==============================] - 14s 4s/step - loss: 0.0071 - accuracy: 1.0000 - val_loss: 0.0130 - val_accuracy: 1.0000\n",
            "Epoch 33/50\n",
            "3/3 [==============================] - 14s 4s/step - loss: 0.0207 - accuracy: 1.0000 - val_loss: 0.0027 - val_accuracy: 1.0000\n",
            "Epoch 34/50\n",
            "3/3 [==============================] - 14s 5s/step - loss: 0.0077 - accuracy: 1.0000 - val_loss: 6.8162e-04 - val_accuracy: 1.0000\n",
            "Epoch 35/50\n",
            "3/3 [==============================] - 14s 4s/step - loss: 0.0038 - accuracy: 1.0000 - val_loss: 0.0011 - val_accuracy: 1.0000\n",
            "Epoch 36/50\n",
            "3/3 [==============================] - 14s 4s/step - loss: 7.1463e-04 - accuracy: 1.0000 - val_loss: 1.0129e-05 - val_accuracy: 1.0000\n",
            "Epoch 37/50\n",
            "3/3 [==============================] - 14s 4s/step - loss: 0.0015 - accuracy: 1.0000 - val_loss: 1.8493e-06 - val_accuracy: 1.0000\n",
            "Epoch 38/50\n",
            "3/3 [==============================] - 14s 4s/step - loss: 3.9691e-05 - accuracy: 1.0000 - val_loss: 4.2973e-06 - val_accuracy: 1.0000\n",
            "Epoch 39/50\n",
            "3/3 [==============================] - 14s 4s/step - loss: 3.5449e-05 - accuracy: 1.0000 - val_loss: 2.1182e-06 - val_accuracy: 1.0000\n",
            "Epoch 40/50\n",
            "3/3 [==============================] - 14s 4s/step - loss: 3.4274e-04 - accuracy: 1.0000 - val_loss: 1.2838e-07 - val_accuracy: 1.0000\n",
            "Epoch 41/50\n",
            "3/3 [==============================] - 14s 4s/step - loss: 5.1117e-06 - accuracy: 1.0000 - val_loss: 0.0000e+00 - val_accuracy: 1.0000\n",
            "Epoch 42/50\n",
            "3/3 [==============================] - 14s 4s/step - loss: 9.6158e-05 - accuracy: 1.0000 - val_loss: 0.0000e+00 - val_accuracy: 1.0000\n",
            "Epoch 43/50\n",
            "3/3 [==============================] - 14s 5s/step - loss: 4.6327e-05 - accuracy: 1.0000 - val_loss: 1.2227e-08 - val_accuracy: 1.0000\n",
            "Epoch 44/50\n",
            "3/3 [==============================] - 14s 4s/step - loss: 2.0975e-04 - accuracy: 1.0000 - val_loss: 6.2355e-07 - val_accuracy: 1.0000\n",
            "Epoch 45/50\n",
            "3/3 [==============================] - 14s 5s/step - loss: 2.6410e-05 - accuracy: 1.0000 - val_loss: 0.0000e+00 - val_accuracy: 1.0000\n",
            "Epoch 46/50\n",
            "3/3 [==============================] - 14s 5s/step - loss: 2.8330e-07 - accuracy: 1.0000 - val_loss: 1.0393e-07 - val_accuracy: 1.0000\n",
            "Epoch 47/50\n",
            "3/3 [==============================] - 14s 4s/step - loss: 2.0979e-06 - accuracy: 1.0000 - val_loss: 0.0000e+00 - val_accuracy: 1.0000\n"
          ]
        }
      ],
      "source": [
        "model.compile(optimizer = 'adam', loss = 'categorical_crossentropy', metrics = ['accuracy'])\n",
        "history = model.fit(training_set, epochs = 50, batch_size=128, verbose = 1, validation_data = input, callbacks = [EarlyStopping(monitor='val_loss', patience=30)])"
      ]
    },
    {
      "cell_type": "code",
      "execution_count": 53,
      "metadata": {
        "id": "pCRZ_gMd4g_k",
        "colab": {
          "base_uri": "https://localhost:8080/"
        },
        "outputId": "6e384b9e-5633-4cfa-b71e-cda886416753"
      },
      "outputs": [
        {
          "output_type": "stream",
          "name": "stdout",
          "text": [
            "train loss 1.1359890805806572e-07\n",
            "train accuracy 1.0\n"
          ]
        }
      ],
      "source": [
        "Score = model.evaluate(training_set, verbose = 0)\n",
        "print('train loss', Score[0])\n",
        "print('train accuracy', Score[1])"
      ]
    },
    {
      "cell_type": "code",
      "execution_count": 54,
      "metadata": {
        "id": "WZopFHIp4lgk"
      },
      "outputs": [],
      "source": [
        "model.save(\"khuonmat.h5\")"
      ]
    },
    {
      "cell_type": "code",
      "execution_count": 55,
      "metadata": {
        "id": "Aei-LyOa4muD"
      },
      "outputs": [],
      "source": [
        "model_CNN = load_model('khuonmat.h5')"
      ]
    },
    {
      "cell_type": "code",
      "source": [
        "test= \"/content/drive/MyDrive/Colab Notebooks/BVTN3/face/test/\"\n",
        "\n",
        "for i in os.listdir(test):\n",
        "  img = load_img(test+'/'+i, target_size=(150,150))\n",
        "  plt.imshow(img)\n",
        "  img=img_to_array(img)\n",
        "  img=img.astype('float32')\n",
        "  img= img/255\n",
        "  img = np.expand_dims(img, axis = 0)\n",
        "  result = model_CNN.predict(img)\n",
        "  if round(result[0][0]) == 1:\n",
        "    prediction = 'bui le anh vu'\n",
        "  if round(result[0][1]) == 1:\n",
        "    prediction = 'nguyen huu duong'\n",
        "  print(prediction)\n",
        "  plt.show()\n"
      ],
      "metadata": {
        "id": "OkqsZlwmdN5n"
      },
      "execution_count": null,
      "outputs": []
    }
  ],
  "metadata": {
    "colab": {
      "provenance": [],
      "authorship_tag": "ABX9TyMRB4/lvdYp5BAAOfWDvMHd",
      "include_colab_link": true
    },
    "kernelspec": {
      "display_name": "Python 3",
      "name": "python3"
    },
    "language_info": {
      "name": "python"
    }
  },
  "nbformat": 4,
  "nbformat_minor": 0
}