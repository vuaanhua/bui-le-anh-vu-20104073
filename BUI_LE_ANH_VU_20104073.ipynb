{
  "cells": [
    {
      "cell_type": "markdown",
      "metadata": {
        "id": "view-in-github",
        "colab_type": "text"
      },
      "source": [
        "<a href=\"https://colab.research.google.com/github/vuaanhua/bui-le-anh-vu-20104073/blob/main/BUI_LE_ANH_VU_20104073.ipynb\" target=\"_parent\"><img src=\"https://colab.research.google.com/assets/colab-badge.svg\" alt=\"Open In Colab\"/></a>"
      ]
    },
    {
      "cell_type": "code",
      "execution_count": null,
      "metadata": {
        "id": "IyjTcjOhkrGF"
      },
      "outputs": [],
      "source": [
        "with open ('text.txt', mode = 'w') as accounts:\n",
        "   accounts.write('1 Nguyen Van A 8.0 \\n')\n",
        "   accounts.write('2 Le Thi B 6.8 \\n')"
      ]
    },
    {
      "cell_type": "code",
      "execution_count": null,
      "metadata": {
        "id": "jihcLKoVnAMw"
      },
      "outputs": [],
      "source": [
        "with open ('text.txt', mode ='w') as accounts:\n",
        "  print ('7:00 Nguyen Van A',file = accounts)\n",
        "  print('7:01 Le Thi B',file = accounts )"
      ]
    },
    {
      "cell_type": "code",
      "execution_count": null,
      "metadata": {
        "colab": {
          "base_uri": "https://localhost:8080/",
          "height": 332
        },
        "id": "zQQcZJzYrrZy",
        "outputId": "460edb3f-23ef-4a2c-99a2-8668c85a12ac"
      },
      "outputs": [
        {
          "data": {
            "text/html": [
              "\n",
              "  <div id=\"df-f66f2c9b-3596-4f6c-8079-1e39290250a0\">\n",
              "    <div class=\"colab-df-container\">\n",
              "      <div>\n",
              "<style scoped>\n",
              "    .dataframe tbody tr th:only-of-type {\n",
              "        vertical-align: middle;\n",
              "    }\n",
              "\n",
              "    .dataframe tbody tr th {\n",
              "        vertical-align: top;\n",
              "    }\n",
              "\n",
              "    .dataframe thead th {\n",
              "        text-align: right;\n",
              "    }\n",
              "</style>\n",
              "<table border=\"1\" class=\"dataframe\">\n",
              "  <thead>\n",
              "    <tr style=\"text-align: right;\">\n",
              "      <th></th>\n",
              "      <th>stt</th>\n",
              "      <th>mssv</th>\n",
              "      <th>ho va ten</th>\n",
              "      <th>diem</th>\n",
              "    </tr>\n",
              "  </thead>\n",
              "  <tbody>\n",
              "    <tr>\n",
              "      <th>0</th>\n",
              "      <td>1</td>\n",
              "      <td>##############################################...</td>\n",
              "      <td>bui vu</td>\n",
              "      <td>10</td>\n",
              "    </tr>\n",
              "    <tr>\n",
              "      <th>1</th>\n",
              "      <td>2</td>\n",
              "      <td>##############################################...</td>\n",
              "      <td>anh khoa</td>\n",
              "      <td>6</td>\n",
              "    </tr>\n",
              "    <tr>\n",
              "      <th>2</th>\n",
              "      <td>3</td>\n",
              "      <td>##############################################...</td>\n",
              "      <td>tien le</td>\n",
              "      <td>4</td>\n",
              "    </tr>\n",
              "    <tr>\n",
              "      <th>3</th>\n",
              "      <td>4</td>\n",
              "      <td>##############################################...</td>\n",
              "      <td>hung phan</td>\n",
              "      <td>9</td>\n",
              "    </tr>\n",
              "    <tr>\n",
              "      <th>4</th>\n",
              "      <td>5</td>\n",
              "      <td>##############################################...</td>\n",
              "      <td>sang vo</td>\n",
              "      <td>1</td>\n",
              "    </tr>\n",
              "    <tr>\n",
              "      <th>5</th>\n",
              "      <td>6</td>\n",
              "      <td>##############################################...</td>\n",
              "      <td>khiem dang</td>\n",
              "      <td>10</td>\n",
              "    </tr>\n",
              "    <tr>\n",
              "      <th>6</th>\n",
              "      <td>7</td>\n",
              "      <td>##############################################...</td>\n",
              "      <td>tung bui</td>\n",
              "      <td>4</td>\n",
              "    </tr>\n",
              "    <tr>\n",
              "      <th>7</th>\n",
              "      <td>9</td>\n",
              "      <td>##############################################...</td>\n",
              "      <td>tuan ho</td>\n",
              "      <td>9</td>\n",
              "    </tr>\n",
              "    <tr>\n",
              "      <th>8</th>\n",
              "      <td>10</td>\n",
              "      <td>##############################################...</td>\n",
              "      <td>kha dang</td>\n",
              "      <td>8</td>\n",
              "    </tr>\n",
              "  </tbody>\n",
              "</table>\n",
              "</div>\n",
              "      <button class=\"colab-df-convert\" onclick=\"convertToInteractive('df-f66f2c9b-3596-4f6c-8079-1e39290250a0')\"\n",
              "              title=\"Convert this dataframe to an interactive table.\"\n",
              "              style=\"display:none;\">\n",
              "        \n",
              "  <svg xmlns=\"http://www.w3.org/2000/svg\" height=\"24px\"viewBox=\"0 0 24 24\"\n",
              "       width=\"24px\">\n",
              "    <path d=\"M0 0h24v24H0V0z\" fill=\"none\"/>\n",
              "    <path d=\"M18.56 5.44l.94 2.06.94-2.06 2.06-.94-2.06-.94-.94-2.06-.94 2.06-2.06.94zm-11 1L8.5 8.5l.94-2.06 2.06-.94-2.06-.94L8.5 2.5l-.94 2.06-2.06.94zm10 10l.94 2.06.94-2.06 2.06-.94-2.06-.94-.94-2.06-.94 2.06-2.06.94z\"/><path d=\"M17.41 7.96l-1.37-1.37c-.4-.4-.92-.59-1.43-.59-.52 0-1.04.2-1.43.59L10.3 9.45l-7.72 7.72c-.78.78-.78 2.05 0 2.83L4 21.41c.39.39.9.59 1.41.59.51 0 1.02-.2 1.41-.59l7.78-7.78 2.81-2.81c.8-.78.8-2.07 0-2.86zM5.41 20L4 18.59l7.72-7.72 1.47 1.35L5.41 20z\"/>\n",
              "  </svg>\n",
              "      </button>\n",
              "      \n",
              "  <style>\n",
              "    .colab-df-container {\n",
              "      display:flex;\n",
              "      flex-wrap:wrap;\n",
              "      gap: 12px;\n",
              "    }\n",
              "\n",
              "    .colab-df-convert {\n",
              "      background-color: #E8F0FE;\n",
              "      border: none;\n",
              "      border-radius: 50%;\n",
              "      cursor: pointer;\n",
              "      display: none;\n",
              "      fill: #1967D2;\n",
              "      height: 32px;\n",
              "      padding: 0 0 0 0;\n",
              "      width: 32px;\n",
              "    }\n",
              "\n",
              "    .colab-df-convert:hover {\n",
              "      background-color: #E2EBFA;\n",
              "      box-shadow: 0px 1px 2px rgba(60, 64, 67, 0.3), 0px 1px 3px 1px rgba(60, 64, 67, 0.15);\n",
              "      fill: #174EA6;\n",
              "    }\n",
              "\n",
              "    [theme=dark] .colab-df-convert {\n",
              "      background-color: #3B4455;\n",
              "      fill: #D2E3FC;\n",
              "    }\n",
              "\n",
              "    [theme=dark] .colab-df-convert:hover {\n",
              "      background-color: #434B5C;\n",
              "      box-shadow: 0px 1px 3px 1px rgba(0, 0, 0, 0.15);\n",
              "      filter: drop-shadow(0px 1px 2px rgba(0, 0, 0, 0.3));\n",
              "      fill: #FFFFFF;\n",
              "    }\n",
              "  </style>\n",
              "\n",
              "      <script>\n",
              "        const buttonEl =\n",
              "          document.querySelector('#df-f66f2c9b-3596-4f6c-8079-1e39290250a0 button.colab-df-convert');\n",
              "        buttonEl.style.display =\n",
              "          google.colab.kernel.accessAllowed ? 'block' : 'none';\n",
              "\n",
              "        async function convertToInteractive(key) {\n",
              "          const element = document.querySelector('#df-f66f2c9b-3596-4f6c-8079-1e39290250a0');\n",
              "          const dataTable =\n",
              "            await google.colab.kernel.invokeFunction('convertToInteractive',\n",
              "                                                     [key], {});\n",
              "          if (!dataTable) return;\n",
              "\n",
              "          const docLinkHtml = 'Like what you see? Visit the ' +\n",
              "            '<a target=\"_blank\" href=https://colab.research.google.com/notebooks/data_table.ipynb>data table notebook</a>'\n",
              "            + ' to learn more about interactive tables.';\n",
              "          element.innerHTML = '';\n",
              "          dataTable['output_type'] = 'display_data';\n",
              "          await google.colab.output.renderOutput(dataTable, element);\n",
              "          const docLink = document.createElement('div');\n",
              "          docLink.innerHTML = docLinkHtml;\n",
              "          element.appendChild(docLink);\n",
              "        }\n",
              "      </script>\n",
              "    </div>\n",
              "  </div>\n",
              "  "
            ],
            "text/plain": [
              "   stt                                               mssv   ho va ten  diem\n",
              "0    1  ##############################################...      bui vu    10\n",
              "1    2  ##############################################...    anh khoa     6\n",
              "2    3  ##############################################...     tien le     4\n",
              "3    4  ##############################################...   hung phan     9\n",
              "4    5  ##############################################...     sang vo     1\n",
              "5    6  ##############################################...  khiem dang    10\n",
              "6    7  ##############################################...    tung bui     4\n",
              "7    9  ##############################################...     tuan ho     9\n",
              "8   10  ##############################################...    kha dang     8"
            ]
          },
          "execution_count": 17,
          "metadata": {},
          "output_type": "execute_result"
        }
      ],
      "source": [
        "import pandas as pd\n",
        "url = 'anhvu.csv'\n",
        "dataframe = pd.read_csv(url)\n",
        "dataframe.head(10)\n",
        "\n"
      ]
    },
    {
      "cell_type": "code",
      "execution_count": null,
      "metadata": {
        "colab": {
          "base_uri": "https://localhost:8080/",
          "height": 112
        },
        "id": "zyuFa3drvEeP",
        "outputId": "c4695d52-9aef-44f4-9ee2-af14a3afb274"
      },
      "outputs": [
        {
          "data": {
            "text/html": [
              "\n",
              "  <div id=\"df-8638e08c-7123-44c5-93c0-838dd35c63c2\">\n",
              "    <div class=\"colab-df-container\">\n",
              "      <div>\n",
              "<style scoped>\n",
              "    .dataframe tbody tr th:only-of-type {\n",
              "        vertical-align: middle;\n",
              "    }\n",
              "\n",
              "    .dataframe tbody tr th {\n",
              "        vertical-align: top;\n",
              "    }\n",
              "\n",
              "    .dataframe thead th {\n",
              "        text-align: right;\n",
              "    }\n",
              "</style>\n",
              "<table border=\"1\" class=\"dataframe\">\n",
              "  <thead>\n",
              "    <tr style=\"text-align: right;\">\n",
              "      <th></th>\n",
              "      <th>Name</th>\n",
              "      <th>student ID</th>\n",
              "      <th>score</th>\n",
              "    </tr>\n",
              "  </thead>\n",
              "  <tbody>\n",
              "    <tr>\n",
              "      <th>0</th>\n",
              "      <td>Nguyen Van A</td>\n",
              "      <td>20104073</td>\n",
              "      <td>80.0</td>\n",
              "    </tr>\n",
              "    <tr>\n",
              "      <th>1</th>\n",
              "      <td>Le Thi B</td>\n",
              "      <td>20104079</td>\n",
              "      <td>9.0</td>\n",
              "    </tr>\n",
              "  </tbody>\n",
              "</table>\n",
              "</div>\n",
              "      <button class=\"colab-df-convert\" onclick=\"convertToInteractive('df-8638e08c-7123-44c5-93c0-838dd35c63c2')\"\n",
              "              title=\"Convert this dataframe to an interactive table.\"\n",
              "              style=\"display:none;\">\n",
              "        \n",
              "  <svg xmlns=\"http://www.w3.org/2000/svg\" height=\"24px\"viewBox=\"0 0 24 24\"\n",
              "       width=\"24px\">\n",
              "    <path d=\"M0 0h24v24H0V0z\" fill=\"none\"/>\n",
              "    <path d=\"M18.56 5.44l.94 2.06.94-2.06 2.06-.94-2.06-.94-.94-2.06-.94 2.06-2.06.94zm-11 1L8.5 8.5l.94-2.06 2.06-.94-2.06-.94L8.5 2.5l-.94 2.06-2.06.94zm10 10l.94 2.06.94-2.06 2.06-.94-2.06-.94-.94-2.06-.94 2.06-2.06.94z\"/><path d=\"M17.41 7.96l-1.37-1.37c-.4-.4-.92-.59-1.43-.59-.52 0-1.04.2-1.43.59L10.3 9.45l-7.72 7.72c-.78.78-.78 2.05 0 2.83L4 21.41c.39.39.9.59 1.41.59.51 0 1.02-.2 1.41-.59l7.78-7.78 2.81-2.81c.8-.78.8-2.07 0-2.86zM5.41 20L4 18.59l7.72-7.72 1.47 1.35L5.41 20z\"/>\n",
              "  </svg>\n",
              "      </button>\n",
              "      \n",
              "  <style>\n",
              "    .colab-df-container {\n",
              "      display:flex;\n",
              "      flex-wrap:wrap;\n",
              "      gap: 12px;\n",
              "    }\n",
              "\n",
              "    .colab-df-convert {\n",
              "      background-color: #E8F0FE;\n",
              "      border: none;\n",
              "      border-radius: 50%;\n",
              "      cursor: pointer;\n",
              "      display: none;\n",
              "      fill: #1967D2;\n",
              "      height: 32px;\n",
              "      padding: 0 0 0 0;\n",
              "      width: 32px;\n",
              "    }\n",
              "\n",
              "    .colab-df-convert:hover {\n",
              "      background-color: #E2EBFA;\n",
              "      box-shadow: 0px 1px 2px rgba(60, 64, 67, 0.3), 0px 1px 3px 1px rgba(60, 64, 67, 0.15);\n",
              "      fill: #174EA6;\n",
              "    }\n",
              "\n",
              "    [theme=dark] .colab-df-convert {\n",
              "      background-color: #3B4455;\n",
              "      fill: #D2E3FC;\n",
              "    }\n",
              "\n",
              "    [theme=dark] .colab-df-convert:hover {\n",
              "      background-color: #434B5C;\n",
              "      box-shadow: 0px 1px 3px 1px rgba(0, 0, 0, 0.15);\n",
              "      filter: drop-shadow(0px 1px 2px rgba(0, 0, 0, 0.3));\n",
              "      fill: #FFFFFF;\n",
              "    }\n",
              "  </style>\n",
              "\n",
              "      <script>\n",
              "        const buttonEl =\n",
              "          document.querySelector('#df-8638e08c-7123-44c5-93c0-838dd35c63c2 button.colab-df-convert');\n",
              "        buttonEl.style.display =\n",
              "          google.colab.kernel.accessAllowed ? 'block' : 'none';\n",
              "\n",
              "        async function convertToInteractive(key) {\n",
              "          const element = document.querySelector('#df-8638e08c-7123-44c5-93c0-838dd35c63c2');\n",
              "          const dataTable =\n",
              "            await google.colab.kernel.invokeFunction('convertToInteractive',\n",
              "                                                     [key], {});\n",
              "          if (!dataTable) return;\n",
              "\n",
              "          const docLinkHtml = 'Like what you see? Visit the ' +\n",
              "            '<a target=\"_blank\" href=https://colab.research.google.com/notebooks/data_table.ipynb>data table notebook</a>'\n",
              "            + ' to learn more about interactive tables.';\n",
              "          element.innerHTML = '';\n",
              "          dataTable['output_type'] = 'display_data';\n",
              "          await google.colab.output.renderOutput(dataTable, element);\n",
              "          const docLink = document.createElement('div');\n",
              "          docLink.innerHTML = docLinkHtml;\n",
              "          element.appendChild(docLink);\n",
              "        }\n",
              "      </script>\n",
              "    </div>\n",
              "  </div>\n",
              "  "
            ],
            "text/plain": [
              "           Name  student ID  score\n",
              "0  Nguyen Van A    20104073   80.0\n",
              "1      Le Thi B    20104079    9.0"
            ]
          },
          "execution_count": 23,
          "metadata": {},
          "output_type": "execute_result"
        }
      ],
      "source": [
        "import pandas as pd\n",
        "dataframe = pd.DataFrame()\n",
        "dataframe['Name']=['Nguyen Van A','Le Thi B']\n",
        "dataframe['student ID']=[20104073,20104079]\n",
        "dataframe['score']= [80,9.0]\n",
        "dataframe"
      ]
    },
    {
      "cell_type": "code",
      "execution_count": null,
      "metadata": {
        "colab": {
          "base_uri": "https://localhost:8080/"
        },
        "id": "qEWYUKOvyGy0",
        "outputId": "381891d6-ffba-438b-e4d8-c2a11de431a9"
      },
      "outputs": [
        {
          "data": {
            "text/plain": [
              "stt                                                          4\n",
              "mssv         ##############################################...\n",
              "ho va ten                                            hung phan\n",
              "diem                                                         9\n",
              "khoa                                                       ckm\n",
              "nam                                                       2020\n",
              "he                                                     dai tra\n",
              "Name: hung phan, dtype: object"
            ]
          },
          "execution_count": 44,
          "metadata": {},
          "output_type": "execute_result"
        }
      ],
      "source": [
        "import pandas as pd \n",
        "url ='vubui.csv'\n",
        "dataframe = pd.read_csv(url)\n",
        "dataframe.head(10)\n",
        "dataframe.iloc[5]\n",
        "dataframe.shape\n",
        "dataframe.describe()\n",
        "dataframe=dataframe.set_index(dataframe['ho va ten'])\n",
        "dataframe.loc['hung phan']\n"
      ]
    },
    {
      "cell_type": "code",
      "execution_count": null,
      "metadata": {
        "colab": {
          "base_uri": "https://localhost:8080/",
          "height": 332
        },
        "id": "4s-OXOJO57A0",
        "outputId": "a3f82922-c038-437a-b292-e8cf1dbd39f4"
      },
      "outputs": [
        {
          "data": {
            "text/html": [
              "\n",
              "  <div id=\"df-ab7012bb-7b81-42ff-8703-791afc1993e2\">\n",
              "    <div class=\"colab-df-container\">\n",
              "      <div>\n",
              "<style scoped>\n",
              "    .dataframe tbody tr th:only-of-type {\n",
              "        vertical-align: middle;\n",
              "    }\n",
              "\n",
              "    .dataframe tbody tr th {\n",
              "        vertical-align: top;\n",
              "    }\n",
              "\n",
              "    .dataframe thead th {\n",
              "        text-align: right;\n",
              "    }\n",
              "</style>\n",
              "<table border=\"1\" class=\"dataframe\">\n",
              "  <thead>\n",
              "    <tr style=\"text-align: right;\">\n",
              "      <th></th>\n",
              "      <th>NO</th>\n",
              "      <th>Unnamed: 1</th>\n",
              "      <th>FULL NAME</th>\n",
              "      <th>STUDENT ID</th>\n",
              "      <th>SCORE</th>\n",
              "      <th>KHOA</th>\n",
              "    </tr>\n",
              "  </thead>\n",
              "  <tbody>\n",
              "    <tr>\n",
              "      <th>0</th>\n",
              "      <td>1</td>\n",
              "      <td>NaN</td>\n",
              "      <td>NGUYEN VAN A</td>\n",
              "      <td>20104032</td>\n",
              "      <td>8</td>\n",
              "      <td>CKM</td>\n",
              "    </tr>\n",
              "    <tr>\n",
              "      <th>1</th>\n",
              "      <td>2</td>\n",
              "      <td>NaN</td>\n",
              "      <td>NGUYEN VAN A</td>\n",
              "      <td>20104033</td>\n",
              "      <td>9</td>\n",
              "      <td>CKM</td>\n",
              "    </tr>\n",
              "    <tr>\n",
              "      <th>2</th>\n",
              "      <td>3</td>\n",
              "      <td>NaN</td>\n",
              "      <td>NGUYEN VAN A</td>\n",
              "      <td>20104034</td>\n",
              "      <td>6</td>\n",
              "      <td>CKM</td>\n",
              "    </tr>\n",
              "    <tr>\n",
              "      <th>3</th>\n",
              "      <td>4</td>\n",
              "      <td>NaN</td>\n",
              "      <td>NGUYEN VAN D</td>\n",
              "      <td>20104035</td>\n",
              "      <td>7</td>\n",
              "      <td>ATM</td>\n",
              "    </tr>\n",
              "    <tr>\n",
              "      <th>4</th>\n",
              "      <td>5</td>\n",
              "      <td>NaN</td>\n",
              "      <td>NGUYEN VAN E</td>\n",
              "      <td>20104036</td>\n",
              "      <td>2</td>\n",
              "      <td>BTM</td>\n",
              "    </tr>\n",
              "    <tr>\n",
              "      <th>5</th>\n",
              "      <td>6</td>\n",
              "      <td>NaN</td>\n",
              "      <td>NGUYEN VAN F</td>\n",
              "      <td>20104037</td>\n",
              "      <td>6</td>\n",
              "      <td>CTM</td>\n",
              "    </tr>\n",
              "    <tr>\n",
              "      <th>6</th>\n",
              "      <td>7</td>\n",
              "      <td>NaN</td>\n",
              "      <td>NGUYEN VAN O</td>\n",
              "      <td>20104038</td>\n",
              "      <td>5</td>\n",
              "      <td>CKM</td>\n",
              "    </tr>\n",
              "    <tr>\n",
              "      <th>7</th>\n",
              "      <td>8</td>\n",
              "      <td>NaN</td>\n",
              "      <td>NGUYEN THI A</td>\n",
              "      <td>20104039</td>\n",
              "      <td>10</td>\n",
              "      <td>ATM</td>\n",
              "    </tr>\n",
              "    <tr>\n",
              "      <th>8</th>\n",
              "      <td>9</td>\n",
              "      <td>NaN</td>\n",
              "      <td>NGUYEN THI B</td>\n",
              "      <td>20104040</td>\n",
              "      <td>7</td>\n",
              "      <td>BTM</td>\n",
              "    </tr>\n",
              "  </tbody>\n",
              "</table>\n",
              "</div>\n",
              "      <button class=\"colab-df-convert\" onclick=\"convertToInteractive('df-ab7012bb-7b81-42ff-8703-791afc1993e2')\"\n",
              "              title=\"Convert this dataframe to an interactive table.\"\n",
              "              style=\"display:none;\">\n",
              "        \n",
              "  <svg xmlns=\"http://www.w3.org/2000/svg\" height=\"24px\"viewBox=\"0 0 24 24\"\n",
              "       width=\"24px\">\n",
              "    <path d=\"M0 0h24v24H0V0z\" fill=\"none\"/>\n",
              "    <path d=\"M18.56 5.44l.94 2.06.94-2.06 2.06-.94-2.06-.94-.94-2.06-.94 2.06-2.06.94zm-11 1L8.5 8.5l.94-2.06 2.06-.94-2.06-.94L8.5 2.5l-.94 2.06-2.06.94zm10 10l.94 2.06.94-2.06 2.06-.94-2.06-.94-.94-2.06-.94 2.06-2.06.94z\"/><path d=\"M17.41 7.96l-1.37-1.37c-.4-.4-.92-.59-1.43-.59-.52 0-1.04.2-1.43.59L10.3 9.45l-7.72 7.72c-.78.78-.78 2.05 0 2.83L4 21.41c.39.39.9.59 1.41.59.51 0 1.02-.2 1.41-.59l7.78-7.78 2.81-2.81c.8-.78.8-2.07 0-2.86zM5.41 20L4 18.59l7.72-7.72 1.47 1.35L5.41 20z\"/>\n",
              "  </svg>\n",
              "      </button>\n",
              "      \n",
              "  <style>\n",
              "    .colab-df-container {\n",
              "      display:flex;\n",
              "      flex-wrap:wrap;\n",
              "      gap: 12px;\n",
              "    }\n",
              "\n",
              "    .colab-df-convert {\n",
              "      background-color: #E8F0FE;\n",
              "      border: none;\n",
              "      border-radius: 50%;\n",
              "      cursor: pointer;\n",
              "      display: none;\n",
              "      fill: #1967D2;\n",
              "      height: 32px;\n",
              "      padding: 0 0 0 0;\n",
              "      width: 32px;\n",
              "    }\n",
              "\n",
              "    .colab-df-convert:hover {\n",
              "      background-color: #E2EBFA;\n",
              "      box-shadow: 0px 1px 2px rgba(60, 64, 67, 0.3), 0px 1px 3px 1px rgba(60, 64, 67, 0.15);\n",
              "      fill: #174EA6;\n",
              "    }\n",
              "\n",
              "    [theme=dark] .colab-df-convert {\n",
              "      background-color: #3B4455;\n",
              "      fill: #D2E3FC;\n",
              "    }\n",
              "\n",
              "    [theme=dark] .colab-df-convert:hover {\n",
              "      background-color: #434B5C;\n",
              "      box-shadow: 0px 1px 3px 1px rgba(0, 0, 0, 0.15);\n",
              "      filter: drop-shadow(0px 1px 2px rgba(0, 0, 0, 0.3));\n",
              "      fill: #FFFFFF;\n",
              "    }\n",
              "  </style>\n",
              "\n",
              "      <script>\n",
              "        const buttonEl =\n",
              "          document.querySelector('#df-ab7012bb-7b81-42ff-8703-791afc1993e2 button.colab-df-convert');\n",
              "        buttonEl.style.display =\n",
              "          google.colab.kernel.accessAllowed ? 'block' : 'none';\n",
              "\n",
              "        async function convertToInteractive(key) {\n",
              "          const element = document.querySelector('#df-ab7012bb-7b81-42ff-8703-791afc1993e2');\n",
              "          const dataTable =\n",
              "            await google.colab.kernel.invokeFunction('convertToInteractive',\n",
              "                                                     [key], {});\n",
              "          if (!dataTable) return;\n",
              "\n",
              "          const docLinkHtml = 'Like what you see? Visit the ' +\n",
              "            '<a target=\"_blank\" href=https://colab.research.google.com/notebooks/data_table.ipynb>data table notebook</a>'\n",
              "            + ' to learn more about interactive tables.';\n",
              "          element.innerHTML = '';\n",
              "          dataTable['output_type'] = 'display_data';\n",
              "          await google.colab.output.renderOutput(dataTable, element);\n",
              "          const docLink = document.createElement('div');\n",
              "          docLink.innerHTML = docLinkHtml;\n",
              "          element.appendChild(docLink);\n",
              "        }\n",
              "      </script>\n",
              "    </div>\n",
              "  </div>\n",
              "  "
            ],
            "text/plain": [
              "   NO  Unnamed: 1     FULL NAME  STUDENT ID  SCORE KHOA\n",
              "0   1         NaN  NGUYEN VAN A    20104032      8  CKM\n",
              "1   2         NaN  NGUYEN VAN A    20104033      9  CKM\n",
              "2   3         NaN  NGUYEN VAN A    20104034      6  CKM\n",
              "3   4         NaN  NGUYEN VAN D    20104035      7  ATM\n",
              "4   5         NaN  NGUYEN VAN E    20104036      2  BTM\n",
              "5   6         NaN  NGUYEN VAN F    20104037      6  CTM\n",
              "6   7         NaN  NGUYEN VAN O    20104038      5  CKM\n",
              "7   8         NaN  NGUYEN THI A    20104039     10  ATM\n",
              "8   9         NaN  NGUYEN THI B    20104040      7  BTM"
            ]
          },
          "execution_count": 48,
          "metadata": {},
          "output_type": "execute_result"
        }
      ],
      "source": [
        "import pandas as pd \n",
        "url ='vu.csv'\n",
        "dataframe = pd.read_csv(url)\n",
        "dataframe.drop('YEAR', axis=1) .head(9)\n"
      ]
    },
    {
      "cell_type": "code",
      "execution_count": null,
      "metadata": {
        "colab": {
          "base_uri": "https://localhost:8080/"
        },
        "id": "oAypsGpI-EJU",
        "outputId": "b78b2994-a77f-4cc7-c094-13bc52fc1376"
      },
      "outputs": [
        {
          "data": {
            "text/plain": [
              "array(['AUT', 'BEL', 'CAN', 'FIN', 'FRA', 'GBR', 'NOR', 'SUI', 'SWE',\n",
              "       'USA', 'GER', 'TCH', 'HUN', 'ITA', 'FRG', 'NED', 'EUA', 'JPN',\n",
              "       'POL', 'URS', 'PRK', 'GDR', 'ROU', 'ESP', 'LIE', 'BUL', 'YUG',\n",
              "       'CHN', 'EUN', 'KOR', 'LUX', 'NZL', 'AUS', 'BLR', 'KAZ', 'RUS',\n",
              "       'SLO', 'UKR', 'UZB', 'CZE', 'DEN', 'CRO', 'EST', 'LAT', 'SVK'],\n",
              "      dtype=object)"
            ]
          },
          "execution_count": 56,
          "metadata": {},
          "output_type": "execute_result"
        }
      ],
      "source": [
        "import pandas as pd\n",
        "url = 'http://winterolympicsmedals.com/medals.csv'\n",
        "data = pd.read_csv(url)\n",
        "data\n",
        "data['NOC'].unique()\n"
      ]
    },
    {
      "cell_type": "code",
      "execution_count": null,
      "metadata": {
        "colab": {
          "base_uri": "https://localhost:8080/",
          "height": 1000
        },
        "id": "xjhSEowQAs7w",
        "outputId": "d5f2e7f4-98d2-4945-93bf-41e5809ac7fc"
      },
      "outputs": [
        {
          "data": {
            "text/html": [
              "\n",
              "  <div id=\"df-eb28af30-781a-4104-a0b2-77881dd80680\">\n",
              "    <div class=\"colab-df-container\">\n",
              "      <div>\n",
              "<style scoped>\n",
              "    .dataframe tbody tr th:only-of-type {\n",
              "        vertical-align: middle;\n",
              "    }\n",
              "\n",
              "    .dataframe tbody tr th {\n",
              "        vertical-align: top;\n",
              "    }\n",
              "\n",
              "    .dataframe thead th {\n",
              "        text-align: right;\n",
              "    }\n",
              "</style>\n",
              "<table border=\"1\" class=\"dataframe\">\n",
              "  <thead>\n",
              "    <tr style=\"text-align: right;\">\n",
              "      <th></th>\n",
              "      <th>Year</th>\n",
              "      <th>City</th>\n",
              "      <th>Sport</th>\n",
              "      <th>Discipline</th>\n",
              "      <th>NOC</th>\n",
              "      <th>Event</th>\n",
              "      <th>Event gender</th>\n",
              "      <th>Medal</th>\n",
              "    </tr>\n",
              "  </thead>\n",
              "  <tbody>\n",
              "    <tr>\n",
              "      <th>47</th>\n",
              "      <td>1924</td>\n",
              "      <td>Chamonix</td>\n",
              "      <td>Skating</td>\n",
              "      <td>Speed skating</td>\n",
              "      <td>USA</td>\n",
              "      <td>500m</td>\n",
              "      <td>M</td>\n",
              "      <td>Gold</td>\n",
              "    </tr>\n",
              "    <tr>\n",
              "      <th>84</th>\n",
              "      <td>1928</td>\n",
              "      <td>St. Moritz</td>\n",
              "      <td>Bobsleigh</td>\n",
              "      <td>Bobsleigh</td>\n",
              "      <td>USA</td>\n",
              "      <td>five-man</td>\n",
              "      <td>M</td>\n",
              "      <td>Gold</td>\n",
              "    </tr>\n",
              "    <tr>\n",
              "      <th>86</th>\n",
              "      <td>1928</td>\n",
              "      <td>St. Moritz</td>\n",
              "      <td>Bobsleigh</td>\n",
              "      <td>Skeleton</td>\n",
              "      <td>USA</td>\n",
              "      <td>individual</td>\n",
              "      <td>M</td>\n",
              "      <td>Gold</td>\n",
              "    </tr>\n",
              "    <tr>\n",
              "      <th>120</th>\n",
              "      <td>1932</td>\n",
              "      <td>Lake Placid</td>\n",
              "      <td>Bobsleigh</td>\n",
              "      <td>Bobsleigh</td>\n",
              "      <td>USA</td>\n",
              "      <td>four-man</td>\n",
              "      <td>M</td>\n",
              "      <td>Gold</td>\n",
              "    </tr>\n",
              "    <tr>\n",
              "      <th>123</th>\n",
              "      <td>1932</td>\n",
              "      <td>Lake Placid</td>\n",
              "      <td>Bobsleigh</td>\n",
              "      <td>Bobsleigh</td>\n",
              "      <td>USA</td>\n",
              "      <td>two-man</td>\n",
              "      <td>M</td>\n",
              "      <td>Gold</td>\n",
              "    </tr>\n",
              "    <tr>\n",
              "      <th>127</th>\n",
              "      <td>1932</td>\n",
              "      <td>Lake Placid</td>\n",
              "      <td>Skating</td>\n",
              "      <td>Speed skating</td>\n",
              "      <td>USA</td>\n",
              "      <td>10000m</td>\n",
              "      <td>M</td>\n",
              "      <td>Gold</td>\n",
              "    </tr>\n",
              "    <tr>\n",
              "      <th>128</th>\n",
              "      <td>1932</td>\n",
              "      <td>Lake Placid</td>\n",
              "      <td>Skating</td>\n",
              "      <td>Speed skating</td>\n",
              "      <td>USA</td>\n",
              "      <td>1500m</td>\n",
              "      <td>M</td>\n",
              "      <td>Gold</td>\n",
              "    </tr>\n",
              "    <tr>\n",
              "      <th>129</th>\n",
              "      <td>1932</td>\n",
              "      <td>Lake Placid</td>\n",
              "      <td>Skating</td>\n",
              "      <td>Speed skating</td>\n",
              "      <td>USA</td>\n",
              "      <td>5000m</td>\n",
              "      <td>M</td>\n",
              "      <td>Gold</td>\n",
              "    </tr>\n",
              "    <tr>\n",
              "      <th>131</th>\n",
              "      <td>1932</td>\n",
              "      <td>Lake Placid</td>\n",
              "      <td>Skating</td>\n",
              "      <td>Speed skating</td>\n",
              "      <td>USA</td>\n",
              "      <td>500m</td>\n",
              "      <td>M</td>\n",
              "      <td>Gold</td>\n",
              "    </tr>\n",
              "    <tr>\n",
              "      <th>180</th>\n",
              "      <td>1936</td>\n",
              "      <td>Garmisch-Partenkirchen</td>\n",
              "      <td>Bobsleigh</td>\n",
              "      <td>Bobsleigh</td>\n",
              "      <td>USA</td>\n",
              "      <td>two-man</td>\n",
              "      <td>M</td>\n",
              "      <td>Gold</td>\n",
              "    </tr>\n",
              "    <tr>\n",
              "      <th>243</th>\n",
              "      <td>1948</td>\n",
              "      <td>St. Moritz</td>\n",
              "      <td>Bobsleigh</td>\n",
              "      <td>Bobsleigh</td>\n",
              "      <td>USA</td>\n",
              "      <td>four-man</td>\n",
              "      <td>M</td>\n",
              "      <td>Gold</td>\n",
              "    </tr>\n",
              "    <tr>\n",
              "      <th>246</th>\n",
              "      <td>1948</td>\n",
              "      <td>St. Moritz</td>\n",
              "      <td>Skating</td>\n",
              "      <td>Figure skating</td>\n",
              "      <td>USA</td>\n",
              "      <td>individual</td>\n",
              "      <td>M</td>\n",
              "      <td>Gold</td>\n",
              "    </tr>\n",
              "    <tr>\n",
              "      <th>311</th>\n",
              "      <td>1952</td>\n",
              "      <td>Oslo</td>\n",
              "      <td>Skating</td>\n",
              "      <td>Figure skating</td>\n",
              "      <td>USA</td>\n",
              "      <td>individual</td>\n",
              "      <td>M</td>\n",
              "      <td>Gold</td>\n",
              "    </tr>\n",
              "    <tr>\n",
              "      <th>314</th>\n",
              "      <td>1952</td>\n",
              "      <td>Oslo</td>\n",
              "      <td>Skating</td>\n",
              "      <td>Speed skating</td>\n",
              "      <td>USA</td>\n",
              "      <td>500m</td>\n",
              "      <td>M</td>\n",
              "      <td>Gold</td>\n",
              "    </tr>\n",
              "    <tr>\n",
              "      <th>386</th>\n",
              "      <td>1956</td>\n",
              "      <td>Cortina d'Ampezzo</td>\n",
              "      <td>Skating</td>\n",
              "      <td>Figure skating</td>\n",
              "      <td>USA</td>\n",
              "      <td>individual</td>\n",
              "      <td>M</td>\n",
              "      <td>Gold</td>\n",
              "    </tr>\n",
              "    <tr>\n",
              "      <th>461</th>\n",
              "      <td>1960</td>\n",
              "      <td>Squaw Valley</td>\n",
              "      <td>Ice Hockey</td>\n",
              "      <td>Ice Hockey</td>\n",
              "      <td>USA</td>\n",
              "      <td>ice hockey</td>\n",
              "      <td>M</td>\n",
              "      <td>Gold</td>\n",
              "    </tr>\n",
              "    <tr>\n",
              "      <th>462</th>\n",
              "      <td>1960</td>\n",
              "      <td>Squaw Valley</td>\n",
              "      <td>Skating</td>\n",
              "      <td>Figure skating</td>\n",
              "      <td>USA</td>\n",
              "      <td>individual</td>\n",
              "      <td>M</td>\n",
              "      <td>Gold</td>\n",
              "    </tr>\n",
              "    <tr>\n",
              "      <th>569</th>\n",
              "      <td>1964</td>\n",
              "      <td>Innsbruck</td>\n",
              "      <td>Skating</td>\n",
              "      <td>Speed skating</td>\n",
              "      <td>USA</td>\n",
              "      <td>500m</td>\n",
              "      <td>M</td>\n",
              "      <td>Gold</td>\n",
              "    </tr>\n",
              "    <tr>\n",
              "      <th>888</th>\n",
              "      <td>1976</td>\n",
              "      <td>Innsbruck</td>\n",
              "      <td>Skating</td>\n",
              "      <td>Speed skating</td>\n",
              "      <td>USA</td>\n",
              "      <td>1000m</td>\n",
              "      <td>M</td>\n",
              "      <td>Gold</td>\n",
              "    </tr>\n",
              "    <tr>\n",
              "      <th>999</th>\n",
              "      <td>1980</td>\n",
              "      <td>Lake Placid</td>\n",
              "      <td>Ice Hockey</td>\n",
              "      <td>Ice Hockey</td>\n",
              "      <td>USA</td>\n",
              "      <td>ice hockey</td>\n",
              "      <td>M</td>\n",
              "      <td>Gold</td>\n",
              "    </tr>\n",
              "    <tr>\n",
              "      <th>1002</th>\n",
              "      <td>1980</td>\n",
              "      <td>Lake Placid</td>\n",
              "      <td>Skating</td>\n",
              "      <td>Speed skating</td>\n",
              "      <td>USA</td>\n",
              "      <td>10000m</td>\n",
              "      <td>M</td>\n",
              "      <td>Gold</td>\n",
              "    </tr>\n",
              "    <tr>\n",
              "      <th>1003</th>\n",
              "      <td>1980</td>\n",
              "      <td>Lake Placid</td>\n",
              "      <td>Skating</td>\n",
              "      <td>Speed skating</td>\n",
              "      <td>USA</td>\n",
              "      <td>1000m</td>\n",
              "      <td>M</td>\n",
              "      <td>Gold</td>\n",
              "    </tr>\n",
              "    <tr>\n",
              "      <th>1005</th>\n",
              "      <td>1980</td>\n",
              "      <td>Lake Placid</td>\n",
              "      <td>Skating</td>\n",
              "      <td>Speed skating</td>\n",
              "      <td>USA</td>\n",
              "      <td>1500m</td>\n",
              "      <td>M</td>\n",
              "      <td>Gold</td>\n",
              "    </tr>\n",
              "    <tr>\n",
              "      <th>1007</th>\n",
              "      <td>1980</td>\n",
              "      <td>Lake Placid</td>\n",
              "      <td>Skating</td>\n",
              "      <td>Speed skating</td>\n",
              "      <td>USA</td>\n",
              "      <td>5000m</td>\n",
              "      <td>M</td>\n",
              "      <td>Gold</td>\n",
              "    </tr>\n",
              "    <tr>\n",
              "      <th>1008</th>\n",
              "      <td>1980</td>\n",
              "      <td>Lake Placid</td>\n",
              "      <td>Skating</td>\n",
              "      <td>Speed skating</td>\n",
              "      <td>USA</td>\n",
              "      <td>500m</td>\n",
              "      <td>M</td>\n",
              "      <td>Gold</td>\n",
              "    </tr>\n",
              "    <tr>\n",
              "      <th>1119</th>\n",
              "      <td>1984</td>\n",
              "      <td>Sarajevo</td>\n",
              "      <td>Skating</td>\n",
              "      <td>Figure skating</td>\n",
              "      <td>USA</td>\n",
              "      <td>individual</td>\n",
              "      <td>M</td>\n",
              "      <td>Gold</td>\n",
              "    </tr>\n",
              "    <tr>\n",
              "      <th>1122</th>\n",
              "      <td>1984</td>\n",
              "      <td>Sarajevo</td>\n",
              "      <td>Skiing</td>\n",
              "      <td>Alpine Skiing</td>\n",
              "      <td>USA</td>\n",
              "      <td>downhill</td>\n",
              "      <td>M</td>\n",
              "      <td>Gold</td>\n",
              "    </tr>\n",
              "    <tr>\n",
              "      <th>1125</th>\n",
              "      <td>1984</td>\n",
              "      <td>Sarajevo</td>\n",
              "      <td>Skiing</td>\n",
              "      <td>Alpine Skiing</td>\n",
              "      <td>USA</td>\n",
              "      <td>slalom</td>\n",
              "      <td>M</td>\n",
              "      <td>Gold</td>\n",
              "    </tr>\n",
              "    <tr>\n",
              "      <th>1257</th>\n",
              "      <td>1988</td>\n",
              "      <td>Calgary</td>\n",
              "      <td>Skating</td>\n",
              "      <td>Figure skating</td>\n",
              "      <td>USA</td>\n",
              "      <td>individual</td>\n",
              "      <td>M</td>\n",
              "      <td>Gold</td>\n",
              "    </tr>\n",
              "    <tr>\n",
              "      <th>1611</th>\n",
              "      <td>1994</td>\n",
              "      <td>Lillehammer</td>\n",
              "      <td>Skating</td>\n",
              "      <td>Speed skating</td>\n",
              "      <td>USA</td>\n",
              "      <td>1000m</td>\n",
              "      <td>M</td>\n",
              "      <td>Gold</td>\n",
              "    </tr>\n",
              "    <tr>\n",
              "      <th>1614</th>\n",
              "      <td>1994</td>\n",
              "      <td>Lillehammer</td>\n",
              "      <td>Skiing</td>\n",
              "      <td>Alpine Skiing</td>\n",
              "      <td>USA</td>\n",
              "      <td>downhill</td>\n",
              "      <td>M</td>\n",
              "      <td>Gold</td>\n",
              "    </tr>\n",
              "    <tr>\n",
              "      <th>1820</th>\n",
              "      <td>1998</td>\n",
              "      <td>Nagano</td>\n",
              "      <td>Skiing</td>\n",
              "      <td>Freestyle Ski.</td>\n",
              "      <td>USA</td>\n",
              "      <td>aerials</td>\n",
              "      <td>M</td>\n",
              "      <td>Gold</td>\n",
              "    </tr>\n",
              "    <tr>\n",
              "      <th>1822</th>\n",
              "      <td>1998</td>\n",
              "      <td>Nagano</td>\n",
              "      <td>Skiing</td>\n",
              "      <td>Freestyle Ski.</td>\n",
              "      <td>USA</td>\n",
              "      <td>moguls</td>\n",
              "      <td>M</td>\n",
              "      <td>Gold</td>\n",
              "    </tr>\n",
              "    <tr>\n",
              "      <th>2028</th>\n",
              "      <td>2002</td>\n",
              "      <td>Salt Lake City</td>\n",
              "      <td>Bobsleigh</td>\n",
              "      <td>Skeleton</td>\n",
              "      <td>USA</td>\n",
              "      <td>individual</td>\n",
              "      <td>M</td>\n",
              "      <td>Gold</td>\n",
              "    </tr>\n",
              "    <tr>\n",
              "      <th>2039</th>\n",
              "      <td>2002</td>\n",
              "      <td>Salt Lake City</td>\n",
              "      <td>Skating</td>\n",
              "      <td>Short Track S.</td>\n",
              "      <td>USA</td>\n",
              "      <td>1500m</td>\n",
              "      <td>M</td>\n",
              "      <td>Gold</td>\n",
              "    </tr>\n",
              "    <tr>\n",
              "      <th>2044</th>\n",
              "      <td>2002</td>\n",
              "      <td>Salt Lake City</td>\n",
              "      <td>Skating</td>\n",
              "      <td>Speed skating</td>\n",
              "      <td>USA</td>\n",
              "      <td>1500m</td>\n",
              "      <td>M</td>\n",
              "      <td>Gold</td>\n",
              "    </tr>\n",
              "    <tr>\n",
              "      <th>2048</th>\n",
              "      <td>2002</td>\n",
              "      <td>Salt Lake City</td>\n",
              "      <td>Skating</td>\n",
              "      <td>Speed skating</td>\n",
              "      <td>USA</td>\n",
              "      <td>500m</td>\n",
              "      <td>M</td>\n",
              "      <td>Gold</td>\n",
              "    </tr>\n",
              "    <tr>\n",
              "      <th>2056</th>\n",
              "      <td>2002</td>\n",
              "      <td>Salt Lake City</td>\n",
              "      <td>Skiing</td>\n",
              "      <td>Snowboard</td>\n",
              "      <td>USA</td>\n",
              "      <td>Half-pipe</td>\n",
              "      <td>M</td>\n",
              "      <td>Gold</td>\n",
              "    </tr>\n",
              "    <tr>\n",
              "      <th>2293</th>\n",
              "      <td>2006</td>\n",
              "      <td>Turin</td>\n",
              "      <td>Skating</td>\n",
              "      <td>Short Track S.</td>\n",
              "      <td>USA</td>\n",
              "      <td>500m</td>\n",
              "      <td>M</td>\n",
              "      <td>Gold</td>\n",
              "    </tr>\n",
              "    <tr>\n",
              "      <th>2295</th>\n",
              "      <td>2006</td>\n",
              "      <td>Turin</td>\n",
              "      <td>Skating</td>\n",
              "      <td>Speed skating</td>\n",
              "      <td>USA</td>\n",
              "      <td>1000m</td>\n",
              "      <td>M</td>\n",
              "      <td>Gold</td>\n",
              "    </tr>\n",
              "    <tr>\n",
              "      <th>2299</th>\n",
              "      <td>2006</td>\n",
              "      <td>Turin</td>\n",
              "      <td>Skating</td>\n",
              "      <td>Speed skating</td>\n",
              "      <td>USA</td>\n",
              "      <td>5000m</td>\n",
              "      <td>M</td>\n",
              "      <td>Gold</td>\n",
              "    </tr>\n",
              "    <tr>\n",
              "      <th>2300</th>\n",
              "      <td>2006</td>\n",
              "      <td>Turin</td>\n",
              "      <td>Skating</td>\n",
              "      <td>Speed skating</td>\n",
              "      <td>USA</td>\n",
              "      <td>500m</td>\n",
              "      <td>M</td>\n",
              "      <td>Gold</td>\n",
              "    </tr>\n",
              "    <tr>\n",
              "      <th>2301</th>\n",
              "      <td>2006</td>\n",
              "      <td>Turin</td>\n",
              "      <td>Skiing</td>\n",
              "      <td>Alpine Skiing</td>\n",
              "      <td>USA</td>\n",
              "      <td>Alpine combined</td>\n",
              "      <td>M</td>\n",
              "      <td>Gold</td>\n",
              "    </tr>\n",
              "    <tr>\n",
              "      <th>2305</th>\n",
              "      <td>2006</td>\n",
              "      <td>Turin</td>\n",
              "      <td>Skiing</td>\n",
              "      <td>Snowboard</td>\n",
              "      <td>USA</td>\n",
              "      <td>Half-pipe</td>\n",
              "      <td>M</td>\n",
              "      <td>Gold</td>\n",
              "    </tr>\n",
              "    <tr>\n",
              "      <th>2309</th>\n",
              "      <td>2006</td>\n",
              "      <td>Turin</td>\n",
              "      <td>Skiing</td>\n",
              "      <td>Snowboard</td>\n",
              "      <td>USA</td>\n",
              "      <td>Snowboard Cross</td>\n",
              "      <td>M</td>\n",
              "      <td>Gold</td>\n",
              "    </tr>\n",
              "  </tbody>\n",
              "</table>\n",
              "</div>\n",
              "      <button class=\"colab-df-convert\" onclick=\"convertToInteractive('df-eb28af30-781a-4104-a0b2-77881dd80680')\"\n",
              "              title=\"Convert this dataframe to an interactive table.\"\n",
              "              style=\"display:none;\">\n",
              "        \n",
              "  <svg xmlns=\"http://www.w3.org/2000/svg\" height=\"24px\"viewBox=\"0 0 24 24\"\n",
              "       width=\"24px\">\n",
              "    <path d=\"M0 0h24v24H0V0z\" fill=\"none\"/>\n",
              "    <path d=\"M18.56 5.44l.94 2.06.94-2.06 2.06-.94-2.06-.94-.94-2.06-.94 2.06-2.06.94zm-11 1L8.5 8.5l.94-2.06 2.06-.94-2.06-.94L8.5 2.5l-.94 2.06-2.06.94zm10 10l.94 2.06.94-2.06 2.06-.94-2.06-.94-.94-2.06-.94 2.06-2.06.94z\"/><path d=\"M17.41 7.96l-1.37-1.37c-.4-.4-.92-.59-1.43-.59-.52 0-1.04.2-1.43.59L10.3 9.45l-7.72 7.72c-.78.78-.78 2.05 0 2.83L4 21.41c.39.39.9.59 1.41.59.51 0 1.02-.2 1.41-.59l7.78-7.78 2.81-2.81c.8-.78.8-2.07 0-2.86zM5.41 20L4 18.59l7.72-7.72 1.47 1.35L5.41 20z\"/>\n",
              "  </svg>\n",
              "      </button>\n",
              "      \n",
              "  <style>\n",
              "    .colab-df-container {\n",
              "      display:flex;\n",
              "      flex-wrap:wrap;\n",
              "      gap: 12px;\n",
              "    }\n",
              "\n",
              "    .colab-df-convert {\n",
              "      background-color: #E8F0FE;\n",
              "      border: none;\n",
              "      border-radius: 50%;\n",
              "      cursor: pointer;\n",
              "      display: none;\n",
              "      fill: #1967D2;\n",
              "      height: 32px;\n",
              "      padding: 0 0 0 0;\n",
              "      width: 32px;\n",
              "    }\n",
              "\n",
              "    .colab-df-convert:hover {\n",
              "      background-color: #E2EBFA;\n",
              "      box-shadow: 0px 1px 2px rgba(60, 64, 67, 0.3), 0px 1px 3px 1px rgba(60, 64, 67, 0.15);\n",
              "      fill: #174EA6;\n",
              "    }\n",
              "\n",
              "    [theme=dark] .colab-df-convert {\n",
              "      background-color: #3B4455;\n",
              "      fill: #D2E3FC;\n",
              "    }\n",
              "\n",
              "    [theme=dark] .colab-df-convert:hover {\n",
              "      background-color: #434B5C;\n",
              "      box-shadow: 0px 1px 3px 1px rgba(0, 0, 0, 0.15);\n",
              "      filter: drop-shadow(0px 1px 2px rgba(0, 0, 0, 0.3));\n",
              "      fill: #FFFFFF;\n",
              "    }\n",
              "  </style>\n",
              "\n",
              "      <script>\n",
              "        const buttonEl =\n",
              "          document.querySelector('#df-eb28af30-781a-4104-a0b2-77881dd80680 button.colab-df-convert');\n",
              "        buttonEl.style.display =\n",
              "          google.colab.kernel.accessAllowed ? 'block' : 'none';\n",
              "\n",
              "        async function convertToInteractive(key) {\n",
              "          const element = document.querySelector('#df-eb28af30-781a-4104-a0b2-77881dd80680');\n",
              "          const dataTable =\n",
              "            await google.colab.kernel.invokeFunction('convertToInteractive',\n",
              "                                                     [key], {});\n",
              "          if (!dataTable) return;\n",
              "\n",
              "          const docLinkHtml = 'Like what you see? Visit the ' +\n",
              "            '<a target=\"_blank\" href=https://colab.research.google.com/notebooks/data_table.ipynb>data table notebook</a>'\n",
              "            + ' to learn more about interactive tables.';\n",
              "          element.innerHTML = '';\n",
              "          dataTable['output_type'] = 'display_data';\n",
              "          await google.colab.output.renderOutput(dataTable, element);\n",
              "          const docLink = document.createElement('div');\n",
              "          docLink.innerHTML = docLinkHtml;\n",
              "          element.appendChild(docLink);\n",
              "        }\n",
              "      </script>\n",
              "    </div>\n",
              "  </div>\n",
              "  "
            ],
            "text/plain": [
              "      Year                    City       Sport      Discipline  NOC  \\\n",
              "47    1924                Chamonix     Skating   Speed skating  USA   \n",
              "84    1928              St. Moritz   Bobsleigh       Bobsleigh  USA   \n",
              "86    1928              St. Moritz   Bobsleigh        Skeleton  USA   \n",
              "120   1932             Lake Placid   Bobsleigh       Bobsleigh  USA   \n",
              "123   1932             Lake Placid   Bobsleigh       Bobsleigh  USA   \n",
              "127   1932             Lake Placid     Skating   Speed skating  USA   \n",
              "128   1932             Lake Placid     Skating   Speed skating  USA   \n",
              "129   1932             Lake Placid     Skating   Speed skating  USA   \n",
              "131   1932             Lake Placid     Skating   Speed skating  USA   \n",
              "180   1936  Garmisch-Partenkirchen   Bobsleigh       Bobsleigh  USA   \n",
              "243   1948              St. Moritz   Bobsleigh       Bobsleigh  USA   \n",
              "246   1948              St. Moritz     Skating  Figure skating  USA   \n",
              "311   1952                    Oslo     Skating  Figure skating  USA   \n",
              "314   1952                    Oslo     Skating   Speed skating  USA   \n",
              "386   1956       Cortina d'Ampezzo     Skating  Figure skating  USA   \n",
              "461   1960            Squaw Valley  Ice Hockey      Ice Hockey  USA   \n",
              "462   1960            Squaw Valley     Skating  Figure skating  USA   \n",
              "569   1964               Innsbruck     Skating   Speed skating  USA   \n",
              "888   1976               Innsbruck     Skating   Speed skating  USA   \n",
              "999   1980             Lake Placid  Ice Hockey      Ice Hockey  USA   \n",
              "1002  1980             Lake Placid     Skating   Speed skating  USA   \n",
              "1003  1980             Lake Placid     Skating   Speed skating  USA   \n",
              "1005  1980             Lake Placid     Skating   Speed skating  USA   \n",
              "1007  1980             Lake Placid     Skating   Speed skating  USA   \n",
              "1008  1980             Lake Placid     Skating   Speed skating  USA   \n",
              "1119  1984                Sarajevo     Skating  Figure skating  USA   \n",
              "1122  1984                Sarajevo      Skiing   Alpine Skiing  USA   \n",
              "1125  1984                Sarajevo      Skiing   Alpine Skiing  USA   \n",
              "1257  1988                 Calgary     Skating  Figure skating  USA   \n",
              "1611  1994             Lillehammer     Skating   Speed skating  USA   \n",
              "1614  1994             Lillehammer      Skiing   Alpine Skiing  USA   \n",
              "1820  1998                  Nagano      Skiing  Freestyle Ski.  USA   \n",
              "1822  1998                  Nagano      Skiing  Freestyle Ski.  USA   \n",
              "2028  2002          Salt Lake City   Bobsleigh        Skeleton  USA   \n",
              "2039  2002          Salt Lake City     Skating  Short Track S.  USA   \n",
              "2044  2002          Salt Lake City     Skating   Speed skating  USA   \n",
              "2048  2002          Salt Lake City     Skating   Speed skating  USA   \n",
              "2056  2002          Salt Lake City      Skiing       Snowboard  USA   \n",
              "2293  2006                   Turin     Skating  Short Track S.  USA   \n",
              "2295  2006                   Turin     Skating   Speed skating  USA   \n",
              "2299  2006                   Turin     Skating   Speed skating  USA   \n",
              "2300  2006                   Turin     Skating   Speed skating  USA   \n",
              "2301  2006                   Turin      Skiing   Alpine Skiing  USA   \n",
              "2305  2006                   Turin      Skiing       Snowboard  USA   \n",
              "2309  2006                   Turin      Skiing       Snowboard  USA   \n",
              "\n",
              "                Event Event gender Medal  \n",
              "47               500m            M  Gold  \n",
              "84           five-man            M  Gold  \n",
              "86         individual            M  Gold  \n",
              "120          four-man            M  Gold  \n",
              "123           two-man            M  Gold  \n",
              "127            10000m            M  Gold  \n",
              "128             1500m            M  Gold  \n",
              "129             5000m            M  Gold  \n",
              "131              500m            M  Gold  \n",
              "180           two-man            M  Gold  \n",
              "243          four-man            M  Gold  \n",
              "246        individual            M  Gold  \n",
              "311        individual            M  Gold  \n",
              "314              500m            M  Gold  \n",
              "386        individual            M  Gold  \n",
              "461        ice hockey            M  Gold  \n",
              "462        individual            M  Gold  \n",
              "569              500m            M  Gold  \n",
              "888             1000m            M  Gold  \n",
              "999        ice hockey            M  Gold  \n",
              "1002           10000m            M  Gold  \n",
              "1003            1000m            M  Gold  \n",
              "1005            1500m            M  Gold  \n",
              "1007            5000m            M  Gold  \n",
              "1008             500m            M  Gold  \n",
              "1119       individual            M  Gold  \n",
              "1122         downhill            M  Gold  \n",
              "1125           slalom            M  Gold  \n",
              "1257       individual            M  Gold  \n",
              "1611            1000m            M  Gold  \n",
              "1614         downhill            M  Gold  \n",
              "1820          aerials            M  Gold  \n",
              "1822           moguls            M  Gold  \n",
              "2028       individual            M  Gold  \n",
              "2039            1500m            M  Gold  \n",
              "2044            1500m            M  Gold  \n",
              "2048             500m            M  Gold  \n",
              "2056        Half-pipe            M  Gold  \n",
              "2293             500m            M  Gold  \n",
              "2295            1000m            M  Gold  \n",
              "2299            5000m            M  Gold  \n",
              "2300             500m            M  Gold  \n",
              "2301  Alpine combined            M  Gold  \n",
              "2305        Half-pipe            M  Gold  \n",
              "2309  Snowboard Cross            M  Gold  "
            ]
          },
          "execution_count": 1,
          "metadata": {},
          "output_type": "execute_result"
        }
      ],
      "source": [
        "import pandas as pd\n",
        "url = 'http://winterolympicsmedals.com/medals.csv'\n",
        "dataframe = pd.read_csv(url)\n",
        "dataframe[(dataframe['NOC']=='USA') & (dataframe['Medal']==\"Gold\") & (dataframe['Event gender']=='M')]\n",
        "\n"
      ]
    },
    {
      "cell_type": "code",
      "execution_count": null,
      "metadata": {
        "id": "x_pJKQ94l1hy"
      },
      "outputs": [],
      "source": [
        "from openpyxl import Workbook\n",
        "wb=Workbook()\n",
        "sheet=wb.active\n",
        "sheet['A1'] ='Nguyen Van A'\n",
        "sheet['B1'] ='20104001'\n",
        "sheet['A2'] ='Le Thi B'\n",
        "sheet['B2'] ='20104002'\n",
        "wb.save('test.xlsx')\n"
      ]
    },
    {
      "cell_type": "code",
      "execution_count": null,
      "metadata": {
        "id": "ck79465PopGl"
      },
      "outputs": [],
      "source": []
    },
    {
      "cell_type": "code",
      "execution_count": null,
      "metadata": {
        "colab": {
          "base_uri": "https://localhost:8080/"
        },
        "id": "-6MEpGmgngAk",
        "outputId": "70e174d6-5072-4bd7-ae83-312e0ef1de1a"
      },
      "outputs": [
        {
          "name": "stdout",
          "output_type": "stream",
          "text": [
            "Nguyen Van A 20104001\n",
            "Le Thi B 20104002\n"
          ]
        }
      ],
      "source": [
        "import openpyxl\n",
        "wb = openpyxl.load_workbook('test.xlsx') \n",
        "sheet=wb.active\n",
        "t1 = sheet['A1']\n",
        "t2 = sheet['B1']\n",
        "t3 = sheet.cell(row =2, column =1)\n",
        "t4 = sheet.cell(row =2, column =2)\n",
        "print(t1.value,t2.value)\n",
        "print(t3.value,t4.value)"
      ]
    },
    {
      "cell_type": "code",
      "execution_count": null,
      "metadata": {
        "id": "OdoA6_NOtXWF"
      },
      "outputs": [],
      "source": [
        "import openpyxl\n",
        "my_wb = openpyxl.Workbook() \n",
        "my_sheet = my_wb.active\n",
        "c1 = my_sheet.cell(row =1, column =1)\n",
        "c1.value = \"Bui Le Anh Vu\"\n",
        "c2 = my_sheet.cell(row =1, column =2)\n",
        "c2.value = \"Nguyen Vuong Kim Hoang\"\n",
        "c3 = my_sheet['A2']\n",
        "c3.value = \"Usa\"\n",
        "c4 = my_sheet['B2']\n",
        "c4.value = \"Vn\"\n",
        "my_wb.save('vu.xlsx')"
      ]
    },
    {
      "cell_type": "code",
      "execution_count": null,
      "metadata": {
        "id": "3knjWIy8yi_B"
      },
      "outputs": [],
      "source": [
        "import openpyxl\n",
        "my_wb = openpyxl.Workbook()\n",
        "my_sheet = my_wb.active\n",
        "my_wb.create_sheet(index =1 , title = \"CDT\")\n",
        "my_wb.save('vu.xlsx')\n"
      ]
    },
    {
      "cell_type": "code",
      "execution_count": null,
      "metadata": {
        "colab": {
          "base_uri": "https://localhost:8080/",
          "height": 183
        },
        "id": "yA68Homq1dPC",
        "outputId": "33f4ca75-85a3-4345-d9d4-0b0787aa03e4"
      },
      "outputs": [
        {
          "ename": "NameError",
          "evalue": "ignored",
          "output_type": "error",
          "traceback": [
            "\u001b[0;31m---------------------------------------------------------------------------\u001b[0m",
            "\u001b[0;31mNameError\u001b[0m                                 Traceback (most recent call last)",
            "\u001b[0;32m<ipython-input-36-7c028ba43421>\u001b[0m in \u001b[0;36m<module>\u001b[0;34m\u001b[0m\n\u001b[0;32m----> 1\u001b[0;31m \u001b[0mmy_cell_obj\u001b[0m \u001b[0;34m=\u001b[0m \u001b[0mmy_sheet_obj\u001b[0m\u001b[0;34m.\u001b[0m\u001b[0mcell\u001b[0m\u001b[0;34m(\u001b[0m\u001b[0mrow\u001b[0m \u001b[0;34m=\u001b[0m\u001b[0;36m1\u001b[0m\u001b[0;34m,\u001b[0m \u001b[0mcolumn\u001b[0m \u001b[0;34m=\u001b[0m\u001b[0;36m1\u001b[0m\u001b[0;34m)\u001b[0m\u001b[0;34m\u001b[0m\u001b[0;34m\u001b[0m\u001b[0m\n\u001b[0m\u001b[1;32m      2\u001b[0m \u001b[0mprint\u001b[0m\u001b[0;34m(\u001b[0m\u001b[0mmy_cell_obj\u001b[0m\u001b[0;34m.\u001b[0m\u001b[0mvalue\u001b[0m\u001b[0;34m)\u001b[0m\u001b[0;34m\u001b[0m\u001b[0;34m\u001b[0m\u001b[0m\n",
            "\u001b[0;31mNameError\u001b[0m: name 'my_sheet_obj' is not defined"
          ]
        }
      ],
      "source": [
        "my_cell_obj = my_sheet_obj.cell(row =1, column =1)\n",
        "print(my_cell_obj.value)\n"
      ]
    },
    {
      "cell_type": "code",
      "execution_count": null,
      "metadata": {
        "colab": {
          "base_uri": "https://localhost:8080/",
          "height": 282
        },
        "id": "cl2v9KLh2kK_",
        "outputId": "c22bfd91-de5f-4e4c-cd35-8366480bba08"
      },
      "outputs": [
        {
          "data": {
            "text/plain": [
              "<function matplotlib.pyplot.show(*args, **kw)>"
            ]
          },
          "execution_count": 46,
          "metadata": {},
          "output_type": "execute_result"
        },
        {
          "data": {
            "image/png": "[encoded data removed]",
            "text/plain": [
              "<Figure size 432x288 with 1 Axes>"
            ]
          },
          "metadata": {},
          "output_type": "display_data"
        }
      ],
      "source": [
        "import matplotlib.pyplot as plt\n",
        "import numpy as np\n",
        "x=np.arange(6)\n",
        "y=x+1\n",
        "plt.plot(x,y,'o--')\n",
        "plt.show"
      ]
    },
    {
      "cell_type": "code",
      "execution_count": null,
      "metadata": {
        "colab": {
          "base_uri": "https://localhost:8080/",
          "height": 312
        },
        "id": "tz_S3Pm15rxa",
        "outputId": "bd83a6cc-d9ca-4475-fbd6-073ed39e6717"
      },
      "outputs": [
        {
          "data": {
            "text/plain": [
              "<function matplotlib.pyplot.show(*args, **kw)>"
            ]
          },
          "execution_count": 50,
          "metadata": {},
          "output_type": "execute_result"
        },
        {
          "data": {
            "image/png": "[encoded data removed]",
            "text/plain": [
              "<Figure size 432x288 with 1 Axes>"
            ]
          },
          "metadata": {},
          "output_type": "display_data"
        }
      ],
      "source": [
        "import matplotlib.pyplot as plt\n",
        "import numpy as np\n",
        "x=np.arange(6)\n",
        "y=x+1\n",
        "plt.plot(x,y,'o--')\n",
        "plt.plot(x,-y,'o-')\n",
        "plt.title('y=x va y=-x')\n",
        "plt.xlabel('x')\n",
        "plt.ylabel('y')\n",
        "plt.show"
      ]
    },
    {
      "cell_type": "code",
      "execution_count": null,
      "metadata": {
        "colab": {
          "base_uri": "https://localhost:8080/",
          "height": 312
        },
        "id": "jpsmhE2U6nLp",
        "outputId": "cb80d548-6983-4c95-ea58-696bd51922ec"
      },
      "outputs": [
        {
          "data": {
            "text/plain": [
              "<function matplotlib.pyplot.show(*args, **kw)>"
            ]
          },
          "execution_count": 52,
          "metadata": {},
          "output_type": "execute_result"
        },
        {
          "data": {
            "image/png": "[encoded data removed]",
            "text/plain": [
              "<Figure size 432x288 with 1 Axes>"
            ]
          },
          "metadata": {},
          "output_type": "display_data"
        }
      ],
      "source": [
        "import matplotlib.pyplot as plt\n",
        "import numpy as np\n",
        "x=np.arange(6)\n",
        "y=x+1\n",
        "plt.plot(x,y,'o--')\n",
        "plt.plot(x,-y,'o-')\n",
        "plt.title('y=x va y=-x')\n",
        "plt.grid('x')\n",
        "plt.xlabel('x')\n",
        "plt.ylabel('y')\n",
        "plt.show"
      ]
    },
    {
      "cell_type": "code",
      "execution_count": null,
      "metadata": {
        "colab": {
          "base_uri": "https://localhost:8080/",
          "height": 265
        },
        "id": "6-ao3uvA68HN",
        "outputId": "a7691167-b650-4382-eff8-8c05219f686f"
      },
      "outputs": [
        {
          "data": {
            "text/plain": [
              "<function matplotlib.pyplot.show(*args, **kw)>"
            ]
          },
          "execution_count": 56,
          "metadata": {},
          "output_type": "execute_result"
        },
        {
          "data": {
            "image/png": "[encoded data removed]",
            "text/plain": [
              "<Figure size 432x288 with 1 Axes>"
            ]
          },
          "metadata": {},
          "output_type": "display_data"
        }
      ],
      "source": [
        "import matplotlib.pyplot as plt\n",
        "import numpy as np\n",
        "n=16\n",
        "x=np.linspace(0,15,16)\n",
        "y=x\n",
        "plt.plot(x,y,'o--')\n",
        "plt.axis('off')\n",
        "plt.show"
      ]
    },
    {
      "cell_type": "code",
      "execution_count": null,
      "metadata": {
        "colab": {
          "base_uri": "https://localhost:8080/",
          "height": 282
        },
        "id": "1gvc5QIr7yBP",
        "outputId": "f9b8b959-a361-422a-b3cd-65204a242df0"
      },
      "outputs": [
        {
          "data": {
            "text/plain": [
              "<function matplotlib.pyplot.show(*args, **kw)>"
            ]
          },
          "execution_count": 59,
          "metadata": {},
          "output_type": "execute_result"
        },
        {
          "data": {
            "image/png": "[encoded data removed]",
            "text/plain": [
              "<Figure size 432x288 with 1 Axes>"
            ]
          },
          "metadata": {},
          "output_type": "display_data"
        }
      ],
      "source": [
        "import matplotlib.pyplot as plt\n",
        "import numpy as np\n",
        "n=16\n",
        "x=np.linspace(0,15,16)\n",
        "y=np.linspace(0.1,2,16)\n",
        "plt.plot(x,y,'o--')\n",
        "plt.show"
      ]
    },
    {
      "cell_type": "code",
      "execution_count": null,
      "metadata": {
        "colab": {
          "base_uri": "https://localhost:8080/",
          "height": 282
        },
        "id": "xk3G1XV88RRI",
        "outputId": "e7f4ca02-89d2-47a8-dbe6-1cf5e6c1bdc5"
      },
      "outputs": [
        {
          "data": {
            "text/plain": [
              "<function matplotlib.pyplot.show(*args, **kw)>"
            ]
          },
          "execution_count": 61,
          "metadata": {},
          "output_type": "execute_result"
        },
        {
          "data": {
            "image/png": "[encoded data removed]",
            "text/plain": [
              "<Figure size 432x288 with 1 Axes>"
            ]
          },
          "metadata": {},
          "output_type": "display_data"
        }
      ],
      "source": [
        "import matplotlib.pyplot as plt\n",
        "import numpy as np\n",
        "x=[4,5,3,1,6,7]\n",
        "plt.plot(x)\n",
        "plt.show"
      ]
    },
    {
      "cell_type": "code",
      "execution_count": null,
      "metadata": {
        "colab": {
          "base_uri": "https://localhost:8080/",
          "height": 285
        },
        "id": "JpcyfLj88m8U",
        "outputId": "cb49fe88-a024-4b5e-8509-5ecf8885abb0"
      },
      "outputs": [
        {
          "data": {
            "text/plain": [
              "<function matplotlib.pyplot.show(*args, **kw)>"
            ]
          },
          "execution_count": 62,
          "metadata": {},
          "output_type": "execute_result"
        },
        {
          "data": {
            "image/png": "[encoded data removed]",
            "text/plain": [
              "<Figure size 432x288 with 1 Axes>"
            ]
          },
          "metadata": {},
          "output_type": "display_data"
        }
      ],
      "source": [
        "import matplotlib.pyplot as plt\n",
        "import numpy as np\n",
        "x=np.arange(25)\n",
        "plt.plot(x)\n",
        "plt.show"
      ]
    },
    {
      "cell_type": "code",
      "execution_count": null,
      "metadata": {
        "colab": {
          "base_uri": "https://localhost:8080/",
          "height": 282
        },
        "id": "YBMY_tiS9DOD",
        "outputId": "62d2cc1e-6e6f-40b7-d1d2-6673f921d484"
      },
      "outputs": [
        {
          "data": {
            "text/plain": [
              "<function matplotlib.pyplot.show(*args, **kw)>"
            ]
          },
          "execution_count": 70,
          "metadata": {},
          "output_type": "execute_result"
        },
        {
          "data": {
            "image/png": "[encoded data removed]",
            "text/plain": [
              "<Figure size 432x288 with 1 Axes>"
            ]
          },
          "metadata": {},
          "output_type": "display_data"
        }
      ],
      "source": [
        "import matplotlib.pyplot as plt\n",
        "import numpy as np\n",
        "x=np.arange(25)\n",
        "plt.plot(x,(x**3)+1)\n",
        "plt.show\n"
      ]
    },
    {
      "cell_type": "code",
      "execution_count": null,
      "metadata": {
        "colab": {
          "base_uri": "https://localhost:8080/",
          "height": 282
        },
        "id": "ybfVZS0m9wst",
        "outputId": "17340406-96ad-4d6c-b791-399598a01050"
      },
      "outputs": [
        {
          "data": {
            "text/plain": [
              "<function matplotlib.pyplot.show(*args, **kw)>"
            ]
          },
          "execution_count": 72,
          "metadata": {},
          "output_type": "execute_result"
        },
        {
          "data": {
            "image/png": "[encoded data removed]",
            "text/plain": [
              "<Figure size 432x288 with 1 Axes>"
            ]
          },
          "metadata": {},
          "output_type": "display_data"
        }
      ],
      "source": [
        "import matplotlib.pyplot as plt\n",
        "import numpy as np\n",
        "x=np.arange(7)\n",
        "plt.plot(x,(-x**2))\n",
        "plt.plot(x,(-x**3))\n",
        "plt.plot(x,(-2*x))\n",
        "plt.plot(x,(-2**x))\n",
        "plt.show"
      ]
    },
    {
      "cell_type": "code",
      "execution_count": null,
      "metadata": {
        "colab": {
          "base_uri": "https://localhost:8080/",
          "height": 282
        },
        "id": "jzGUT_0C-6F9",
        "outputId": "a2c2e001-6621-47af-eb9f-c44c0bc3a318"
      },
      "outputs": [
        {
          "data": {
            "text/plain": [
              "<function matplotlib.pyplot.show(*args, **kw)>"
            ]
          },
          "execution_count": 74,
          "metadata": {},
          "output_type": "execute_result"
        },
        {
          "data": {
            "image/png": "[encoded data removed]",
            "text/plain": [
              "<Figure size 432x288 with 1 Axes>"
            ]
          },
          "metadata": {},
          "output_type": "display_data"
        }
      ],
      "source": [
        "import matplotlib.pyplot as plt\n",
        "import numpy as np\n",
        "x=np.arange(7)\n",
        "plt.plot(x,-x**2,x,-x**3,x,-2*x,x,x-2**x)\n",
        "plt.grid(True)\n",
        "plt.savefig('test.png')\n",
        "plt.show"
      ]
    },
    {
      "cell_type": "code",
      "execution_count": null,
      "metadata": {
        "colab": {
          "base_uri": "https://localhost:8080/",
          "height": 322
        },
        "id": "AqOUbHR6AFcM",
        "outputId": "9906cfbb-6317-4a82-c9cf-6afae2051ad9"
      },
      "outputs": [
        {
          "name": "stderr",
          "output_type": "stream",
          "text": [
            "/usr/local/lib/python3.7/dist-packages/ipykernel_launcher.py:11: MatplotlibDeprecationWarning: Adding an axes using the same arguments as a previous axes currently reuses the earlier instance.  In a future version, a new instance will always be created and returned.  Meanwhile, this warning can be suppressed, and the future behavior ensured, by passing a unique label to each axes instance.\n",
            "  # This is added back by InteractiveShellApp.init_path()\n"
          ]
        },
        {
          "data": {
            "image/png": "[encoded data removed]",
            "text/plain": [
              "<Figure size 432x288 with 3 Axes>"
            ]
          },
          "metadata": {},
          "output_type": "display_data"
        }
      ],
      "source": [
        "import matplotlib.pyplot as plt\n",
        "import numpy as np\n",
        "x=np.arange(3)\n",
        "plt.subplots_adjust(wspace=0.3,hspace=0.3)\n",
        "plt.subplot(3,2,1)\n",
        "plt.plot(x,-x**2,color='g')\n",
        "plt.subplot(2,2,2)\n",
        "plt.plot(x,-x**3,color='r')\n",
        "plt.subplot(2,2,3)\n",
        "plt.plot(x,-2*x,color='b')\n",
        "plt.subplot(2,2,3)\n",
        "plt.plot(x,-2**x,'o')\n",
        "plt.show()\n"
      ]
    },
    {
      "cell_type": "code",
      "execution_count": null,
      "metadata": {
        "colab": {
          "base_uri": "https://localhost:8080/",
          "height": 269
        },
        "id": "Q4ffTqcTDp7K",
        "outputId": "3d0a1c81-1dc0-4eec-b30a-dd3d609804bd"
      },
      "outputs": [
        {
          "data": {
            "image/png": "[encoded data removed]",
            "text/plain": [
              "<Figure size 432x288 with 1 Axes>"
            ]
          },
          "metadata": {},
          "output_type": "display_data"
        }
      ],
      "source": [
        "import matplotlib.pyplot as plt\n",
        "import numpy as np\n",
        "plt.axis([0,100,0,10])\n",
        "plt.scatter(60,5,1000,color='b',alpha=.1)\n",
        "plt.scatter(80,5,s=1000,color='r',alpha=.5)\n",
        "plt.scatter(70,5,s=1000,color='g',alpha=.1)\n",
        "plt.show()"
      ]
    },
    {
      "cell_type": "code",
      "execution_count": null,
      "metadata": {
        "colab": {
          "base_uri": "https://localhost:8080/",
          "height": 265
        },
        "id": "7lPx-s0kF-4o",
        "outputId": "c06ab3db-18b5-4686-9e48-f3149b225bf3"
      },
      "outputs": [
        {
          "data": {
            "image/png": "[encoded data removed]",
            "text/plain": [
              "<Figure size 432x288 with 1 Axes>"
            ]
          },
          "metadata": {},
          "output_type": "display_data"
        }
      ],
      "source": [
        "import matplotlib.pyplot as plt\n",
        "import numpy as np\n",
        "plt.plot([10,15],[6,13],linewidth=5,color='r')\n",
        "plt.text(10,11,'Text')\n",
        "plt.show()"
      ]
    },
    {
      "cell_type": "code",
      "execution_count": null,
      "metadata": {
        "colab": {
          "base_uri": "https://localhost:8080/",
          "height": 269
        },
        "id": "FMZFN4c2IEdX",
        "outputId": "40c9bf0a-63ee-4baf-e0a9-0342c76597a3"
      },
      "outputs": [
        {
          "data": {
            "image/png": "[encoded data removed]",
            "text/plain": [
              "<Figure size 432x288 with 1 Axes>"
            ]
          },
          "metadata": {},
          "output_type": "display_data"
        }
      ],
      "source": [
        "import matplotlib.pyplot as plt\n",
        "import numpy as np\n",
        "plt.axis([0,20])\n",
        "plt.arrow(30,30,30-0,0-30,head_length=4,head_width=2,color='g')\n",
        "plt.show()"
      ]
    },
    {
      "cell_type": "code",
      "execution_count": null,
      "metadata": {
        "colab": {
          "base_uri": "https://localhost:8080/",
          "height": 282
        },
        "id": "w9Kn-JNfJiwn",
        "outputId": "7f319eab-8260-4ddb-9f72-abfe87eabfdb"
      },
      "outputs": [
        {
          "data": {
            "text/plain": [
              "<function matplotlib.pyplot.show(*args, **kw)>"
            ]
          },
          "execution_count": 105,
          "metadata": {},
          "output_type": "execute_result"
        },
        {
          "data": {
            "image/png": "[encoded data removed]",
            "text/plain": [
              "<Figure size 432x288 with 1 Axes>"
            ]
          },
          "metadata": {},
          "output_type": "display_data"
        }
      ],
      "source": [
        "import matplotlib.pyplot as plt\n",
        "import numpy as np\n",
        "x=np.arange(4)\n",
        "y=np.random.rand(4)\n",
        "plt.bar(x,y)\n",
        "plt.show"
      ]
    },
    {
      "cell_type": "code",
      "execution_count": null,
      "metadata": {
        "colab": {
          "base_uri": "https://localhost:8080/",
          "height": 282
        },
        "id": "LrM918b5K129",
        "outputId": "ba5bc3e5-e057-4c00-d694-133a540794ec"
      },
      "outputs": [
        {
          "data": {
            "text/plain": [
              "<function matplotlib.pyplot.show(*args, **kw)>"
            ]
          },
          "execution_count": 106,
          "metadata": {},
          "output_type": "execute_result"
        },
        {
          "data": {
            "image/png": "[encoded data removed]",
            "text/plain": [
              "<Figure size 432x288 with 1 Axes>"
            ]
          },
          "metadata": {},
          "output_type": "display_data"
        }
      ],
      "source": [
        "import matplotlib.pyplot as plt\n",
        "import numpy as np\n",
        "x=np.arange(4)\n",
        "y=np.random.rand(3,4)\n",
        "plt.bar(x+0,y[0],color='b',width=0.25)\n",
        "plt.bar(x+0.25,y[1],color='y',width=0.25)\n",
        "plt.bar(x+0.5,y[2],color='r',width=0.25)\n",
        "plt.show"
      ]
    },
    {
      "cell_type": "code",
      "execution_count": null,
      "metadata": {
        "colab": {
          "base_uri": "https://localhost:8080/",
          "height": 265
        },
        "id": "gLxs-ra3Lr4f",
        "outputId": "51e85446-814c-4f7a-a56b-f2946bfe579a"
      },
      "outputs": [
        {
          "data": {
            "image/png": "[encoded data removed]",
            "text/plain": [
              "<Figure size 432x288 with 1 Axes>"
            ]
          },
          "metadata": {},
          "output_type": "display_data"
        }
      ],
      "source": [
        "import matplotlib.pyplot as plt\n",
        "import numpy as np\n",
        "N=1000\n",
        "x=np.random.rand(N)\n",
        "y=np.random.rand(N)\n",
        "color=y=np.random.rand(N)\n",
        "size = 20\n",
        "plt.scatter(x,y,s=size,c=color,alpha=1)\n",
        "plt.show()"
      ]
    },
    {
      "cell_type": "code",
      "execution_count": null,
      "metadata": {
        "colab": {
          "base_uri": "https://localhost:8080/"
        },
        "id": "CaDy5TG43RdS",
        "outputId": "9740cc15-eb3e-4d77-931d-29dc90a92684"
      },
      "outputs": [
        {
          "name": "stdout",
          "output_type": "stream",
          "text": [
            "Looking in indexes: https://pypi.org/simple, https://us-python.pkg.dev/colab-wheels/public/simple/\n",
            "Requirement already satisfied: scikit-fuzzy in /usr/local/lib/python3.7/dist-packages (0.4.2)\n",
            "Requirement already satisfied: networkx>=1.9.0 in /usr/local/lib/python3.7/dist-packages (from scikit-fuzzy) (2.6.3)\n",
            "Requirement already satisfied: numpy>=1.6.0 in /usr/local/lib/python3.7/dist-packages (from scikit-fuzzy) (1.21.6)\n",
            "Requirement already satisfied: scipy>=0.9.0 in /usr/local/lib/python3.7/dist-packages (from scikit-fuzzy) (1.7.3)\n"
          ]
        }
      ],
      "source": [
        "pip install scikit-fuzzy"
      ]
    },
    {
      "cell_type": "code",
      "execution_count": null,
      "metadata": {
        "colab": {
          "base_uri": "https://localhost:8080/"
        },
        "id": "BMR6P3Pw35aP",
        "outputId": "87a72862-b567-4104-915a-25370d246270"
      },
      "outputs": [
        {
          "data": {
            "text/plain": [
              "array([0. , 0.2, 0.4, 0.6, 0.8, 1. , 0.8, 0.6, 0.4, 0.2, 0. ])"
            ]
          },
          "execution_count": 6,
          "metadata": {},
          "output_type": "execute_result"
        }
      ],
      "source": [
        "import numpy as np\n",
        "import skfuzzy as fuzz\n",
        "x= np.arange(11)\n",
        "mfx= fuzz.trimf(x,[0,5,10])\n",
        "x\n",
        "mfx\n"
      ]
    },
    {
      "cell_type": "code",
      "execution_count": null,
      "metadata": {
        "colab": {
          "base_uri": "https://localhost:8080/",
          "height": 826
        },
        "id": "S4G9Zpqm3-Tq",
        "outputId": "3c8bbfd5-5f4e-4dde-c189-c6ce8c40f7d9"
      },
      "outputs": [
        {
          "name": "stderr",
          "output_type": "stream",
          "text": [
            "WARNING:matplotlib.legend:No handles with labels found to put in legend.\n"
          ]
        },
        {
          "data": {
            "image/png": "[encoded data removed]",
            "text/plain": [
              "<Figure size 432x288 with 1 Axes>"
            ]
          },
          "metadata": {},
          "output_type": "display_data"
        },
        {
          "data": {
            "image/png": "[encoded data removed]",
            "text/plain": [
              "<Figure size 432x288 with 1 Axes>"
            ]
          },
          "metadata": {},
          "output_type": "display_data"
        },
        {
          "data": {
            "image/png": "[encoded data removed]",
            "text/plain": [
              "<Figure size 432x288 with 1 Axes>"
            ]
          },
          "metadata": {},
          "output_type": "display_data"
        }
      ],
      "source": [
        "import numpy as np\n",
        "import skfuzzy as fuzz\n",
        "from skfuzzy import control as ctrl\n",
        "food=ctrl.Antecedent(np.arange(0,11,1),'food')\n",
        "service=ctrl.Antecedent(np.arange(0,11,1),'service')\n",
        "tip=ctrl.Consequent(np.arange(10,26,1),'hp')\n",
        "food['poor']=fuzz.trimf(food.universe,[0,0,5])\n",
        "food['average']=fuzz.trimf(food.universe,[0,5,10])\n",
        "tip['much']=fuzz.trimf(tip.universe,[18,22,25])\n",
        "service.view()\n",
        "food.view()\n",
        "tip.view()\n"
      ]
    },
    {
      "cell_type": "code",
      "execution_count": null,
      "metadata": {
        "colab": {
          "base_uri": "https://localhost:8080/",
          "height": 809
        },
        "id": "AvRA62vd4gFq",
        "outputId": "0833f262-b28b-42f8-9fce-7a544cf1cf80"
      },
      "outputs": [
        {
          "data": {
            "image/png": "[encoded data removed]",
            "text/plain": [
              "<Figure size 432x288 with 1 Axes>"
            ]
          },
          "metadata": {},
          "output_type": "display_data"
        },
        {
          "data": {
            "image/png": "[encoded data removed]",
            "text/plain": [
              "<Figure size 432x288 with 1 Axes>"
            ]
          },
          "metadata": {},
          "output_type": "display_data"
        },
        {
          "data": {
            "image/png": "[encoded data removed]",
            "text/plain": [
              "<Figure size 432x288 with 1 Axes>"
            ]
          },
          "metadata": {},
          "output_type": "display_data"
        }
      ],
      "source": [
        "import numpy as np\n",
        "import skfuzzy as fuzz\n",
        "from skfuzzy import control as ctrl \n",
        "food = ctrl.Antecedent(np.arange(0,11,1),'food')\n",
        "service = ctrl.Antecedent(np.arange(0,11,1),'service')\n",
        "tip = ctrl.Consequent(np.arange(10,26,1),'tip')\n",
        "food['poor']=fuzz.trimf(food.universe,[0,0,5])\n",
        "food['average']=fuzz.trimf(food.universe,[0,5,10])\n",
        "food['good']=fuzz.trimf(food.universe,[5,10,15])\n",
        "service['poor']=fuzz.trimf(service.universe,[0,0,5])\n",
        "service['average']=fuzz.trimf(service.universe,[0,5,10])\n",
        "service['good']=fuzz.trimf(service.universe,[5,10,10])\n",
        "tip['less']=fuzz.trimf(tip.universe,[10,14,18])\n",
        "tip['normal']=fuzz.trimf(tip.universe,[14,18,22])\n",
        "tip['much']=fuzz.trimf(tip.universe,[18,22,25])\n",
        "service.view()\n",
        "food.view()\n",
        "tip.view()"
      ]
    },
    {
      "cell_type": "code",
      "execution_count": null,
      "metadata": {
        "colab": {
          "base_uri": "https://localhost:8080/",
          "height": 298
        },
        "id": "YWx3dFHg6UA5",
        "outputId": "efea1da4-683b-4e1b-8c8e-50b509a1e3cf"
      },
      "outputs": [
        {
          "name": "stdout",
          "output_type": "stream",
          "text": [
            "17.516163602679207\n"
          ]
        },
        {
          "data": {
            "image/png": "[encoded data removed]",
            "text/plain": [
              "<Figure size 432x288 with 1 Axes>"
            ]
          },
          "metadata": {},
          "output_type": "display_data"
        }
      ],
      "source": [
        "rule1 = ctrl.Rule(food['poor']&service['poor'],tip['less'])\n",
        "rule2 = ctrl.Rule(food['poor']&service['average'],tip['less'])\n",
        "rule3 = ctrl.Rule(food['poor']&service['good'],tip['normal'])\n",
        "rule4 = ctrl.Rule(food['average']&service['poor'],tip['less'])\n",
        "rule5 = ctrl.Rule(food['average']&service['average'],tip['normal'])\n",
        "rule6 = ctrl.Rule(food['average']&service['good'],tip['much'])\n",
        "rule7 = ctrl.Rule(food['good']&service['poor'],tip['normal'])\n",
        "rule8 = ctrl.Rule(food['good']&service['average'],tip['much'])\n",
        "rule9 = ctrl.Rule(food['good']&service['good'],tip['much'])\n",
        "tipping_ctrl = ctrl.ControlSystem([rule1,rule2,rule3,rule4,rule5,rule6, rule7,rule8,rule9])\n",
        "tipping = ctrl.ControlSystemSimulation(tipping_ctrl)\n",
        "tipping.input['food'] = 6.2\n",
        "tipping.input['service'] = 3.5\n",
        "tipping.compute()\n",
        "print(tipping.output['tip'])\n",
        "tip.view(sim=tipping)\n"
      ]
    },
    {
      "cell_type": "code",
      "execution_count": null,
      "metadata": {
        "colab": {
          "base_uri": "https://localhost:8080/"
        },
        "id": "E0LiFLDWG83_",
        "outputId": "d09a3d49-dab7-49e7-8fa4-b98fc94eafb4"
      },
      "outputs": [
        {
          "name": "stdout",
          "output_type": "stream",
          "text": [
            "Looking in indexes: https://pypi.org/simple, https://us-python.pkg.dev/colab-wheels/public/simple/\n",
            "Collecting scikit-fuzzy\n",
            "  Downloading scikit-fuzzy-0.4.2.tar.gz (993 kB)\n",
            "\u001b[K     |████████████████████████████████| 993 kB 21.8 MB/s \n",
            "\u001b[?25hRequirement already satisfied: numpy>=1.6.0 in /usr/local/lib/python3.7/dist-packages (from scikit-fuzzy) (1.21.6)\n",
            "Requirement already satisfied: scipy>=0.9.0 in /usr/local/lib/python3.7/dist-packages (from scikit-fuzzy) (1.7.3)\n",
            "Requirement already satisfied: networkx>=1.9.0 in /usr/local/lib/python3.7/dist-packages (from scikit-fuzzy) (2.6.3)\n",
            "Building wheels for collected packages: scikit-fuzzy\n",
            "  Building wheel for scikit-fuzzy (setup.py) ... \u001b[?25l\u001b[?25hdone\n",
            "  Created wheel for scikit-fuzzy: filename=scikit_fuzzy-0.4.2-py3-none-any.whl size=894089 sha256=df02a00708a07543a519fd9f64722bd47fe2dd725f6145a9575f0000c3cdb395\n",
            "  Stored in directory: /root/.cache/pip/wheels/d5/74/fc/38588a3d2e3f34f74588e6daa3aa5b0a322bd6f9420a707131\n",
            "Successfully built scikit-fuzzy\n",
            "Installing collected packages: scikit-fuzzy\n",
            "Successfully installed scikit-fuzzy-0.4.2\n"
          ]
        }
      ],
      "source": [
        "pip install scikit-fuzzy"
      ]
    },
    {
      "cell_type": "code",
      "execution_count": null,
      "metadata": {
        "colab": {
          "base_uri": "https://localhost:8080/"
        },
        "id": "e5KSP_cucRy3",
        "outputId": "4887a866-a914-40a8-c819-9191ee9ef4c4"
      },
      "outputs": [
        {
          "name": "stdout",
          "output_type": "stream",
          "text": [
            "Looking in indexes: https://pypi.org/simple, https://us-python.pkg.dev/colab-wheels/public/simple/\n",
            "Collecting scikit-fuzzy\n",
            "  Downloading scikit-fuzzy-0.4.2.tar.gz (993 kB)\n",
            "\u001b[K     |████████████████████████████████| 993 kB 6.7 MB/s \n",
            "\u001b[?25hRequirement already satisfied: numpy>=1.6.0 in /usr/local/lib/python3.7/dist-packages (from scikit-fuzzy) (1.21.6)\n",
            "Requirement already satisfied: scipy>=0.9.0 in /usr/local/lib/python3.7/dist-packages (from scikit-fuzzy) (1.7.3)\n",
            "Requirement already satisfied: networkx>=1.9.0 in /usr/local/lib/python3.7/dist-packages (from scikit-fuzzy) (2.6.3)\n",
            "Building wheels for collected packages: scikit-fuzzy\n",
            "  Building wheel for scikit-fuzzy (setup.py) ... \u001b[?25l\u001b[?25hdone\n",
            "  Created wheel for scikit-fuzzy: filename=scikit_fuzzy-0.4.2-py3-none-any.whl size=894089 sha256=f3ff428e1a726c173253210244a1bc27b2163c1a9c895a228f45eb5d999c21fa\n",
            "  Stored in directory: /root/.cache/pip/wheels/d5/74/fc/38588a3d2e3f34f74588e6daa3aa5b0a322bd6f9420a707131\n",
            "Successfully built scikit-fuzzy\n",
            "Installing collected packages: scikit-fuzzy\n",
            "Successfully installed scikit-fuzzy-0.4.2\n"
          ]
        }
      ],
      "source": [
        "pip install scikit-fuzzy"
      ]
    },
    {
      "cell_type": "markdown",
      "metadata": {
        "id": "WxxOnatHgKfs"
      },
      "source": []
    },
    {
      "cell_type": "code",
      "execution_count": null,
      "metadata": {
        "colab": {
          "base_uri": "https://localhost:8080/",
          "height": 298
        },
        "id": "P4AgWN4cgVTB",
        "outputId": "6fbb7a58-290d-43ca-cdb9-0a2b861a061d"
      },
      "outputs": [
        {
          "name": "stdout",
          "output_type": "stream",
          "text": [
            "31.034482758620694\n"
          ]
        },
        {
          "data": {
            "image/png": "[encoded data removed]",
            "text/plain": [
              "<Figure size 432x288 with 1 Axes>"
            ]
          },
          "metadata": {},
          "output_type": "display_data"
        }
      ],
      "source": [
        "import numpy as np\n",
        "import skfuzzy as fuzz\n",
        "from skfuzzy import control as ctrl\n",
        "time = ctrl.Antecedent(np.arange(10,121,5),'time')\n",
        "rice = ctrl.Antecedent(np.arange(100,1001,5),'rice')\n",
        "power = ctrl.Consequent(np.arange(0,101,5),'power')\n",
        "time['vfast']=fuzz.trimf(time.universe,[10,10,40])\n",
        "time['fast']=fuzz.trimf(time.universe,[10,40,70])\n",
        "time['normal']=fuzz.trimf(time.universe,[40,70,95])\n",
        "time['low']=fuzz.trimf(time.universe,[70,95,120])\n",
        "time['vlow']=fuzz.trimf(time.universe,[95,120,120])\n",
        "rice['vfew']=fuzz.trimf(rice.universe,[100,100,325])\n",
        "rice['few']=fuzz.trimf(rice.universe,[100,325,550])\n",
        "rice['normal']=fuzz.trimf(rice.universe,[325,550,775])\n",
        "rice['much']=fuzz.trimf(rice.universe,[550,775,1000])\n",
        "rice['vmuch']=fuzz.trimf(rice.universe,[775,1000,1000])\n",
        "power['vsmall']=fuzz.trimf(power.universe,[0,0,25])\n",
        "power['small']=fuzz.trimf(power.universe,[0,25,50])\n",
        "power['normal']=fuzz.trimf(power.universe,[25,50,75])\n",
        "power['big']=fuzz.trimf(power.universe,[50,75,100])\n",
        "power['vbig']=fuzz.trimf(power.universe,[75,100,100])\n",
        "rule1 = ctrl.Rule(time['vfast']&rice['vfew'],power['vsmall'])\n",
        "rule2 = ctrl.Rule(time['vfast']&rice['few'],power['vsmall'])\n",
        "rule3 = ctrl.Rule(time['vfast']&rice['normal'],power['vsmall'])\n",
        "rule4 = ctrl.Rule(time['vfast']&rice['much'],power['small'])\n",
        "rule5 = ctrl.Rule(time['vfast']&rice['vmuch'],power['normal'])\n",
        "rule6 = ctrl.Rule(time['fast']&rice['vfew'],power['vsmall'])\n",
        "rule7 = ctrl.Rule(time['fast']&rice['few'],power['small'])\n",
        "rule8 = ctrl.Rule(time['fast']&rice['normal'],power['small'])\n",
        "rule9 = ctrl.Rule(time['fast']&rice['much'],power['normal'])\n",
        "rule10 = ctrl.Rule(time['fast']&rice['vmuch'],power['big'])\n",
        "rule11 = ctrl.Rule(time['normal']&rice['vfew'],power['vsmall'])\n",
        "rule12 = ctrl.Rule(time['normal']&rice['few'],power['small'])\n",
        "rule13 = ctrl.Rule(time['normal']&rice['normal'],power['normal'])\n",
        "rule14 = ctrl.Rule(time['normal']&rice['much'],power['big'])\n",
        "rule15 = ctrl.Rule(time['normal']&rice['vmuch'],power['vbig'])\n",
        "rule16 = ctrl.Rule(time['low']&rice['vfew'],power['small'])\n",
        "rule17 = ctrl.Rule(time['low']&rice['few'],power['normal'])\n",
        "rule18 = ctrl.Rule(time['low']&rice['normal'],power['big'])\n",
        "rule19 = ctrl.Rule(time['low']&rice['much'],power['big'])\n",
        "rule20 = ctrl.Rule(time['low']&rice['vmuch'],power['vbig'])\n",
        "rule21 = ctrl.Rule(time['vlow']&rice['vfew'],power['normal'])\n",
        "rule22 = ctrl.Rule(time['vlow']&rice['few'],power['big'])\n",
        "rule23 = ctrl.Rule(time['vlow']&rice['normal'],power['vbig'])\n",
        "rule24 = ctrl.Rule(time['vlow']&rice['much'],power['vbig'])\n",
        "rule25 = ctrl.Rule(time['vlow']&rice['vmuch'],power['vbig'])\n",
        "powering_ctrl = ctrl.ControlSystem([rule1,rule2,rule3,rule4,rule5,rule6, rule7,rule8,rule9,rule10,rule11,rule12,rule13,rule14,rule15,rule16, rule17,rule18,rule19,rule20,rule21,rule22,rule23,rule24,rule25])\n",
        "powering = ctrl.ControlSystemSimulation(powering_ctrl)\n",
        "powering.input['time'] = 100\n",
        "powering.input['rice'] = 100\n",
        "powering.compute()\n",
        "print(powering.output['power'])\n",
        "power.view(sim=powering)"
      ]
    },
    {
      "cell_type": "code",
      "execution_count": null,
      "metadata": {
        "colab": {
          "base_uri": "https://localhost:8080/"
        },
        "id": "Vu4-J74V8Sme",
        "outputId": "f22b766f-a3a1-4ff9-b774-9b6f94afbe6e"
      },
      "outputs": [
        {
          "name": "stdout",
          "output_type": "stream",
          "text": [
            "Looking in indexes: https://pypi.org/simple, https://us-python.pkg.dev/colab-wheels/public/simple/\n",
            "Requirement already satisfied: scikit-fuzzy in /usr/local/lib/python3.7/dist-packages (0.4.2)\n",
            "Requirement already satisfied: scipy>=0.9.0 in /usr/local/lib/python3.7/dist-packages (from scikit-fuzzy) (1.7.3)\n",
            "Requirement already satisfied: numpy>=1.6.0 in /usr/local/lib/python3.7/dist-packages (from scikit-fuzzy) (1.21.6)\n",
            "Requirement already satisfied: networkx>=1.9.0 in /usr/local/lib/python3.7/dist-packages (from scikit-fuzzy) (2.6.3)\n"
          ]
        }
      ],
      "source": [
        "pip install scikit-fuzzy"
      ]
    },
    {
      "cell_type": "code",
      "execution_count": null,
      "metadata": {
        "colab": {
          "base_uri": "https://localhost:8080/",
          "height": 298
        },
        "id": "Y7IbjQ9F8bPb",
        "outputId": "db838384-545e-403c-e7b6-04fcfdb4bc38"
      },
      "outputs": [
        {
          "name": "stdout",
          "output_type": "stream",
          "text": [
            "4.914880952380949\n"
          ]
        },
        {
          "data": {
            "image/png": "[encoded data removed]",
            "text/plain": [
              "<Figure size 432x288 with 1 Axes>"
            ]
          },
          "metadata": {},
          "output_type": "display_data"
        }
      ],
      "source": [
        "import numpy as np\n",
        "import skfuzzy as fuzz\n",
        "from skfuzzy import control as ctrl\n",
        "T = ctrl.Antecedent(np.arange(20.4,41.2,5.2),'T')\n",
        "WS = ctrl.Antecedent(np.arange(0.7,3.1,0.6),'WS')\n",
        "RF = ctrl.Consequent(np.arange(0.2,9.1,2.225),'RF')\n",
        "T['VL']=fuzz.trimf(T.universe,[20.4,20.4,25.6])\n",
        "T['L']=fuzz.trimf(T.universe,[20.4,25.6,30.8])\n",
        "T['N']=fuzz.trimf(T.universe,[25.6,30.8,36])\n",
        "T['H']=fuzz.trimf(T.universe,[30.8,36,41.2])\n",
        "T['VH']=fuzz.trimf(T.universe,[36,41.2,41.2])\n",
        "WS['VL']=fuzz.trimf(WS.universe,[0.7,0.7,1.3,])\n",
        "WS['L']=fuzz.trimf(WS.universe,[0.7,1.3,1.9])\n",
        "WS['N']=fuzz.trimf(WS.universe,[1.3,1.9,2.5])\n",
        "WS['H']=fuzz.trimf(WS.universe,[1.9,2.5,3.1])\n",
        "WS['VH']=fuzz.trimf(WS.universe,[2.5,3.1,3.1])\n",
        "RF['VL']=fuzz.trimf(RF.universe,[0.2,0.2,2.425])\n",
        "RF['L']=fuzz.trimf(RF.universe,[0.2,2.425,4.65])\n",
        "RF['N']=fuzz.trimf(RF.universe,[2.425,4.65,6.875])\n",
        "RF['H']=fuzz.trimf(RF.universe,[4.65,6.875,9.1])\n",
        "RF['VH']=fuzz.trimf(RF.universe,[6.875,9.1,9.1])\n",
        "rule1=ctrl.Rule(T['VL']&WS['VL'],RF['VL'])\n",
        "rule2=ctrl.Rule(T['VL']&WS['L'],RF['VL'])\n",
        "rule3=ctrl.Rule(T['VL']&WS['N'],RF['L'])\n",
        "rule4=ctrl.Rule(T['VL']&WS['H'],RF['N'])\n",
        "rule5=ctrl.Rule(T['VL']&WS['VH'],RF['H'])\n",
        "rule6=ctrl.Rule(T['L']&WS['VL'],RF['VL'])\n",
        "rule7=ctrl.Rule(T['L']&WS['L'],RF['VL'])\n",
        "rule8=ctrl.Rule(T['L']&WS['N'],RF['L'])\n",
        "rule9=ctrl.Rule(T['L']&WS['H'],RF['H'])\n",
        "rule10=ctrl.Rule(T['L']&WS['VH'],RF['L'])\n",
        "rule11=ctrl.Rule(T['N']&WS['VL'],RF['L'])\n",
        "rule12=ctrl.Rule(T['N']&WS['L'],RF['L'])\n",
        "rule13=ctrl.Rule(T['N']&WS['N'],RF['N'])\n",
        "rule14=ctrl.Rule(T['N']&WS['H'],RF['N'])\n",
        "rule15=ctrl.Rule(T['N']&WS['VH'],RF['H'])\n",
        "rule16=ctrl.Rule(T['H']&WS['VL'],RF['L'])\n",
        "rule17=ctrl.Rule(T['H']&WS['L'],RF['L'])\n",
        "rule18=ctrl.Rule(T['H']&WS['N'],RF['N'])\n",
        "rule19=ctrl.Rule(T['H']&WS['H'],RF['N'])\n",
        "rule20=ctrl.Rule(T['H']&WS['VH'],RF['H'])\n",
        "rule21=ctrl.Rule(T['VH']&WS['VL'],RF['VL'])\n",
        "rule22=ctrl.Rule(T['VH']&WS['L'],RF['L'])\n",
        "rule23=ctrl.Rule(T['VH']&WS['N'],RF['L'])\n",
        "rule24=ctrl.Rule(T['VH']&WS['H'],RF['N'])\n",
        "rule25=ctrl.Rule(T['VH']&WS['VH'],RF['VH'])\n",
        "RF_ctrl = ctrl.ControlSystem([rule1,rule2,rule3,rule4,rule5,rule6,rule7,rule8,rule9,rule10,rule11,rule12,rule13,rule14,rule15,rule16,rule17,rule18,rule19,rule20,rule21,rule22,rule23,rule24,rule25])\n",
        "RFing = ctrl.ControlSystemSimulation(RF_ctrl)\n",
        "RFing.input['T']=23\n",
        "RFing.input['WS']=2.5\n",
        "RFing.compute()\n",
        "print(RFing.output['RF'])\n",
        "RF.view(sim=RFing)"
      ]
    },
    {
      "cell_type": "code",
      "execution_count": null,
      "metadata": {
        "colab": {
          "base_uri": "https://localhost:8080/"
        },
        "id": "8WoghuPF-XDc",
        "outputId": "4cea84ca-a3f5-4c78-a37e-ceca289dc979"
      },
      "outputs": [
        {
          "name": "stdout",
          "output_type": "stream",
          "text": [
            "Looking in indexes: https://pypi.org/simple, https://us-python.pkg.dev/colab-wheels/public/simple/\n",
            "Requirement already satisfied: scikit-fuzzy in /usr/local/lib/python3.7/dist-packages (0.4.2)\n",
            "Requirement already satisfied: networkx>=1.9.0 in /usr/local/lib/python3.7/dist-packages (from scikit-fuzzy) (2.6.3)\n",
            "Requirement already satisfied: numpy>=1.6.0 in /usr/local/lib/python3.7/dist-packages (from scikit-fuzzy) (1.21.6)\n",
            "Requirement already satisfied: scipy>=0.9.0 in /usr/local/lib/python3.7/dist-packages (from scikit-fuzzy) (1.7.3)\n"
          ]
        }
      ],
      "source": [
        "pip install scikit-fuzzy\n"
      ]
    },
    {
      "cell_type": "code",
      "execution_count": null,
      "metadata": {
        "colab": {
          "base_uri": "https://localhost:8080/",
          "height": 930
        },
        "id": "ZlULSrc7BMOe",
        "outputId": "83ab1f72-ac69-439f-e9fa-1d67860514c1"
      },
      "outputs": [
        {
          "name": "stdout",
          "output_type": "stream",
          "text": [
            "0      39343.0\n",
            "1      46205.0\n",
            "2      37731.0\n",
            "3      43525.0\n",
            "4      39891.0\n",
            "5      56642.0\n",
            "6      60150.0\n",
            "7      54445.0\n",
            "8      64445.0\n",
            "9      57189.0\n",
            "10     63218.0\n",
            "11     55794.0\n",
            "12     56957.0\n",
            "13     57081.0\n",
            "14     61111.0\n",
            "15     67938.0\n",
            "16     66029.0\n",
            "17     83088.0\n",
            "18     81363.0\n",
            "19     93940.0\n",
            "20     91738.0\n",
            "21     98273.0\n",
            "22    101302.0\n",
            "23    113812.0\n",
            "24    109431.0\n",
            "25    105582.0\n",
            "26    116969.0\n",
            "27    112635.0\n",
            "28    122391.0\n",
            "29    121872.0\n",
            "Name: Salary, dtype: float64\n"
          ]
        },
        {
          "data": {
            "text/plain": [
              "<seaborn.axisgrid.PairGrid at 0x7f645f87f7d0>"
            ]
          },
          "execution_count": 47,
          "metadata": {},
          "output_type": "execute_result"
        },
        {
          "data": {
            "image/png": "[encoded data removed]",
            "text/plain": [
              "<Figure size 360x360 with 6 Axes>"
            ]
          },
          "metadata": {},
          "output_type": "display_data"
        }
      ],
      "source": [
        "import numpy as np\n",
        "import pandas as pd\n",
        "import matplotlib.pyplot as plt\n",
        "import seaborn as sb\n",
        "data = pd.read_csv('/content/Salary_Data.csv')\n",
        "data.head(10)\n",
        "data.shape\n",
        "x = data.drop(['Salary'], axis=True)\n",
        "y= data['Salary']\n",
        "print(y)\n",
        "\n",
        "from sklearn.model_selection import train_test_split\n",
        "x_train,x_test,y_train,y_test = train_test_split(x,y,test_size=0.2, random_state=42)\n",
        "x_train.shape,x_test.shape,y_train.shape,y_test.shape\n",
        "sb.pairplot(data)\n",
        "\n",
        "plt.plot(x_train,y_train,'r.',label = 'train_Data')\n",
        "plt.xlabel('Years Experience')\n",
        "plt.ylabel('Salary')\n",
        "\n",
        " \n",
        "\n"
      ]
    },
    {
      "cell_type": "code",
      "execution_count": null,
      "metadata": {
        "colab": {
          "base_uri": "https://localhost:8080/"
        },
        "id": "OIKgHVTTuXHb",
        "outputId": "1f806d94-21be-4f83-86de-70b47c7e4ada"
      },
      "outputs": [
        {
          "name": "stdout",
          "output_type": "stream",
          "text": [
            "do chinh xac 1.0\n",
            "[0 1 0 1]\n"
          ]
        }
      ],
      "source": [
        "import numpy as np\n",
        "from sklearn.linear_model import Perceptron\n",
        "x = [[0,0],[1,0],[0,1],[1,1]]\n",
        "y = [0,1,1,1]\n",
        "model = Perceptron()\n",
        "model.fit(x,y)\n",
        "print('do chinh xac',model.score(x,y))\n",
        "x_test = [[0.5,0],[0.9,-0.2],[1,-0.5],[0.2,0.7]]\n",
        "y_test = model.predict(x_test)\n",
        "print(y_test)\n"
      ]
    },
    {
      "cell_type": "code",
      "execution_count": null,
      "metadata": {
        "colab": {
          "base_uri": "https://localhost:8080/"
        },
        "id": "6nnC6Nm21r6N",
        "outputId": "97b96412-da3d-4df8-c05f-8d0eb44e809f"
      },
      "outputs": [
        {
          "name": "stdout",
          "output_type": "stream",
          "text": [
            "do chinh xac 1.0\n",
            "[0 0 0 0]\n"
          ]
        }
      ],
      "source": [
        "import numpy as np\n",
        "from sklearn.linear_model import Perceptron\n",
        "x = [[-0.5,-0.5],[-0.5,0.5],[0.3,-0.5],[-0.1,1]]\n",
        "y = [1,1,0,0]\n",
        "model = Perceptron()\n",
        "model.fit(x,y)\n",
        "print('do chinh xac',model.score(x,y))\n",
        "x_test = [[0.3,0],[0.4,-0.2],[0.3,-0.5],[0.2,0.7]]\n",
        "y_test = model.predict(x_test)\n",
        "print(y_test)\n"
      ]
    },
    {
      "cell_type": "code",
      "execution_count": null,
      "metadata": {
        "colab": {
          "base_uri": "https://localhost:8080/"
        },
        "id": "qUwkIPQQR_7P",
        "outputId": "8fafd86a-8ef3-4a7b-e691-70252b976d7c"
      },
      "outputs": [
        {
          "name": "stdout",
          "output_type": "stream",
          "text": [
            "do chinh xac 0.9071428571428571\n",
            "[1 0]\n"
          ]
        },
        {
          "name": "stderr",
          "output_type": "stream",
          "text": [
            "/usr/local/lib/python3.7/dist-packages/sklearn/base.py:451: UserWarning: X does not have valid feature names, but Perceptron was fitted with feature names\n",
            "  \"X does not have valid feature names, but\"\n"
          ]
        }
      ],
      "source": [
        "import numpy as np\n",
        "from sklearn.linear_model import Perceptron\n",
        "from sklearn.model_selection import train_test_split\n",
        "import pandas as pd\n",
        "url= 'data_crab.csv'\n",
        "data= pd.read_csv(url)\n",
        "x = data.drop(['sp','sex','index'],axis = True)\n",
        "y = data['sex'].replace(['M','F'],[0,1])\n",
        "x_train, x_test, y_train, y_test = train_test_split(x,y,test_size = 0.3)\n",
        "\n",
        "model = Perceptron()\n",
        "model.fit(x_train,y_train)\n",
        "print('do chinh xac',model.score(x_train,y_train))\n",
        "x_test = [[6,11,10,17,9],[22,16.7,50,44.9,26]]\n",
        "y_test = model.predict(x_test)\n",
        "print(y_test)"
      ]
    },
    {
      "cell_type": "code",
      "execution_count": null,
      "metadata": {
        "colab": {
          "base_uri": "https://localhost:8080/"
        },
        "id": "FbBxC8E1WaEf",
        "outputId": "828376cf-169e-48f8-e498-878fd8d88584"
      },
      "outputs": [
        {
          "name": "stdout",
          "output_type": "stream",
          "text": [
            "độ chính xác 1.0\n",
            "[1 0 0]\n"
          ]
        },
        {
          "name": "stderr",
          "output_type": "stream",
          "text": [
            "/usr/local/lib/python3.7/dist-packages/sklearn/base.py:451: UserWarning: X does not have valid feature names, but Perceptron was fitted with feature names\n",
            "  \"X does not have valid feature names, but\"\n"
          ]
        }
      ],
      "source": [
        "import numpy as np\n",
        "from sklearn.linear_model import Perceptron\n",
        "from sklearn.model_selection import train_test_split\n",
        "import pandas as pd\n",
        "url='/content/iris.csv'\n",
        "data= pd.read_csv(url)\n",
        "data = data[:150]\n",
        "x=data.drop(['variety'],axis = True)\n",
        "y=data['variety'].replace(['Setosa','Versicolor','Virginica'],[1,0,0])\n",
        "x_train,x_test,y_train,y_test = train_test_split(x,y,test_size=0.3)\n",
        "model=Perceptron()\n",
        "model.fit(x_train,y_train)\n",
        "print('độ chính xác',model.score(x,y))\n",
        "x_test = [[7,4.6,1,7.5],[4.5,2.2,4.2,1],[6.4,1,2,3.1]]\n",
        "y_test = model.predict(x_test)\n",
        "print(y_test)"
      ]
    },
    {
      "cell_type": "code",
      "execution_count": null,
      "metadata": {
        "colab": {
          "base_uri": "https://localhost:8080/"
        },
        "id": "dZpD606qEO0H",
        "outputId": "e78cc32a-8e2b-41be-a6f4-458a205e7c3b"
      },
      "outputs": [
        {
          "output_type": "stream",
          "name": "stdout",
          "text": [
            "Model: \"sequential\"\n",
            "_________________________________________________________________\n",
            " Layer (type)                Output Shape              Param #   \n",
            "=================================================================\n",
            " dense (Dense)               (None, 512)               401920    \n",
            "                                                                 \n",
            " dense_1 (Dense)             (None, 10)                5130      \n",
            "                                                                 \n",
            "=================================================================\n",
            "Total params: 407,050\n",
            "Trainable params: 407,050\n",
            "Non-trainable params: 0\n",
            "_________________________________________________________________\n"
          ]
        }
      ],
      "source": [
        "from keras.optimizers import optimizer_legacy\n",
        "from keras.layers.serialization import activation\n",
        "from keras import models\n",
        "from keras import layers\n",
        "model=models.Sequential()\n",
        "model.add(layers.Dense(512,activation = 'relu',input_shape=(28*28,)))\n",
        "model.add(layers.Dense(10,activation='softmax'))\n",
        "model.summary()\n"
      ]
    },
    {
      "cell_type": "code",
      "execution_count": null,
      "metadata": {
        "id": "dNJk4a9N-Oog"
      },
      "outputs": [],
      "source": [
        "train_images = train_images.reshape((60000,28*28))\n",
        "train_images = train_images.astype('float32')/255\n",
        "test_images=test_images.reshape((10000,28*28))\n",
        "test_images=test_images.astype('float32')/255\n",
        "\n",
        "\n"
      ]
    },
    {
      "cell_type": "code",
      "execution_count": null,
      "metadata": {
        "id": "IMFGDcrbFs9I"
      },
      "outputs": [],
      "source": [
        "from keras.until import categorical\n",
        "train_labels = to_categorical(train_labels)\n",
        "test_labels = to_categorical(test_labels)\n",
        "test_labels.shape"
      ]
    },
    {
      "cell_type": "code",
      "source": [
        "from keras.metrics import metrics\n",
        "model.compile(optimizer = 'rmsprop', loss = 'categorical_crossentropy', metrics = ['accuracy'])\n",
        "model.fit(x_train, y_train, epochs  = 100, batch_size = 128)"
      ],
      "metadata": {
        "id": "AJb5WpBws1NC",
        "outputId": "27df86f1-3a1c-4a07-be7b-093468b121fc",
        "colab": {
          "base_uri": "https://localhost:8080/",
          "height": 208
        }
      },
      "execution_count": null,
      "outputs": [
        {
          "output_type": "error",
          "ename": "NameError",
          "evalue": "ignored",
          "traceback": [
            "\u001b[0;31m---------------------------------------------------------------------------\u001b[0m",
            "\u001b[0;31mNameError\u001b[0m                                 Traceback (most recent call last)",
            "\u001b[0;32m<ipython-input-3-d8d9cb96a1c8>\u001b[0m in \u001b[0;36m<module>\u001b[0;34m\u001b[0m\n\u001b[1;32m      1\u001b[0m \u001b[0;32mfrom\u001b[0m \u001b[0mkeras\u001b[0m\u001b[0;34m.\u001b[0m\u001b[0mmetrics\u001b[0m \u001b[0;32mimport\u001b[0m \u001b[0mmetrics\u001b[0m\u001b[0;34m\u001b[0m\u001b[0;34m\u001b[0m\u001b[0m\n\u001b[1;32m      2\u001b[0m \u001b[0mmodel\u001b[0m\u001b[0;34m.\u001b[0m\u001b[0mcompile\u001b[0m\u001b[0;34m(\u001b[0m\u001b[0moptimizer\u001b[0m \u001b[0;34m=\u001b[0m \u001b[0;34m'rmsprop'\u001b[0m\u001b[0;34m,\u001b[0m \u001b[0mloss\u001b[0m \u001b[0;34m=\u001b[0m \u001b[0;34m'categorical_crossentropy'\u001b[0m\u001b[0;34m,\u001b[0m \u001b[0mmetrics\u001b[0m \u001b[0;34m=\u001b[0m \u001b[0;34m[\u001b[0m\u001b[0;34m'accuracy'\u001b[0m\u001b[0;34m]\u001b[0m\u001b[0;34m)\u001b[0m\u001b[0;34m\u001b[0m\u001b[0;34m\u001b[0m\u001b[0m\n\u001b[0;32m----> 3\u001b[0;31m \u001b[0mmodel\u001b[0m\u001b[0;34m.\u001b[0m\u001b[0mfit\u001b[0m\u001b[0;34m(\u001b[0m\u001b[0mx_train\u001b[0m\u001b[0;34m,\u001b[0m \u001b[0my_train\u001b[0m\u001b[0;34m,\u001b[0m \u001b[0mepochs\u001b[0m  \u001b[0;34m=\u001b[0m \u001b[0;36m100\u001b[0m\u001b[0;34m,\u001b[0m \u001b[0mbatch_size\u001b[0m \u001b[0;34m=\u001b[0m \u001b[0;36m128\u001b[0m\u001b[0;34m)\u001b[0m\u001b[0;34m\u001b[0m\u001b[0;34m\u001b[0m\u001b[0m\n\u001b[0m",
            "\u001b[0;31mNameError\u001b[0m: name 'x_train' is not defined"
          ]
        }
      ]
    },
    {
      "cell_type": "code",
      "execution_count": null,
      "metadata": {
        "id": "z1gp-uniF0UA"
      },
      "outputs": [],
      "source": [
        "test_loss,test_ace=model.evaluate(test_images,test_labels)\n",
        "print('Testaccuracy',test_acc)"
      ]
    },
    {
      "cell_type": "code",
      "execution_count": null,
      "metadata": {
        "colab": {
          "base_uri": "https://localhost:8080/"
        },
        "id": "Z6i1DQjdGvk6",
        "outputId": "e6781d05-0f21-46ee-e8d7-fee234c04797"
      },
      "outputs": [
        {
          "data": {
            "text/plain": [
              "(60000, 28, 28)"
            ]
          },
          "execution_count": 34,
          "metadata": {},
          "output_type": "execute_result"
        }
      ],
      "source": [
        "from keras.datasets import fashion_mnist\n",
        "(x_train,y_train),(x_test,y_test)=fashion_mnist.load_data()\n",
        "x_train.shape\n",
        "\n",
        "\n",
        "\n",
        "\n"
      ]
    },
    {
      "cell_type": "code",
      "execution_count": null,
      "metadata": {
        "colab": {
          "base_uri": "https://localhost:8080/"
        },
        "id": "WJRkJONlI7gV",
        "outputId": "dd4190fc-390b-44ee-b204-1d2234713eb1"
      },
      "outputs": [
        {
          "data": {
            "text/plain": [
              "(60000,)"
            ]
          },
          "execution_count": 35,
          "metadata": {},
          "output_type": "execute_result"
        }
      ],
      "source": [
        "y_train.shape\n"
      ]
    },
    {
      "cell_type": "code",
      "execution_count": null,
      "metadata": {
        "colab": {
          "base_uri": "https://localhost:8080/"
        },
        "id": "WisUm3ajI0pX",
        "outputId": "1a118537-6f59-4eee-a2e5-2cf216a129f8"
      },
      "outputs": [
        {
          "data": {
            "text/plain": [
              "(10000, 28, 28)"
            ]
          },
          "execution_count": 36,
          "metadata": {},
          "output_type": "execute_result"
        }
      ],
      "source": [
        "x_test.shape\n"
      ]
    },
    {
      "cell_type": "code",
      "execution_count": null,
      "metadata": {
        "colab": {
          "base_uri": "https://localhost:8080/"
        },
        "id": "-dM0vthCIOaf",
        "outputId": "be98a83e-4d62-451a-b292-d6b5eccf9437"
      },
      "outputs": [
        {
          "data": {
            "text/plain": [
              "(10000,)"
            ]
          },
          "execution_count": 37,
          "metadata": {},
          "output_type": "execute_result"
        }
      ],
      "source": [
        "y_test.shape"
      ]
    },
    {
      "cell_type": "code",
      "execution_count": null,
      "metadata": {
        "colab": {
          "base_uri": "https://localhost:8080/",
          "height": 283
        },
        "id": "_1Kgw07NJG6f",
        "outputId": "4f3da642-d282-4723-d2b9-5296a4b9dd89"
      },
      "outputs": [
        {
          "data": {
            "image/png": "[encoded data removed]",
            "text/plain": [
              "<Figure size 432x288 with 1 Axes>"
            ]
          },
          "metadata": {},
          "output_type": "display_data"
        },
        {
          "name": "stdout",
          "output_type": "stream",
          "text": [
            "Sandal\n"
          ]
        }
      ],
      "source": [
        "import matplotlib.pyplot as plt\n",
        "class_names=['T-shirt/Top','Trouser','Pullower','Press','Coat','Sandal','Shirt','Sneaker','Bag','Ankle boat']\n",
        "plt.imshow(x_train[320])\n",
        "plt.show()\n",
        "print(class_names[y_train[320]])\n"
      ]
    },
    {
      "cell_type": "code",
      "execution_count": null,
      "metadata": {
        "colab": {
          "background_save": true,
          "base_uri": "https://localhost:8080/",
          "height": 1000
        },
        "id": "JdA3LYVvPie3",
        "outputId": "5c53d4b2-64bc-4475-ce05-705f37ba9ef0"
      },
      "outputs": [
        {
          "data": {
            "image/png": "[encoded data removed]",
            "text/plain": [
              "<Figure size 432x288 with 1 Axes>"
            ]
          },
          "metadata": {},
          "output_type": "display_data"
        },
        {
          "name": "stdout",
          "output_type": "stream",
          "text": [
            "pullover\n",
            "Model: \"sequential_4\"\n",
            "_________________________________________________________________\n",
            " Layer (type)                Output Shape              Param #   \n",
            "=================================================================\n",
            " dense_8 (Dense)             (None, 512)               401920    \n",
            "                                                                 \n",
            " dense_9 (Dense)             (None, 10)                5130      \n",
            "                                                                 \n",
            "=================================================================\n",
            "Total params: 407,050\n",
            "Trainable params: 407,050\n",
            "Non-trainable params: 0\n",
            "_________________________________________________________________\n",
            "Epoch 1/100\n",
            "469/469 [==============================] - 5s 9ms/step - loss: 0.5581 - accuracy: 0.8015\n",
            "Epoch 2/100\n",
            "469/469 [==============================] - 4s 9ms/step - loss: 0.3822 - accuracy: 0.8591\n",
            "Epoch 3/100\n",
            "469/469 [==============================] - 5s 10ms/step - loss: 0.3376 - accuracy: 0.8759\n",
            "Epoch 4/100\n",
            "469/469 [==============================] - 4s 9ms/step - loss: 0.3118 - accuracy: 0.8851\n",
            "Epoch 5/100\n",
            "469/469 [==============================] - 4s 9ms/step - loss: 0.2909 - accuracy: 0.8930\n",
            "Epoch 6/100\n",
            "469/469 [==============================] - 4s 9ms/step - loss: 0.2785 - accuracy: 0.8960\n",
            "Epoch 7/100\n",
            "469/469 [==============================] - 4s 9ms/step - loss: 0.2659 - accuracy: 0.9012\n",
            "Epoch 8/100\n",
            "469/469 [==============================] - 4s 9ms/step - loss: 0.2518 - accuracy: 0.9068\n",
            "Epoch 9/100\n",
            "469/469 [==============================] - 4s 9ms/step - loss: 0.2418 - accuracy: 0.9108\n",
            "Epoch 10/100\n",
            "469/469 [==============================] - 4s 9ms/step - loss: 0.2333 - accuracy: 0.9135\n",
            "Epoch 11/100\n",
            "469/469 [==============================] - 4s 9ms/step - loss: 0.2265 - accuracy: 0.9160\n",
            "Epoch 12/100\n",
            "469/469 [==============================] - 4s 9ms/step - loss: 0.2189 - accuracy: 0.9182\n",
            "Epoch 13/100\n",
            "469/469 [==============================] - 4s 9ms/step - loss: 0.2123 - accuracy: 0.9215\n",
            "Epoch 14/100\n",
            "469/469 [==============================] - 4s 9ms/step - loss: 0.2054 - accuracy: 0.9240\n",
            "Epoch 15/100\n",
            "469/469 [==============================] - 4s 9ms/step - loss: 0.1987 - accuracy: 0.9264\n",
            "Epoch 16/100\n",
            "469/469 [==============================] - 4s 9ms/step - loss: 0.1944 - accuracy: 0.9275\n",
            "Epoch 17/100\n",
            "469/469 [==============================] - 4s 9ms/step - loss: 0.1880 - accuracy: 0.9300\n",
            "Epoch 18/100\n",
            "469/469 [==============================] - 4s 9ms/step - loss: 0.1822 - accuracy: 0.9332\n",
            "Epoch 19/100\n",
            "469/469 [==============================] - 4s 9ms/step - loss: 0.1777 - accuracy: 0.9343\n",
            "Epoch 20/100\n",
            "469/469 [==============================] - 4s 9ms/step - loss: 0.1735 - accuracy: 0.9363\n",
            "Epoch 21/100\n",
            "469/469 [==============================] - 4s 9ms/step - loss: 0.1684 - accuracy: 0.9385\n",
            "Epoch 22/100\n",
            "469/469 [==============================] - 4s 9ms/step - loss: 0.1645 - accuracy: 0.9406\n",
            "Epoch 23/100\n",
            "469/469 [==============================] - 5s 10ms/step - loss: 0.1607 - accuracy: 0.9414\n",
            "Epoch 24/100\n",
            "469/469 [==============================] - 5s 10ms/step - loss: 0.1570 - accuracy: 0.9426\n",
            "Epoch 25/100\n",
            "469/469 [==============================] - 4s 9ms/step - loss: 0.1538 - accuracy: 0.9448\n",
            "Epoch 26/100\n",
            "469/469 [==============================] - 4s 9ms/step - loss: 0.1480 - accuracy: 0.9458\n",
            "Epoch 27/100\n",
            "469/469 [==============================] - 4s 9ms/step - loss: 0.1451 - accuracy: 0.9466\n",
            "Epoch 28/100\n",
            "469/469 [==============================] - 4s 9ms/step - loss: 0.1418 - accuracy: 0.9482\n",
            "Epoch 29/100\n",
            "469/469 [==============================] - 4s 9ms/step - loss: 0.1429 - accuracy: 0.9480\n",
            "Epoch 30/100\n",
            "469/469 [==============================] - 4s 9ms/step - loss: 0.1394 - accuracy: 0.9492\n",
            "Epoch 31/100\n",
            "469/469 [==============================] - 4s 9ms/step - loss: 0.1353 - accuracy: 0.9511\n",
            "Epoch 32/100\n",
            "469/469 [==============================] - 4s 9ms/step - loss: 0.1314 - accuracy: 0.9524\n",
            "Epoch 33/100\n",
            "469/469 [==============================] - 4s 9ms/step - loss: 0.1291 - accuracy: 0.9533\n",
            "Epoch 34/100\n",
            "469/469 [==============================] - 4s 9ms/step - loss: 0.1264 - accuracy: 0.9549\n",
            "Epoch 35/100\n",
            "469/469 [==============================] - 4s 9ms/step - loss: 0.1238 - accuracy: 0.9550\n",
            "Epoch 36/100\n",
            "469/469 [==============================] - 4s 9ms/step - loss: 0.1257 - accuracy: 0.9558\n",
            "Epoch 37/100\n",
            "469/469 [==============================] - 4s 9ms/step - loss: 0.1171 - accuracy: 0.9582\n",
            "Epoch 38/100\n",
            "469/469 [==============================] - 4s 9ms/step - loss: 0.1190 - accuracy: 0.9585\n",
            "Epoch 39/100\n",
            "469/469 [==============================] - 4s 9ms/step - loss: 0.1159 - accuracy: 0.9586\n",
            "Epoch 40/100\n",
            "469/469 [==============================] - 4s 9ms/step - loss: 0.1155 - accuracy: 0.9588\n",
            "Epoch 41/100\n",
            "469/469 [==============================] - 4s 9ms/step - loss: 0.1126 - accuracy: 0.9609\n",
            "Epoch 42/100\n",
            "469/469 [==============================] - 4s 9ms/step - loss: 0.1101 - accuracy: 0.9614\n",
            "Epoch 43/100\n",
            "469/469 [==============================] - 4s 9ms/step - loss: 0.1084 - accuracy: 0.9625\n",
            "Epoch 44/100\n",
            "469/469 [==============================] - 4s 10ms/step - loss: 0.1042 - accuracy: 0.9635\n",
            "Epoch 45/100\n",
            "469/469 [==============================] - 4s 10ms/step - loss: 0.1036 - accuracy: 0.9632\n",
            "Epoch 46/100\n",
            "469/469 [==============================] - 4s 10ms/step - loss: 0.1060 - accuracy: 0.9643\n",
            "Epoch 47/100\n",
            "469/469 [==============================] - 5s 10ms/step - loss: 0.1001 - accuracy: 0.9648\n",
            "Epoch 48/100\n",
            "469/469 [==============================] - 5s 10ms/step - loss: 0.1009 - accuracy: 0.9651\n",
            "Epoch 49/100\n",
            "469/469 [==============================] - 4s 10ms/step - loss: 0.0984 - accuracy: 0.9651\n",
            "Epoch 50/100\n",
            "469/469 [==============================] - 4s 9ms/step - loss: 0.0959 - accuracy: 0.9663\n",
            "Epoch 51/100\n",
            "469/469 [==============================] - 4s 10ms/step - loss: 0.0938 - accuracy: 0.9681\n",
            "Epoch 52/100\n",
            "469/469 [==============================] - 4s 9ms/step - loss: 0.0941 - accuracy: 0.9675\n",
            "Epoch 53/100\n",
            "469/469 [==============================] - 4s 9ms/step - loss: 0.0932 - accuracy: 0.9679\n",
            "Epoch 54/100\n",
            "469/469 [==============================] - 4s 9ms/step - loss: 0.0907 - accuracy: 0.9686\n",
            "Epoch 55/100\n",
            "469/469 [==============================] - 4s 9ms/step - loss: 0.0918 - accuracy: 0.9686\n",
            "Epoch 56/100\n",
            "469/469 [==============================] - 4s 9ms/step - loss: 0.0888 - accuracy: 0.9692\n",
            "Epoch 57/100\n",
            "469/469 [==============================] - 4s 9ms/step - loss: 0.0887 - accuracy: 0.9689\n",
            "Epoch 58/100\n",
            "469/469 [==============================] - 4s 9ms/step - loss: 0.0880 - accuracy: 0.9704\n",
            "Epoch 59/100\n",
            "469/469 [==============================] - 4s 9ms/step - loss: 0.0850 - accuracy: 0.9711\n",
            "Epoch 60/100\n",
            "469/469 [==============================] - 4s 9ms/step - loss: 0.0810 - accuracy: 0.9722\n",
            "Epoch 61/100\n",
            "469/469 [==============================] - 4s 9ms/step - loss: 0.0851 - accuracy: 0.9712\n",
            "Epoch 62/100\n",
            "469/469 [==============================] - 4s 9ms/step - loss: 0.0812 - accuracy: 0.9730\n",
            "Epoch 63/100\n",
            "469/469 [==============================] - 4s 9ms/step - loss: 0.0809 - accuracy: 0.9723\n",
            "Epoch 64/100\n",
            "469/469 [==============================] - 4s 9ms/step - loss: 0.0810 - accuracy: 0.9730\n",
            "Epoch 65/100\n",
            "469/469 [==============================] - 4s 9ms/step - loss: 0.0785 - accuracy: 0.9737\n",
            "Epoch 66/100\n",
            "469/469 [==============================] - 4s 9ms/step - loss: 0.0760 - accuracy: 0.9743\n",
            "Epoch 67/100\n",
            "469/469 [==============================] - 4s 9ms/step - loss: 0.0739 - accuracy: 0.9749\n",
            "Epoch 68/100\n",
            "469/469 [==============================] - 4s 9ms/step - loss: 0.0760 - accuracy: 0.9750\n",
            "Epoch 69/100\n",
            "469/469 [==============================] - 4s 9ms/step - loss: 0.0745 - accuracy: 0.9752\n",
            "Epoch 70/100\n",
            "469/469 [==============================] - 4s 9ms/step - loss: 0.0761 - accuracy: 0.9750\n",
            "Epoch 71/100\n",
            "469/469 [==============================] - 4s 9ms/step - loss: 0.0730 - accuracy: 0.9766\n",
            "Epoch 72/100\n",
            "469/469 [==============================] - 4s 9ms/step - loss: 0.0740 - accuracy: 0.9763\n",
            "Epoch 73/100\n",
            "469/469 [==============================] - 4s 9ms/step - loss: 0.0704 - accuracy: 0.9769\n",
            "Epoch 74/100\n",
            "469/469 [==============================] - 5s 10ms/step - loss: 0.0708 - accuracy: 0.9768\n",
            "Epoch 75/100\n",
            "469/469 [==============================] - 4s 9ms/step - loss: 0.0723 - accuracy: 0.9767\n",
            "Epoch 76/100\n",
            "469/469 [==============================] - 4s 9ms/step - loss: 0.0691 - accuracy: 0.9774\n",
            "Epoch 77/100\n",
            "469/469 [==============================] - 4s 9ms/step - loss: 0.0672 - accuracy: 0.9785\n",
            "Epoch 78/100\n",
            "469/469 [==============================] - 4s 9ms/step - loss: 0.0666 - accuracy: 0.9783\n",
            "Epoch 79/100\n",
            "469/469 [==============================] - 4s 9ms/step - loss: 0.0667 - accuracy: 0.9782\n",
            "Epoch 80/100\n",
            "469/469 [==============================] - 4s 9ms/step - loss: 0.0672 - accuracy: 0.9786\n",
            "Epoch 81/100\n",
            "469/469 [==============================] - 4s 9ms/step - loss: 0.0668 - accuracy: 0.9790\n",
            "Epoch 82/100\n",
            "469/469 [==============================] - 4s 9ms/step - loss: 0.0668 - accuracy: 0.9791\n",
            "Epoch 83/100\n",
            "469/469 [==============================] - 4s 9ms/step - loss: 0.0641 - accuracy: 0.9788\n",
            "Epoch 84/100\n",
            "469/469 [==============================] - 4s 9ms/step - loss: 0.0657 - accuracy: 0.9793\n",
            "Epoch 85/100\n",
            "469/469 [==============================] - 4s 9ms/step - loss: 0.0616 - accuracy: 0.9799\n",
            "Epoch 86/100\n",
            "469/469 [==============================] - 4s 9ms/step - loss: 0.0638 - accuracy: 0.9797\n",
            "Epoch 87/100\n",
            "469/469 [==============================] - 4s 9ms/step - loss: 0.0613 - accuracy: 0.9807\n",
            "Epoch 88/100\n",
            "469/469 [==============================] - 4s 9ms/step - loss: 0.0628 - accuracy: 0.9800\n",
            "Epoch 89/100\n",
            "469/469 [==============================] - 4s 9ms/step - loss: 0.0607 - accuracy: 0.9814\n",
            "Epoch 90/100\n",
            "469/469 [==============================] - 4s 9ms/step - loss: 0.0616 - accuracy: 0.9800\n",
            "Epoch 91/100\n",
            "469/469 [==============================] - 4s 9ms/step - loss: 0.0572 - accuracy: 0.9815\n",
            "Epoch 92/100\n",
            "469/469 [==============================] - 4s 9ms/step - loss: 0.0593 - accuracy: 0.9810\n",
            "Epoch 93/100\n",
            "469/469 [==============================] - 4s 9ms/step - loss: 0.0603 - accuracy: 0.9813\n",
            "Epoch 94/100\n",
            "469/469 [==============================] - 4s 9ms/step - loss: 0.0591 - accuracy: 0.9819\n",
            "Epoch 95/100\n",
            "469/469 [==============================] - 4s 9ms/step - loss: 0.0601 - accuracy: 0.9811\n",
            "Epoch 96/100\n",
            "469/469 [==============================] - 4s 9ms/step - loss: 0.0563 - accuracy: 0.9821\n",
            "Epoch 97/100\n",
            "469/469 [==============================] - 4s 9ms/step - loss: 0.0533 - accuracy: 0.9827\n",
            "Epoch 98/100\n",
            "469/469 [==============================] - 4s 9ms/step - loss: 0.0558 - accuracy: 0.9829\n",
            "Epoch 99/100\n",
            "469/469 [==============================] - 4s 9ms/step - loss: 0.0553 - accuracy: 0.9827\n",
            "Epoch 100/100\n",
            "469/469 [==============================] - 4s 9ms/step - loss: 0.0552 - accuracy: 0.9825\n"
          ]
        },
        {
          "data": {
            "text/plain": [
              "<keras.callbacks.History at 0x7fc2d206add0>"
            ]
          },
          "execution_count": 49,
          "metadata": {},
          "output_type": "execute_result"
        }
      ],
      "source": [
        "from keras.datasets import fashion_mnist\n",
        "from traitlets.traitlets import inspect\n",
        "from keras.datasets import mnist\n",
        "import matplotlib.pyplot as mlp\n",
        "from keras import models\n",
        "from keras import layers\n",
        "from keras.utils import to_categorical\n",
        "from keras.metrics import metrics\n",
        "from keras.layers.serialization import activation\n",
        "(x_train,y_train),(x_test,y_test) = fashion_mnist.load_data()\n",
        "Class_names = ['T-skirt/Tip','Trousers','pullover','dress','coat','sandal','shirt','sneaker','bag','ankle boot']\n",
        "mlp.imshow(x_train[2])\n",
        "mlp.show()\n",
        "print(Class_names[y_train[123]])\n",
        "\n",
        "model = models.Sequential()\n",
        "model.add(layers.Dense(512,activation='relu',input_shape=(28*28,)))\n",
        "model.add(layers.Dense(10,activation='softmax'))\n",
        "model.summary()\n",
        "x_train=x_train.reshape((60000,28*28))\n",
        "x_train=x_train.astype('float32')/255\n",
        "x_test=x_test.reshape((10000,28*28))\n",
        "y_test=y_test.astype('float32')/255\n",
        "y_train=to_categorical(y_train)\n",
        "y_test=to_categorical(y_test)\n",
        "model.compile(optimizer = 'rmsprop', loss = 'categorical_crossentropy', metrics = ['accuracy'])\n",
        "model.fit(x_train,y_train,epochs=100,batch_size=128)"
      ]
    },
    {
      "cell_type": "code",
      "execution_count": null,
      "metadata": {
        "id": "mqIrce3wP7aU",
        "colab": {
          "base_uri": "https://localhost:8080/",
          "height": 244
        },
        "outputId": "af4e193f-2682-4998-b9d1-a2acf94077ef"
      },
      "outputs": [
        {
          "output_type": "error",
          "ename": "NameError",
          "evalue": "ignored",
          "traceback": [
            "\u001b[0;31m---------------------------------------------------------------------------\u001b[0m",
            "\u001b[0;31mNameError\u001b[0m                                 Traceback (most recent call last)",
            "\u001b[0;32m<ipython-input-2-42de4ec8885f>\u001b[0m in \u001b[0;36m<module>\u001b[0;34m\u001b[0m\n\u001b[1;32m      3\u001b[0m \u001b[0;32mimport\u001b[0m \u001b[0mnumpy\u001b[0m \u001b[0;32mas\u001b[0m \u001b[0mnp\u001b[0m\u001b[0;34m\u001b[0m\u001b[0;34m\u001b[0m\u001b[0m\n\u001b[1;32m      4\u001b[0m \u001b[0mimg\u001b[0m \u001b[0;34m=\u001b[0m \u001b[0mload_img\u001b[0m\u001b[0;34m(\u001b[0m\u001b[0;34m'hinhanh.jpg'\u001b[0m\u001b[0;34m,\u001b[0m \u001b[0mtarget_size\u001b[0m \u001b[0;34m=\u001b[0m \u001b[0;34m(\u001b[0m\u001b[0;36m28\u001b[0m\u001b[0;34m,\u001b[0m\u001b[0;36m28\u001b[0m\u001b[0;34m)\u001b[0m\u001b[0;34m)\u001b[0m\u001b[0;34m\u001b[0m\u001b[0;34m\u001b[0m\u001b[0m\n\u001b[0;32m----> 5\u001b[0;31m \u001b[0mplt\u001b[0m\u001b[0;34m.\u001b[0m\u001b[0mimshow\u001b[0m\u001b[0;34m(\u001b[0m\u001b[0mimg\u001b[0m\u001b[0;34m)\u001b[0m\u001b[0;34m\u001b[0m\u001b[0;34m\u001b[0m\u001b[0m\n\u001b[0m\u001b[1;32m      6\u001b[0m \u001b[0mimg\u001b[0m \u001b[0;34m=\u001b[0m \u001b[0mimg_to_array\u001b[0m\u001b[0;34m(\u001b[0m\u001b[0mimg\u001b[0m\u001b[0;34m)\u001b[0m\u001b[0;34m\u001b[0m\u001b[0;34m\u001b[0m\u001b[0m\n\u001b[1;32m      7\u001b[0m \u001b[0mimg\u001b[0m \u001b[0;34m=\u001b[0m \u001b[0mimg\u001b[0m\u001b[0;34m.\u001b[0m\u001b[0mreshape\u001b[0m\u001b[0;34m(\u001b[0m\u001b[0;36m1\u001b[0m\u001b[0;34m,\u001b[0m\u001b[0;36m28\u001b[0m\u001b[0;34m,\u001b[0m\u001b[0;36m28\u001b[0m\u001b[0;34m,\u001b[0m\u001b[0;36m3\u001b[0m\u001b[0;34m)\u001b[0m\u001b[0;34m\u001b[0m\u001b[0;34m\u001b[0m\u001b[0m\n",
            "\u001b[0;31mNameError\u001b[0m: name 'plt' is not defined"
          ]
        }
      ],
      "source": [
        "from keras.utils import load_img\n",
        "from keras.utils import img_to_array\n",
        "import numpy as np\n",
        "img = load_img('hinhanh.jpg', target_size = (28,28))\n",
        "plt.imshow(img)\n",
        "img = img_to_array(img)\n",
        "img = img.reshape(1,28,28,3)\n",
        "img = img.astype('float32')\n",
        "img = img/255\n",
        "np.argmax(model.predict(img),axis = 1)\n",
        "\n"
      ]
    }
  ],
  "metadata": {
    "colab": {
      "collapsed_sections": [],
      "provenance": [],
      "authorship_tag": "ABX9TyNyxBjHsQwrOAyQ4x54db6I",
      "include_colab_link": true
    },
    "kernelspec": {
      "display_name": "Python 3",
      "name": "python3"
    },
    "language_info": {
      "name": "python"
    }
  },
  "nbformat": 4,
  "nbformat_minor": 0
}