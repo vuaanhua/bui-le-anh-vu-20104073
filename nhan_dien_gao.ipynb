{
  "cells": [
    {
      "cell_type": "markdown",
      "metadata": {
        "id": "view-in-github",
        "colab_type": "text"
      },
      "source": [
        "<a href=\"https://colab.research.google.com/github/vuaanhua/bui-le-anh-vu-20104073/blob/main/nhan_dien_gao.ipynb\" target=\"_parent\"><img src=\"https://colab.research.google.com/assets/colab-badge.svg\" alt=\"Open In Colab\"/></a>"
      ]
    },
    {
      "cell_type": "code",
      "execution_count": 1,
      "metadata": {
        "id": "L-QPArI9A0To"
      },
      "outputs": [],
      "source": [
        "from sklearn.model_selection import train_test_split\n",
        "import matplotlib.pyplot as plt\n",
        "import os\n",
        "import numpy as np\n",
        "import tensorflow as tf\n",
        "from keras.utils import np_utils\n",
        "from keras.models import Sequential\n",
        "from keras.layers import Dense, Activation, Dropout, Conv2D, MaxPooling2D, Flatten\n",
        "from tensorflow.keras.optimizers import SGD, RMSprop\n",
        "from keras.callbacks import EarlyStopping, ModelCheckpoint\n",
        "from sklearn.utils import validation \n",
        "from sklearn import preprocessing\n",
        "from tensorflow.keras.utils import to_categorical\n",
        "from tensorflow.keras.models import load_model\n",
        "from tensorflow.keras.utils import load_img, img_to_array\n",
        "from tensorflow.keras.preprocessing.image import ImageDataGenerator\n"
      ]
    },
    {
      "cell_type": "code",
      "execution_count": 2,
      "metadata": {
        "id": "zeLJAO6yA7C4"
      },
      "outputs": [],
      "source": [
        "from google.colab import drive"
      ]
    },
    {
      "cell_type": "code",
      "execution_count": 3,
      "metadata": {
        "id": "Mf-Pzym9BGfa",
        "colab": {
          "base_uri": "https://localhost:8080/"
        },
        "outputId": "418e7dcb-f0aa-4e79-83ef-2a2b38c9674c"
      },
      "outputs": [
        {
          "output_type": "stream",
          "name": "stdout",
          "text": [
            "Mounted at /content/drive\n"
          ]
        }
      ],
      "source": [
        "from google.colab import drive\n",
        "drive.mount('/content/drive')"
      ]
    },
    {
      "cell_type": "code",
      "execution_count": 4,
      "metadata": {
        "colab": {
          "base_uri": "https://localhost:8080/"
        },
        "id": "mD_Wt699Cviy",
        "outputId": "3dc96e77-ad74-4439-befe-1cffd0381964"
      },
      "outputs": [
        {
          "output_type": "stream",
          "name": "stdout",
          "text": [
            "/content/drive/My Drive/Colab Notebooks/BTVN5/rice\n"
          ]
        }
      ],
      "source": [
        "%cd /content/drive/My Drive/Colab Notebooks/BTVN5/rice/"
      ]
    },
    {
      "cell_type": "code",
      "execution_count": 5,
      "metadata": {
        "id": "iqFzNYBwC3Ho"
      },
      "outputs": [],
      "source": [
        "train_datagen=ImageDataGenerator(rescale=1./255, shear_range=0.2, zoom_range=0.2, horizontal_flip=True)"
      ]
    },
    {
      "cell_type": "code",
      "execution_count": 6,
      "metadata": {
        "colab": {
          "base_uri": "https://localhost:8080/"
        },
        "id": "tmuSbPc7DyuH",
        "outputId": "e52643b1-7383-4993-8e03-83382ced1b68"
      },
      "outputs": [
        {
          "output_type": "stream",
          "name": "stdout",
          "text": [
            "Found 1560 images belonging to 4 classes.\n"
          ]
        }
      ],
      "source": [
        "training_set=train_datagen.flow_from_directory('/content/drive/MyDrive/Colab Notebooks/BTVN5/rice/train',target_size=(150,150), batch_size=32, class_mode='categorical')"
      ]
    },
    {
      "cell_type": "code",
      "execution_count": 7,
      "metadata": {
        "colab": {
          "base_uri": "https://localhost:8080/"
        },
        "id": "_mMLfJ7XELoP",
        "outputId": "a38a6cdf-3280-4645-d9f1-3e092cb9b762"
      },
      "outputs": [
        {
          "output_type": "stream",
          "name": "stdout",
          "text": [
            "Found 112 images belonging to 4 classes.\n"
          ]
        }
      ],
      "source": [
        "input =train_datagen.flow_from_directory('/content/drive/MyDrive/Colab Notebooks/BTVN5/rice/input',target_size=(150,150), batch_size=32, class_mode='categorical')"
      ]
    },
    {
      "cell_type": "code",
      "execution_count": 8,
      "metadata": {
        "colab": {
          "base_uri": "https://localhost:8080/"
        },
        "id": "sB-_mFuFEVOH",
        "outputId": "1d289be2-a017-4423-b694-8fa28428ba41"
      },
      "outputs": [
        {
          "output_type": "execute_result",
          "data": {
            "text/plain": [
              "{'Basmati': 0, 'Ipsala': 1, 'Jasmine': 2, 'Karacadag': 3}"
            ]
          },
          "metadata": {},
          "execution_count": 8
        }
      ],
      "source": [
        "training_set.class_indices"
      ]
    },
    {
      "cell_type": "code",
      "execution_count": 9,
      "metadata": {
        "colab": {
          "base_uri": "https://localhost:8080/"
        },
        "id": "FmAF6q-aEZJ3",
        "outputId": "94c97e36-dd7f-4a8d-a23c-61e414495ce0"
      },
      "outputs": [
        {
          "output_type": "execute_result",
          "data": {
            "text/plain": [
              "{'Basmati': 0, 'Ipsala': 1, 'Jasmine': 2, 'Karacadag': 3}"
            ]
          },
          "metadata": {},
          "execution_count": 9
        }
      ],
      "source": [
        "input.class_indices"
      ]
    },
    {
      "cell_type": "code",
      "execution_count": 10,
      "metadata": {
        "id": "w-spe2N2EcOX"
      },
      "outputs": [],
      "source": [
        "model = Sequential()\n",
        "model.add(Conv2D(32,(3,3), activation = 'relu', kernel_initializer='he_uniform', input_shape=(150,150,3)))\n",
        "model.add(Conv2D(32,(3,3), activation = 'relu', kernel_initializer='he_uniform', padding = 'same'))\n",
        "model.add(MaxPooling2D(2,2))\n",
        "\n",
        "model.add(Conv2D(64,(3,3), activation='relu', kernel_initializer='he_uniform', padding='same')) \n",
        "model.add(Conv2D(64,(3,3), activation='relu', kernel_initializer='he_uniform', padding='same'))\n",
        "model.add(MaxPooling2D(2,2))\n",
        "\n",
        "model.add(Conv2D(64,(3,3), activation='relu', kernel_initializer='he_uniform', padding='same')) \n",
        "model.add(Conv2D(64,(3,3), activation='relu', kernel_initializer='he_uniform', padding='same'))\n",
        "model.add(MaxPooling2D(2,2))\n",
        "\n",
        "model.add(Conv2D(128,(3,3), activation='relu', kernel_initializer='he_uniform', padding='same')) \n",
        "model.add(Conv2D(128,(3,3), activation='relu', kernel_initializer='he_uniform', padding='same'))\n",
        "model.add(MaxPooling2D(2,2))"
      ]
    },
    {
      "cell_type": "code",
      "execution_count": 11,
      "metadata": {
        "id": "xRYLzsrHEfSI"
      },
      "outputs": [],
      "source": [
        "model.add(Flatten())"
      ]
    },
    {
      "cell_type": "code",
      "execution_count": 12,
      "metadata": {
        "id": "nS0nf1pgEjca"
      },
      "outputs": [],
      "source": [
        "model.add(Dense(128, activation = 'relu', kernel_initializer = 'he_uniform'))\n",
        "model.add(Dropout(0.2))"
      ]
    },
    {
      "cell_type": "code",
      "execution_count": 13,
      "metadata": {
        "colab": {
          "base_uri": "https://localhost:8080/"
        },
        "id": "IHUVV-eyEm3I",
        "outputId": "97332e5f-3be1-446c-dec0-40d2e1b64c08"
      },
      "outputs": [
        {
          "output_type": "stream",
          "name": "stdout",
          "text": [
            "Model: \"sequential\"\n",
            "_________________________________________________________________\n",
            " Layer (type)                Output Shape              Param #   \n",
            "=================================================================\n",
            " conv2d (Conv2D)             (None, 148, 148, 32)      896       \n",
            "                                                                 \n",
            " conv2d_1 (Conv2D)           (None, 148, 148, 32)      9248      \n",
            "                                                                 \n",
            " max_pooling2d (MaxPooling2D  (None, 74, 74, 32)       0         \n",
            " )                                                               \n",
            "                                                                 \n",
            " conv2d_2 (Conv2D)           (None, 74, 74, 64)        18496     \n",
            "                                                                 \n",
            " conv2d_3 (Conv2D)           (None, 74, 74, 64)        36928     \n",
            "                                                                 \n",
            " max_pooling2d_1 (MaxPooling  (None, 37, 37, 64)       0         \n",
            " 2D)                                                             \n",
            "                                                                 \n",
            " conv2d_4 (Conv2D)           (None, 37, 37, 64)        36928     \n",
            "                                                                 \n",
            " conv2d_5 (Conv2D)           (None, 37, 37, 64)        36928     \n",
            "                                                                 \n",
            " max_pooling2d_2 (MaxPooling  (None, 18, 18, 64)       0         \n",
            " 2D)                                                             \n",
            "                                                                 \n",
            " conv2d_6 (Conv2D)           (None, 18, 18, 128)       73856     \n",
            "                                                                 \n",
            " conv2d_7 (Conv2D)           (None, 18, 18, 128)       147584    \n",
            "                                                                 \n",
            " max_pooling2d_3 (MaxPooling  (None, 9, 9, 128)        0         \n",
            " 2D)                                                             \n",
            "                                                                 \n",
            " flatten (Flatten)           (None, 10368)             0         \n",
            "                                                                 \n",
            " dense (Dense)               (None, 128)               1327232   \n",
            "                                                                 \n",
            " dropout (Dropout)           (None, 128)               0         \n",
            "                                                                 \n",
            " dense_1 (Dense)             (None, 4)                 516       \n",
            "                                                                 \n",
            "=================================================================\n",
            "Total params: 1,688,612\n",
            "Trainable params: 1,688,612\n",
            "Non-trainable params: 0\n",
            "_________________________________________________________________\n"
          ]
        }
      ],
      "source": [
        "model.add(Dense(4, activation = 'softmax'))\n",
        "model.summary()"
      ]
    },
    {
      "cell_type": "code",
      "source": [
        "model.compile(optimizer = 'adam', loss = 'categorical_crossentropy', metrics = ['accuracy'])"
      ],
      "metadata": {
        "id": "AAz4vRE-Xz4n"
      },
      "execution_count": 15,
      "outputs": []
    },
    {
      "cell_type": "code",
      "execution_count": null,
      "metadata": {
        "colab": {
          "base_uri": "https://localhost:8080/"
        },
        "id": "gBzsnlrtEpqv",
        "outputId": "5f25859d-74ff-4cf1-f820-2f8c19b4813d"
      },
      "outputs": [
        {
          "name": "stdout",
          "output_type": "stream",
          "text": [
            "Epoch 1/50\n",
            "49/49 [==============================] - 734s 15s/step - loss: 1.1866 - accuracy: 0.6026 - val_loss: 1.1214 - val_accuracy: 0.6964\n",
            "Epoch 2/50\n",
            "49/49 [==============================] - 215s 4s/step - loss: 1.3805 - accuracy: 0.3635 - val_loss: 1.4232 - val_accuracy: 0.2857\n",
            "Epoch 3/50\n",
            "49/49 [==============================] - 215s 4s/step - loss: 1.4431 - accuracy: 0.2500 - val_loss: 1.4034 - val_accuracy: 0.2857\n",
            "Epoch 4/50\n",
            "49/49 [==============================] - 216s 4s/step - loss: 1.4222 - accuracy: 0.2500 - val_loss: 1.3924 - val_accuracy: 0.2857\n",
            "Epoch 5/50\n",
            "49/49 [==============================] - 214s 4s/step - loss: 1.4088 - accuracy: 0.2500 - val_loss: 1.3867 - val_accuracy: 0.2857\n",
            "Epoch 6/50\n",
            "49/49 [==============================] - 214s 4s/step - loss: 1.4005 - accuracy: 0.2500 - val_loss: 1.3833 - val_accuracy: 0.2857\n",
            "Epoch 7/50\n",
            "49/49 [==============================] - 214s 4s/step - loss: 1.3950 - accuracy: 0.2500 - val_loss: 1.3821 - val_accuracy: 0.2857\n",
            "Epoch 8/50\n",
            "49/49 [==============================] - 214s 4s/step - loss: 1.3916 - accuracy: 0.2500 - val_loss: 1.3819 - val_accuracy: 0.2857\n",
            "Epoch 9/50\n",
            "49/49 [==============================] - 215s 4s/step - loss: 1.3894 - accuracy: 0.2500 - val_loss: 1.3821 - val_accuracy: 0.2857\n",
            "Epoch 10/50\n",
            "49/49 [==============================] - 215s 4s/step - loss: 1.3882 - accuracy: 0.2500 - val_loss: 1.3827 - val_accuracy: 0.2857\n",
            "Epoch 11/50\n",
            "49/49 [==============================] - 218s 4s/step - loss: 1.3877 - accuracy: 0.2500 - val_loss: 1.3832 - val_accuracy: 0.2857\n",
            "Epoch 12/50\n",
            "49/49 [==============================] - 216s 4s/step - loss: 1.3869 - accuracy: 0.2500 - val_loss: 1.3840 - val_accuracy: 0.2857\n",
            "Epoch 13/50\n",
            "49/49 [==============================] - 213s 4s/step - loss: 1.3868 - accuracy: 0.2353 - val_loss: 1.3844 - val_accuracy: 0.2857\n",
            "Epoch 14/50\n",
            "49/49 [==============================] - 215s 4s/step - loss: 1.3867 - accuracy: 0.2308 - val_loss: 1.3851 - val_accuracy: 0.2857\n",
            "Epoch 15/50\n",
            "49/49 [==============================] - 215s 4s/step - loss: 1.3866 - accuracy: 0.2500 - val_loss: 1.3851 - val_accuracy: 0.2857\n",
            "Epoch 16/50\n",
            "49/49 [==============================] - 214s 4s/step - loss: 1.3865 - accuracy: 0.2500 - val_loss: 1.3855 - val_accuracy: 0.2857\n",
            "Epoch 17/50\n",
            "49/49 [==============================] - 215s 4s/step - loss: 1.3865 - accuracy: 0.2500 - val_loss: 1.3856 - val_accuracy: 0.2857\n",
            "Epoch 18/50\n",
            "49/49 [==============================] - 217s 4s/step - loss: 1.3864 - accuracy: 0.2500 - val_loss: 1.3858 - val_accuracy: 0.2857\n",
            "Epoch 19/50\n",
            "49/49 [==============================] - 216s 4s/step - loss: 1.3867 - accuracy: 0.2301 - val_loss: 1.3862 - val_accuracy: 0.2500\n",
            "Epoch 20/50\n",
            "49/49 [==============================] - 215s 4s/step - loss: 1.3867 - accuracy: 0.2282 - val_loss: 1.3860 - val_accuracy: 0.2500\n",
            "Epoch 21/50\n",
            "49/49 [==============================] - 215s 4s/step - loss: 1.3866 - accuracy: 0.2404 - val_loss: 1.3859 - val_accuracy: 0.2857\n",
            "Epoch 22/50\n",
            "49/49 [==============================] - 216s 4s/step - loss: 1.3865 - accuracy: 0.2385 - val_loss: 1.3862 - val_accuracy: 0.2857\n",
            "Epoch 23/50\n",
            "49/49 [==============================] - 213s 4s/step - loss: 1.3865 - accuracy: 0.2308 - val_loss: 1.3862 - val_accuracy: 0.2857\n",
            "Epoch 24/50\n",
            "49/49 [==============================] - 213s 4s/step - loss: 1.3864 - accuracy: 0.2295 - val_loss: 1.3862 - val_accuracy: 0.2857\n",
            "Epoch 25/50\n",
            "49/49 [==============================] - 214s 4s/step - loss: 1.3865 - accuracy: 0.2333 - val_loss: 1.3862 - val_accuracy: 0.2500\n",
            "Epoch 26/50\n",
            "49/49 [==============================] - 213s 4s/step - loss: 1.3864 - accuracy: 0.2256 - val_loss: 1.3863 - val_accuracy: 0.2500\n",
            "Epoch 27/50\n",
            "49/49 [==============================] - 213s 4s/step - loss: 1.3865 - accuracy: 0.2295 - val_loss: 1.3863 - val_accuracy: 0.2500\n",
            "Epoch 28/50\n",
            "49/49 [==============================] - 213s 4s/step - loss: 1.3865 - accuracy: 0.2359 - val_loss: 1.3866 - val_accuracy: 0.2500\n",
            "Epoch 29/50\n",
            "49/49 [==============================] - 213s 4s/step - loss: 1.3864 - accuracy: 0.2410 - val_loss: 1.3862 - val_accuracy: 0.2857\n",
            "Epoch 30/50\n",
            "49/49 [==============================] - 215s 4s/step - loss: 1.3865 - accuracy: 0.2423 - val_loss: 1.3862 - val_accuracy: 0.2857\n",
            "Epoch 31/50\n",
            "49/49 [==============================] - 212s 4s/step - loss: 1.3866 - accuracy: 0.2423 - val_loss: 1.3863 - val_accuracy: 0.2857\n"
          ]
        }
      ],
      "source": [
        "model.compile(optimizer = 'adam', loss = 'categorical_crossentropy', metrics = ['accuracy'])\n",
        "history = model.fit(training_set, epochs = 50, batch_size=128, verbose = 1, validation_data = input, callbacks = [EarlyStopping(monitor='val_loss', patience=30)])"
      ]
    },
    {
      "cell_type": "code",
      "execution_count": 16,
      "metadata": {
        "colab": {
          "base_uri": "https://localhost:8080/"
        },
        "id": "goLnCaFBEtg-",
        "outputId": "2ccbb6e8-b44d-4e9f-94cd-d3131bb26809"
      },
      "outputs": [
        {
          "output_type": "stream",
          "name": "stdout",
          "text": [
            "train loss 1.4269345998764038\n",
            "train accuracy 0.29615384340286255\n"
          ]
        }
      ],
      "source": [
        "Score = model.evaluate(training_set, verbose = 0)\n",
        "print('train loss', Score[0])\n",
        "print('train accuracy', Score[1])"
      ]
    },
    {
      "cell_type": "code",
      "execution_count": 17,
      "metadata": {
        "id": "n4_Wfk3DEwbn"
      },
      "outputs": [],
      "source": [
        "model.save(\"rice.h5\")"
      ]
    },
    {
      "cell_type": "code",
      "execution_count": 18,
      "metadata": {
        "id": "Db488ik6EysG"
      },
      "outputs": [],
      "source": [
        "model_CNN = load_model('rice.h5')"
      ]
    },
    {
      "cell_type": "code",
      "source": [
        "test= \"/content/drive/MyDrive/Colab Notebooks/BVTN5/rice/test/\"\n",
        "\n",
        "for i in os.listdir(test):\n",
        "  img = load_img(test+'/'+i, target_size=(150,150))\n",
        "  plt.imshow(img)\n",
        "  img=img_to_array(img)\n",
        "  img=img.astype('float32')\n",
        "  img= img/255\n",
        "  img = np.expand_dims(img, axis = 0)\n",
        "  result = model_CNN.predict(img)\n",
        "  if round(result[0][0]) == 1:\n",
        "    prediction = 'Basmati'\n",
        "  if round(result[0][1]) == 1:\n",
        "    prediction = 'Ipsala'\n",
        "  if round(result[0][2]) == 1:\n",
        "    prediction = 'Jasmine'\n",
        "  if round(result[0][3]) == 1:\n",
        "    prediction = 'Karacadag'\n",
        "  \n",
        "    prediction = ''\n",
        "  print(prediction)\n",
        "  plt.show()"
      ],
      "metadata": {
        "id": "N7dmAABoZVqg"
      },
      "execution_count": null,
      "outputs": []
    }
  ],
  "metadata": {
    "colab": {
      "provenance": [],
      "authorship_tag": "ABX9TyNV5W+DcX7riOyEJmsJ83Ic",
      "include_colab_link": true
    },
    "kernelspec": {
      "display_name": "Python 3",
      "name": "python3"
    },
    "language_info": {
      "name": "python"
    }
  },
  "nbformat": 4,
  "nbformat_minor": 0
}