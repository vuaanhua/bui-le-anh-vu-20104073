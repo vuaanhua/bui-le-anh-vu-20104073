{
  "nbformat": 4,
  "nbformat_minor": 0,
  "metadata": {
    "colab": {
      "provenance": [],
      "gpuType": "T4",
      "include_colab_link": true
    },
    "kernelspec": {
      "name": "python3",
      "display_name": "Python 3"
    },
    "language_info": {
      "name": "python"
    },
    "accelerator": "GPU"
  },
  "cells": [
    {
      "cell_type": "markdown",
      "metadata": {
        "id": "view-in-github",
        "colab_type": "text"
      },
      "source": [
        "<a href=\"https://colab.research.google.com/github/vuaanhua/bui-le-anh-vu-20104073/blob/main/Copy_of_nh%E1%BA%ADn_di%C3%AAn_sp_l%E1%BB%97i.ipynb\" target=\"_parent\"><img src=\"https://colab.research.google.com/assets/colab-badge.svg\" alt=\"Open In Colab\"/></a>"
      ]
    },
    {
      "cell_type": "code",
      "execution_count": null,
      "metadata": {
        "id": "RZqb3qGUltKd"
      },
      "outputs": [],
      "source": [
        "from sklearn.model_selection import train_test_split\n",
        "from google.colab import drive\n",
        "import matplotlib.pyplot as plt\n",
        "import os\n",
        "import numpy as np\n",
        "import tensorflow as tf\n",
        "\n",
        "from keras.models import Sequential\n",
        "from keras.layers import Dense, Activation, Dropout, Conv2D, MaxPooling2D, Flatten\n",
        "from tensorflow.keras.optimizers import SGD, RMSprop\n",
        "from keras.callbacks import EarlyStopping, ModelCheckpoint\n",
        "from sklearn.utils import validation\n",
        "from sklearn import preprocessing\n",
        "from tensorflow.keras.utils import to_categorical\n",
        "from tensorflow.keras.models import load_model\n",
        "from tensorflow.keras.utils import load_img, img_to_array\n",
        "from tensorflow.keras.preprocessing.image import ImageDataGenerator\n",
        "\n"
      ]
    },
    {
      "cell_type": "code",
      "source": [
        "drive.mount('/content/drive')\n"
      ],
      "metadata": {
        "colab": {
          "base_uri": "https://localhost:8080/"
        },
        "id": "LDQwtoJhxJmX",
        "outputId": "70386f07-3a6f-4585-ba18-90e2e3afad3f"
      },
      "execution_count": null,
      "outputs": [
        {
          "output_type": "stream",
          "name": "stdout",
          "text": [
            "Mounted at /content/drive\n"
          ]
        }
      ]
    },
    {
      "cell_type": "code",
      "source": [
        "%cd /content/drive/MyDrive/Colab Notebooks/NHANDIENSPLOI"
      ],
      "metadata": {
        "colab": {
          "base_uri": "https://localhost:8080/"
        },
        "id": "Cg9V75lKxYv7",
        "outputId": "602d589f-6686-4407-89bd-1456757d0393"
      },
      "execution_count": null,
      "outputs": [
        {
          "output_type": "stream",
          "name": "stdout",
          "text": [
            "/content/drive/MyDrive/Colab Notebooks/NHANDIENSPLOI\n"
          ]
        }
      ]
    },
    {
      "cell_type": "code",
      "source": [
        "train_datagen=ImageDataGenerator(rescale=1./255, shear_range=0.2, zoom_range=0.2, horizontal_flip=True)"
      ],
      "metadata": {
        "id": "otmQU5dPxzTX"
      },
      "execution_count": null,
      "outputs": []
    },
    {
      "cell_type": "code",
      "source": [
        "training_set=train_datagen.flow_from_directory('/content/drive/MyDrive/Colab Notebooks/NHANDIENSPLOI/train',target_size=(150,150), batch_size=32, class_mode='categorical')"
      ],
      "metadata": {
        "colab": {
          "base_uri": "https://localhost:8080/"
        },
        "id": "YYnkTRn4x1HU",
        "outputId": "efb52c37-522c-4ba5-ee01-1a5307ac17de"
      },
      "execution_count": null,
      "outputs": [
        {
          "output_type": "stream",
          "name": "stdout",
          "text": [
            "Found 78 images belonging to 6 classes.\n"
          ]
        }
      ]
    },
    {
      "cell_type": "code",
      "source": [
        "input =train_datagen.flow_from_directory('/content/drive/MyDrive/Colab Notebooks/NHANDIENSPLOI/input',target_size=(150,150), batch_size=32, class_mode='categorical')"
      ],
      "metadata": {
        "colab": {
          "base_uri": "https://localhost:8080/"
        },
        "id": "LJa4mbSl0T62",
        "outputId": "ee441d3f-a81b-4b73-9e92-4ef946adf1fa"
      },
      "execution_count": null,
      "outputs": [
        {
          "output_type": "stream",
          "name": "stdout",
          "text": [
            "Found 157 images belonging to 6 classes.\n"
          ]
        }
      ]
    },
    {
      "cell_type": "code",
      "source": [
        "training_set.class_indices"
      ],
      "metadata": {
        "colab": {
          "base_uri": "https://localhost:8080/"
        },
        "id": "d8lSKjUN0k3N",
        "outputId": "bb428761-9d8e-465b-a0c3-cde0df8f29f8"
      },
      "execution_count": null,
      "outputs": [
        {
          "output_type": "execute_result",
          "data": {
            "text/plain": [
              "{'0193-A chua dinh tam': 0,\n",
              " '1221-A Mặt cắt 6,840': 1,\n",
              " '1221-A Mặt cắt 6,845': 2,\n",
              " '1221-A co bac phi': 3,\n",
              " '1221-A co duoi chuot': 4,\n",
              " '590-221 loi mat cat': 5}"
            ]
          },
          "metadata": {},
          "execution_count": 8
        }
      ]
    },
    {
      "cell_type": "code",
      "source": [
        "input.class_indices"
      ],
      "metadata": {
        "colab": {
          "base_uri": "https://localhost:8080/"
        },
        "id": "86Dfj81n0rSN",
        "outputId": "08a06aea-1396-4f61-8f89-c2fc0a289bfb"
      },
      "execution_count": null,
      "outputs": [
        {
          "output_type": "execute_result",
          "data": {
            "text/plain": [
              "{'0193-A chua dinh tam': 0,\n",
              " '1221-A Mặt cắt 6,840': 1,\n",
              " '1221-A Mặt cắt 6,845': 2,\n",
              " '1221-A co bac phi': 3,\n",
              " '1221-A co duoi chuot': 4,\n",
              " '590-221 loi mat cat': 5}"
            ]
          },
          "metadata": {},
          "execution_count": 9
        }
      ]
    },
    {
      "cell_type": "code",
      "source": [
        "model = Sequential()\n",
        "model.add(Conv2D(32,(3,3), activation = 'relu', kernel_initializer='he_uniform', input_shape=(150,150,3)))\n",
        "model.add(Conv2D(32,(3,3), activation = 'relu', kernel_initializer='he_uniform', padding = 'same'))\n",
        "model.add(MaxPooling2D(2,2))\n",
        "\n",
        "model.add(Conv2D(64,(3,3), activation='relu', kernel_initializer='he_uniform', padding='same'))\n",
        "model.add(Conv2D(64,(3,3), activation='relu', kernel_initializer='he_uniform', padding='same'))\n",
        "model.add(MaxPooling2D(2,2))\n",
        "\n",
        "model.add(Conv2D(64,(3,3), activation='relu', kernel_initializer='he_uniform', padding='same'))\n",
        "model.add(Conv2D(64,(3,3), activation='relu', kernel_initializer='he_uniform', padding='same'))\n",
        "model.add(MaxPooling2D(2,2))\n",
        "\n",
        "model.add(Conv2D(128,(3,3), activation='relu', kernel_initializer='he_uniform', padding='same'))\n",
        "model.add(Conv2D(128,(3,3), activation='relu', kernel_initializer='he_uniform', padding='same'))\n",
        "model.add(MaxPooling2D(2,2))"
      ],
      "metadata": {
        "id": "qGfed34A0wAc"
      },
      "execution_count": null,
      "outputs": []
    },
    {
      "cell_type": "code",
      "source": [
        "model.add(Flatten())\n"
      ],
      "metadata": {
        "id": "tk--91cI00CK"
      },
      "execution_count": null,
      "outputs": []
    },
    {
      "cell_type": "code",
      "source": [
        "model.add(Dense(128, activation = 'relu', kernel_initializer = 'he_uniform'))\n",
        "model.add(Dropout(0.2))"
      ],
      "metadata": {
        "id": "ug6SDyU302ja"
      },
      "execution_count": null,
      "outputs": []
    },
    {
      "cell_type": "code",
      "source": [
        "model.add(Dense(6, activation = 'softmax'))\n",
        "model.summary()"
      ],
      "metadata": {
        "colab": {
          "base_uri": "https://localhost:8080/"
        },
        "id": "6JsYYsML05la",
        "outputId": "8b017adf-ac06-42c2-ae89-edafb198da0f"
      },
      "execution_count": null,
      "outputs": [
        {
          "output_type": "stream",
          "name": "stdout",
          "text": [
            "Model: \"sequential\"\n",
            "_________________________________________________________________\n",
            " Layer (type)                Output Shape              Param #   \n",
            "=================================================================\n",
            " conv2d (Conv2D)             (None, 148, 148, 32)      896       \n",
            "                                                                 \n",
            " conv2d_1 (Conv2D)           (None, 148, 148, 32)      9248      \n",
            "                                                                 \n",
            " max_pooling2d (MaxPooling2  (None, 74, 74, 32)        0         \n",
            " D)                                                              \n",
            "                                                                 \n",
            " conv2d_2 (Conv2D)           (None, 74, 74, 64)        18496     \n",
            "                                                                 \n",
            " conv2d_3 (Conv2D)           (None, 74, 74, 64)        36928     \n",
            "                                                                 \n",
            " max_pooling2d_1 (MaxPoolin  (None, 37, 37, 64)        0         \n",
            " g2D)                                                            \n",
            "                                                                 \n",
            " conv2d_4 (Conv2D)           (None, 37, 37, 64)        36928     \n",
            "                                                                 \n",
            " conv2d_5 (Conv2D)           (None, 37, 37, 64)        36928     \n",
            "                                                                 \n",
            " max_pooling2d_2 (MaxPoolin  (None, 18, 18, 64)        0         \n",
            " g2D)                                                            \n",
            "                                                                 \n",
            " conv2d_6 (Conv2D)           (None, 18, 18, 128)       73856     \n",
            "                                                                 \n",
            " conv2d_7 (Conv2D)           (None, 18, 18, 128)       147584    \n",
            "                                                                 \n",
            " max_pooling2d_3 (MaxPoolin  (None, 9, 9, 128)         0         \n",
            " g2D)                                                            \n",
            "                                                                 \n",
            " flatten (Flatten)           (None, 10368)             0         \n",
            "                                                                 \n",
            " dense (Dense)               (None, 128)               1327232   \n",
            "                                                                 \n",
            " dropout (Dropout)           (None, 128)               0         \n",
            "                                                                 \n",
            " dense_1 (Dense)             (None, 6)                 774       \n",
            "                                                                 \n",
            "=================================================================\n",
            "Total params: 1688870 (6.44 MB)\n",
            "Trainable params: 1688870 (6.44 MB)\n",
            "Non-trainable params: 0 (0.00 Byte)\n",
            "_________________________________________________________________\n"
          ]
        }
      ]
    },
    {
      "cell_type": "code",
      "source": [
        "model.compile(optimizer='adam',loss='categorical_crossentropy',metrics=['accuracy'])\n",
        "history = model.fit(training_set, epochs = 50, batch_size=128, verbose = 1, validation_data = input, callbacks = [EarlyStopping(monitor='val_loss', patience=30)])"
      ],
      "metadata": {
        "colab": {
          "base_uri": "https://localhost:8080/"
        },
        "id": "3QobrTbg1DRy",
        "outputId": "9f601a1f-6b92-4287-8882-2a9f0be7100f"
      },
      "execution_count": null,
      "outputs": [
        {
          "output_type": "stream",
          "name": "stdout",
          "text": [
            "Epoch 1/50\n",
            "3/3 [==============================] - 74s 27s/step - loss: 6.4332 - accuracy: 0.4103 - val_loss: 2.0287 - val_accuracy: 0.1529\n",
            "Epoch 2/50\n",
            "3/3 [==============================] - 18s 8s/step - loss: 1.4566 - accuracy: 0.4487 - val_loss: 1.7772 - val_accuracy: 0.2994\n",
            "Epoch 3/50\n",
            "3/3 [==============================] - 19s 8s/step - loss: 1.2957 - accuracy: 0.6026 - val_loss: 1.8242 - val_accuracy: 0.2994\n",
            "Epoch 4/50\n",
            "3/3 [==============================] - 17s 7s/step - loss: 1.2360 - accuracy: 0.6026 - val_loss: 2.0011 - val_accuracy: 0.2994\n",
            "Epoch 5/50\n",
            "3/3 [==============================] - 26s 12s/step - loss: 1.2288 - accuracy: 0.6026 - val_loss: 1.8436 - val_accuracy: 0.2994\n",
            "Epoch 6/50\n",
            "3/3 [==============================] - 17s 7s/step - loss: 1.1848 - accuracy: 0.6026 - val_loss: 1.8936 - val_accuracy: 0.2994\n",
            "Epoch 7/50\n",
            "3/3 [==============================] - 16s 8s/step - loss: 1.1450 - accuracy: 0.6026 - val_loss: 2.0918 - val_accuracy: 0.2994\n",
            "Epoch 8/50\n",
            "3/3 [==============================] - 18s 8s/step - loss: 1.0192 - accuracy: 0.6026 - val_loss: 1.6577 - val_accuracy: 0.3185\n",
            "Epoch 9/50\n",
            "3/3 [==============================] - 17s 8s/step - loss: 0.8627 - accuracy: 0.6410 - val_loss: 1.9524 - val_accuracy: 0.3694\n",
            "Epoch 10/50\n",
            "3/3 [==============================] - 17s 8s/step - loss: 0.8628 - accuracy: 0.6410 - val_loss: 1.5354 - val_accuracy: 0.3949\n",
            "Epoch 11/50\n",
            "3/3 [==============================] - 26s 12s/step - loss: 0.8274 - accuracy: 0.7308 - val_loss: 1.6982 - val_accuracy: 0.4586\n",
            "Epoch 12/50\n",
            "3/3 [==============================] - 18s 8s/step - loss: 0.7681 - accuracy: 0.7051 - val_loss: 1.3796 - val_accuracy: 0.5605\n",
            "Epoch 13/50\n",
            "3/3 [==============================] - 18s 7s/step - loss: 0.7270 - accuracy: 0.7051 - val_loss: 1.5889 - val_accuracy: 0.5414\n",
            "Epoch 14/50\n",
            "3/3 [==============================] - 16s 7s/step - loss: 0.6529 - accuracy: 0.7051 - val_loss: 1.7261 - val_accuracy: 0.4076\n",
            "Epoch 15/50\n",
            "3/3 [==============================] - 18s 9s/step - loss: 0.7346 - accuracy: 0.7051 - val_loss: 1.6579 - val_accuracy: 0.5414\n",
            "Epoch 16/50\n",
            "3/3 [==============================] - 19s 8s/step - loss: 0.6119 - accuracy: 0.7051 - val_loss: 1.4732 - val_accuracy: 0.4968\n",
            "Epoch 17/50\n",
            "3/3 [==============================] - 17s 7s/step - loss: 0.6070 - accuracy: 0.7308 - val_loss: 1.5165 - val_accuracy: 0.5541\n",
            "Epoch 18/50\n",
            "3/3 [==============================] - 16s 8s/step - loss: 0.4548 - accuracy: 0.7821 - val_loss: 1.4322 - val_accuracy: 0.5860\n",
            "Epoch 19/50\n",
            "3/3 [==============================] - 27s 12s/step - loss: 0.4277 - accuracy: 0.8077 - val_loss: 1.5522 - val_accuracy: 0.5414\n",
            "Epoch 20/50\n",
            "3/3 [==============================] - 17s 7s/step - loss: 0.4157 - accuracy: 0.7564 - val_loss: 1.5270 - val_accuracy: 0.5987\n",
            "Epoch 21/50\n",
            "3/3 [==============================] - 17s 7s/step - loss: 0.3799 - accuracy: 0.8077 - val_loss: 1.5623 - val_accuracy: 0.6561\n",
            "Epoch 22/50\n",
            "3/3 [==============================] - 18s 8s/step - loss: 0.3093 - accuracy: 0.8333 - val_loss: 1.6337 - val_accuracy: 0.6306\n",
            "Epoch 23/50\n",
            "3/3 [==============================] - 19s 9s/step - loss: 0.2824 - accuracy: 0.8718 - val_loss: 2.1437 - val_accuracy: 0.5924\n",
            "Epoch 24/50\n",
            "3/3 [==============================] - 17s 7s/step - loss: 0.2655 - accuracy: 0.8718 - val_loss: 2.0211 - val_accuracy: 0.6369\n",
            "Epoch 25/50\n",
            "3/3 [==============================] - 18s 8s/step - loss: 0.3134 - accuracy: 0.8462 - val_loss: 2.3864 - val_accuracy: 0.6242\n",
            "Epoch 26/50\n",
            "3/3 [==============================] - 17s 8s/step - loss: 0.5681 - accuracy: 0.7821 - val_loss: 1.5025 - val_accuracy: 0.5860\n",
            "Epoch 27/50\n",
            "3/3 [==============================] - 18s 8s/step - loss: 0.3358 - accuracy: 0.8590 - val_loss: 1.8406 - val_accuracy: 0.5223\n",
            "Epoch 28/50\n",
            "3/3 [==============================] - 27s 13s/step - loss: 0.3764 - accuracy: 0.8462 - val_loss: 1.8751 - val_accuracy: 0.5096\n",
            "Epoch 29/50\n",
            "3/3 [==============================] - 27s 13s/step - loss: 0.3439 - accuracy: 0.8205 - val_loss: 1.5951 - val_accuracy: 0.5924\n",
            "Epoch 30/50\n",
            "3/3 [==============================] - 18s 8s/step - loss: 0.3225 - accuracy: 0.8590 - val_loss: 1.4647 - val_accuracy: 0.6051\n",
            "Epoch 31/50\n",
            "3/3 [==============================] - 19s 9s/step - loss: 0.2798 - accuracy: 0.8205 - val_loss: 1.5186 - val_accuracy: 0.6497\n",
            "Epoch 32/50\n",
            "3/3 [==============================] - 16s 8s/step - loss: 0.2334 - accuracy: 0.8718 - val_loss: 1.7740 - val_accuracy: 0.6242\n",
            "Epoch 33/50\n",
            "3/3 [==============================] - 16s 7s/step - loss: 0.2118 - accuracy: 0.8846 - val_loss: 1.8016 - val_accuracy: 0.6433\n",
            "Epoch 34/50\n",
            "3/3 [==============================] - 17s 8s/step - loss: 0.1782 - accuracy: 0.9103 - val_loss: 2.1279 - val_accuracy: 0.6624\n",
            "Epoch 35/50\n",
            "3/3 [==============================] - 18s 8s/step - loss: 0.2240 - accuracy: 0.8590 - val_loss: 2.2485 - val_accuracy: 0.6815\n",
            "Epoch 36/50\n",
            "3/3 [==============================] - 18s 8s/step - loss: 0.1821 - accuracy: 0.9103 - val_loss: 2.8212 - val_accuracy: 0.6688\n",
            "Epoch 37/50\n",
            "3/3 [==============================] - 18s 8s/step - loss: 0.1599 - accuracy: 0.9103 - val_loss: 3.4355 - val_accuracy: 0.6688\n",
            "Epoch 38/50\n",
            "3/3 [==============================] - 17s 8s/step - loss: 0.2680 - accuracy: 0.8718 - val_loss: 2.4314 - val_accuracy: 0.6688\n",
            "Epoch 39/50\n",
            "3/3 [==============================] - 27s 12s/step - loss: 0.1886 - accuracy: 0.8718 - val_loss: 1.6416 - val_accuracy: 0.6943\n",
            "Epoch 40/50\n",
            "3/3 [==============================] - 16s 7s/step - loss: 0.2571 - accuracy: 0.8974 - val_loss: 1.5224 - val_accuracy: 0.7197\n",
            "Epoch 41/50\n",
            "3/3 [==============================] - 17s 8s/step - loss: 0.2124 - accuracy: 0.8974 - val_loss: 1.8804 - val_accuracy: 0.6433\n",
            "Epoch 42/50\n",
            "3/3 [==============================] - 18s 8s/step - loss: 0.2205 - accuracy: 0.8974 - val_loss: 1.9862 - val_accuracy: 0.6369\n"
          ]
        }
      ]
    },
    {
      "cell_type": "code",
      "source": [
        "Score = model.evaluate(training_set, verbose = 0)\n",
        "print('train loss', Score[0])\n",
        "print('train accuracy', Score[1])"
      ],
      "metadata": {
        "colab": {
          "base_uri": "https://localhost:8080/"
        },
        "id": "qaBzYaCHTTM9",
        "outputId": "af13fc2f-e552-40f3-dfce-6f47fa55ebae"
      },
      "execution_count": null,
      "outputs": [
        {
          "output_type": "stream",
          "name": "stdout",
          "text": [
            "train loss 0.18768344819545746\n",
            "train accuracy 0.8974359035491943\n"
          ]
        }
      ]
    },
    {
      "cell_type": "code",
      "source": [
        "model.save(\"nhandiensploi.h5\")"
      ],
      "metadata": {
        "id": "ngv8m_MfTdg9"
      },
      "execution_count": null,
      "outputs": []
    },
    {
      "cell_type": "code",
      "source": [
        "model_CNN = load_model('nhandiensploi.h5')"
      ],
      "metadata": {
        "id": "1aGgCFvjTl_N"
      },
      "execution_count": null,
      "outputs": []
    },
    {
      "cell_type": "code",
      "source": [
        "test= \"/content/drive/MyDrive/Colab Notebooks/NHANDIENSPLOI/test/\"\n",
        "\n",
        "for i in os.listdir(test):\n",
        "\n",
        "  img = load_img(test+'/'+i, target_size=(150,150))\n",
        "  plt.imshow(img)\n",
        "  img=img_to_array(img)\n",
        "  img=img.astype('float32')\n",
        "  img= img/255\n",
        "  img = np.expand_dims(img, axis = 0)\n",
        "  result = model_CNN.predict(img)\n",
        "  if round(result[0][0]) == 1:\n",
        "    prediction = '0193-A chua dinh tam'\n",
        "  if round(result[0][1]) == 1:\n",
        "    prediction = '1221-A Mặt cắt 6,840'\n",
        "  if round(result[0][2]) == 1:\n",
        "    prediction = '1221-A Mặt cắt 6,845'\n",
        "  if round(result[0][3]) == 1:\n",
        "    prediction = '1221-A co bac phi'\n",
        "  if round(result[0][4]) == 1:\n",
        "    prediction = '1221-A co duoi chuot'\n",
        "  if round(result[0][5]) == 1:\n",
        "    prediction = '590-221 loi mat cat'\n",
        "\n",
        "\n",
        "  print(prediction)\n",
        "  plt.show()"
      ],
      "metadata": {
        "colab": {
          "base_uri": "https://localhost:8080/",
          "height": 366
        },
        "id": "EdMtUuXfTzBv",
        "outputId": "9a9c53bc-5e65-4c0d-f875-86ed3709e02a"
      },
      "execution_count": null,
      "outputs": [
        {
          "output_type": "error",
          "ename": "IsADirectoryError",
          "evalue": "ignored",
          "traceback": [
            "\u001b[0;31m---------------------------------------------------------------------------\u001b[0m",
            "\u001b[0;31mIsADirectoryError\u001b[0m                         Traceback (most recent call last)",
            "\u001b[0;32m<ipython-input-23-fb592e57a3ec>\u001b[0m in \u001b[0;36m<cell line: 3>\u001b[0;34m()\u001b[0m\n\u001b[1;32m      3\u001b[0m \u001b[0;32mfor\u001b[0m \u001b[0mi\u001b[0m \u001b[0;32min\u001b[0m \u001b[0mos\u001b[0m\u001b[0;34m.\u001b[0m\u001b[0mlistdir\u001b[0m\u001b[0;34m(\u001b[0m\u001b[0mtest\u001b[0m\u001b[0;34m)\u001b[0m\u001b[0;34m:\u001b[0m\u001b[0;34m\u001b[0m\u001b[0;34m\u001b[0m\u001b[0m\n\u001b[1;32m      4\u001b[0m \u001b[0;34m\u001b[0m\u001b[0m\n\u001b[0;32m----> 5\u001b[0;31m   \u001b[0mimg\u001b[0m \u001b[0;34m=\u001b[0m \u001b[0mload_img\u001b[0m\u001b[0;34m(\u001b[0m\u001b[0mtest\u001b[0m\u001b[0;34m+\u001b[0m\u001b[0;34m'/'\u001b[0m\u001b[0;34m+\u001b[0m\u001b[0mi\u001b[0m\u001b[0;34m,\u001b[0m \u001b[0mtarget_size\u001b[0m\u001b[0;34m=\u001b[0m\u001b[0;34m(\u001b[0m\u001b[0;36m150\u001b[0m\u001b[0;34m,\u001b[0m\u001b[0;36m150\u001b[0m\u001b[0;34m)\u001b[0m\u001b[0;34m)\u001b[0m\u001b[0;34m\u001b[0m\u001b[0;34m\u001b[0m\u001b[0m\n\u001b[0m\u001b[1;32m      6\u001b[0m   \u001b[0mplt\u001b[0m\u001b[0;34m.\u001b[0m\u001b[0mimshow\u001b[0m\u001b[0;34m(\u001b[0m\u001b[0mimg\u001b[0m\u001b[0;34m)\u001b[0m\u001b[0;34m\u001b[0m\u001b[0;34m\u001b[0m\u001b[0m\n\u001b[1;32m      7\u001b[0m   \u001b[0mimg\u001b[0m\u001b[0;34m=\u001b[0m\u001b[0mimg_to_array\u001b[0m\u001b[0;34m(\u001b[0m\u001b[0mimg\u001b[0m\u001b[0;34m)\u001b[0m\u001b[0;34m\u001b[0m\u001b[0;34m\u001b[0m\u001b[0m\n",
            "\u001b[0;32m/usr/local/lib/python3.10/dist-packages/keras/src/utils/image_utils.py\u001b[0m in \u001b[0;36mload_img\u001b[0;34m(path, grayscale, color_mode, target_size, interpolation, keep_aspect_ratio)\u001b[0m\n\u001b[1;32m    420\u001b[0m         \u001b[0;32mif\u001b[0m \u001b[0misinstance\u001b[0m\u001b[0;34m(\u001b[0m\u001b[0mpath\u001b[0m\u001b[0;34m,\u001b[0m \u001b[0mpathlib\u001b[0m\u001b[0;34m.\u001b[0m\u001b[0mPath\u001b[0m\u001b[0;34m)\u001b[0m\u001b[0;34m:\u001b[0m\u001b[0;34m\u001b[0m\u001b[0;34m\u001b[0m\u001b[0m\n\u001b[1;32m    421\u001b[0m             \u001b[0mpath\u001b[0m \u001b[0;34m=\u001b[0m \u001b[0mstr\u001b[0m\u001b[0;34m(\u001b[0m\u001b[0mpath\u001b[0m\u001b[0;34m.\u001b[0m\u001b[0mresolve\u001b[0m\u001b[0;34m(\u001b[0m\u001b[0;34m)\u001b[0m\u001b[0;34m)\u001b[0m\u001b[0;34m\u001b[0m\u001b[0;34m\u001b[0m\u001b[0m\n\u001b[0;32m--> 422\u001b[0;31m         \u001b[0;32mwith\u001b[0m \u001b[0mopen\u001b[0m\u001b[0;34m(\u001b[0m\u001b[0mpath\u001b[0m\u001b[0;34m,\u001b[0m \u001b[0;34m\"rb\"\u001b[0m\u001b[0;34m)\u001b[0m \u001b[0;32mas\u001b[0m \u001b[0mf\u001b[0m\u001b[0;34m:\u001b[0m\u001b[0;34m\u001b[0m\u001b[0;34m\u001b[0m\u001b[0m\n\u001b[0m\u001b[1;32m    423\u001b[0m             \u001b[0mimg\u001b[0m \u001b[0;34m=\u001b[0m \u001b[0mpil_image\u001b[0m\u001b[0;34m.\u001b[0m\u001b[0mopen\u001b[0m\u001b[0;34m(\u001b[0m\u001b[0mio\u001b[0m\u001b[0;34m.\u001b[0m\u001b[0mBytesIO\u001b[0m\u001b[0;34m(\u001b[0m\u001b[0mf\u001b[0m\u001b[0;34m.\u001b[0m\u001b[0mread\u001b[0m\u001b[0;34m(\u001b[0m\u001b[0;34m)\u001b[0m\u001b[0;34m)\u001b[0m\u001b[0;34m)\u001b[0m\u001b[0;34m\u001b[0m\u001b[0;34m\u001b[0m\u001b[0m\n\u001b[1;32m    424\u001b[0m     \u001b[0;32melse\u001b[0m\u001b[0;34m:\u001b[0m\u001b[0;34m\u001b[0m\u001b[0;34m\u001b[0m\u001b[0m\n",
            "\u001b[0;31mIsADirectoryError\u001b[0m: [Errno 21] Is a directory: '/content/drive/MyDrive/Colab Notebooks/NHANDIENSPLOI/test//0193-A chua dinh tam'"
          ]
        }
      ]
    }
  ]
}